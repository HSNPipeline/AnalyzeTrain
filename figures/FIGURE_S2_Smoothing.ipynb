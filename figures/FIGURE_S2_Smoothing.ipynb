{
 "cells": [
  {
   "cell_type": "markdown",
   "id": "f0461af7",
   "metadata": {},
   "source": [
    "## Effect of Smoothing\n",
    "-  Examines impact of spatial/temporal smoothing on place cell detection\n",
    "- Analyzes how smoothing affects spatial information score and ANOVA F-statistics\n"
   ]
  },
  {
   "cell_type": "code",
   "execution_count": 1,
   "id": "a2e3f42c",
   "metadata": {},
   "outputs": [],
   "source": [
    "import numpy as np\n",
    "import pandas as pd\n",
    "import matplotlib.pyplot as plt\n",
    "\n",
    "from convnwb.io import get_files, load_jsons_to_df\n",
    "from scipy.stats import binom_test\n",
    "\n",
    "from spiketools.plts.data import plot_hist\n",
    "from spiketools.plts.utils import make_grid, get_grid_subplot,save_figure\n",
    "from spiketools.plts.style import drop_spines\n",
    "from spiketools.utils.run import create_methods_list"
   ]
  },
  {
   "cell_type": "code",
   "execution_count": 2,
   "id": "cddcffda",
   "metadata": {},
   "outputs": [],
   "source": [
    "import seaborn as sns\n",
    "sns.set_context('talk', font_scale=0.9)"
   ]
  },
  {
   "cell_type": "code",
   "execution_count": 3,
   "id": "cee3c75a",
   "metadata": {},
   "outputs": [],
   "source": [
    "\n",
    "import sys\n",
    "sys.path.append('../scripts')\n",
    "from settings import  PATHS, METHODS"
   ]
  },
  {
   "cell_type": "code",
   "execution_count": 4,
   "id": "8678a9db",
   "metadata": {},
   "outputs": [],
   "source": [
    "results_folder = PATHS['RESULTS'] / 'units'\n",
    "reports_folder = PATHS['REPORTS'] / 'units'\n"
   ]
  },
  {
   "cell_type": "code",
   "execution_count": 5,
   "id": "2c0284c8",
   "metadata": {},
   "outputs": [],
   "source": [
    "# Get the list of files\n",
    "res_files = get_files(results_folder, select='mat')"
   ]
  },
  {
   "cell_type": "code",
   "execution_count": 6,
   "id": "e0a6d1c7",
   "metadata": {},
   "outputs": [],
   "source": [
    "# Collect all unit results together into a dataframe\n",
    "all_results = load_jsons_to_df(res_files, folder=results_folder)"
   ]
  },
  {
   "cell_type": "code",
   "execution_count": 7,
   "id": "e256ffaa",
   "metadata": {},
   "outputs": [
    {
     "data": {
      "text/plain": [
       "Index(['unit_ind', 'session_id', 'label', 'spike_name', 'place_bins',\n",
       "       'spike_position', 'trial_changes', 'trial_Num', 'trial_place_bins',\n",
       "       'place_sem', 'trial_fr', 'fr_bins', 'fr_sem', 's_bins', 'place_info',\n",
       "       'place_fr_info', 'place_anova', 'place_fr_anova',\n",
       "       'place_anova_surr_p_val', 'place_anova_surr_z_score',\n",
       "       'place_info_surr_p_val', 'place_info_surr_z_score',\n",
       "       'place_fr_anova_surr_p_val', 'place_fr_anova_surr_z_score',\n",
       "       'place_fr_info_surr_p_val', 'place_fr_info_surr_z_score'],\n",
       "      dtype='object')"
      ]
     },
     "execution_count": 7,
     "metadata": {},
     "output_type": "execute_result"
    }
   ],
   "source": [
    "# Check the columns\n",
    "all_results.columns"
   ]
  },
  {
   "cell_type": "markdown",
   "id": "e1cbbb88",
   "metadata": {},
   "source": [
    "## Dropped Neurons "
   ]
  },
  {
   "cell_type": "code",
   "execution_count": 8,
   "id": "0f4dd42c",
   "metadata": {},
   "outputs": [
    {
     "name": "stdout",
     "output_type": "stream",
     "text": [
      "Original dataframe shape: (390, 26)\n",
      "Index(['unit_ind', 'session_id', 'label', 'spike_name', 'place_bins',\n",
      "       'spike_position', 'trial_changes', 'trial_Num', 'trial_place_bins',\n",
      "       'place_sem', 'trial_fr', 'fr_bins', 'fr_sem', 's_bins', 'place_info',\n",
      "       'place_fr_info', 'place_anova', 'place_fr_anova',\n",
      "       'place_anova_surr_p_val', 'place_anova_surr_z_score',\n",
      "       'place_info_surr_p_val', 'place_info_surr_z_score',\n",
      "       'place_fr_anova_surr_p_val', 'place_fr_anova_surr_z_score',\n",
      "       'place_fr_info_surr_p_val', 'place_fr_info_surr_z_score'],\n",
      "      dtype='object')\n",
      "\n",
      "Filtered dataframe shape: (298, 27)\n"
     ]
    }
   ],
   "source": [
    "from copy import deepcopy\n",
    "\n",
    "# Display the original dataframe before filtering\n",
    "print(\"Original dataframe shape:\", all_results.shape)\n",
    "print(all_results.columns)\n",
    "all_results['firing_rate'] = all_results['place_bins'].apply(lambda x: np.mean(x))\n",
    "\n",
    "\n",
    "all_results = all_results[all_results['firing_rate'].astype(float) < 20]\n",
    "all_results = all_results[all_results['firing_rate'].astype(float) > .1]\n",
    "# Display the filtered dataframe\n",
    "print(\"\\nFiltered dataframe shape:\", all_results.shape)"
   ]
  },
  {
   "cell_type": "markdown",
   "id": "3fc80563",
   "metadata": {},
   "source": [
    "## Check Results "
   ]
  },
  {
   "cell_type": "code",
   "execution_count": 9,
   "id": "f596b772",
   "metadata": {},
   "outputs": [
    {
     "name": "stdout",
     "output_type": "stream",
     "text": [
      "Total number of cells: 298\n"
     ]
    }
   ],
   "source": [
    "# Get total number of units\n",
    "n_units = len(all_results)\n",
    "print('Total number of cells: {}'.format(n_units))"
   ]
  },
  {
   "cell_type": "code",
   "execution_count": 10,
   "id": "8b7048a3",
   "metadata": {},
   "outputs": [],
   "source": [
    "analyses = create_methods_list(METHODS)\n",
    "# Statistics settings\n",
    "alpha_level = 0.05\n",
    "binom_sidedness = 'greater'    # 'two-sided', 'greater', 'less'"
   ]
  },
  {
   "cell_type": "code",
   "execution_count": 11,
   "id": "306fcbbf",
   "metadata": {},
   "outputs": [],
   "source": [
    "\n",
    "#     print(all_results[f'{analysis}_surr_p_val'])\n",
    "   # Collect numbers of significant cells\n",
    "results = {}\n",
    "for analysis in analyses:\n",
    "    all_results[f'is_{analysis}'] = (all_results[f'{analysis}_surr_p_val'] < alpha_level).values #results[analysis] = sum(all_results['is_' + analysis])"
   ]
  },
  {
   "cell_type": "code",
   "execution_count": 12,
   "id": "4edf78ad",
   "metadata": {},
   "outputs": [],
   "source": [
    "for analysis in analyses:\n",
    "     results[analysis] = sum(all_results['is_' + analysis])"
   ]
  },
  {
   "cell_type": "code",
   "execution_count": 13,
   "id": "bd15aeee",
   "metadata": {},
   "outputs": [
    {
     "name": "stderr",
     "output_type": "stream",
     "text": [
      "/var/folders/tx/9bxcz_2j6m79n4dmyyw6s2zm0000gn/T/ipykernel_49680/2198180662.py:4: DeprecationWarning: 'binom_test' is deprecated in favour of 'binomtest' from version 1.7.0 and will be removed in Scipy 1.12.0.\n",
      "  stats[analysis] = binom_test(results[analysis], n_units, alpha_level, binom_sidedness)\n"
     ]
    }
   ],
   "source": [
    "# Compute significance of the counts of detected neurons\n",
    "stats = {}\n",
    "for analysis in analyses:\n",
    "    stats[analysis] = binom_test(results[analysis], n_units, alpha_level, binom_sidedness)"
   ]
  },
  {
   "cell_type": "code",
   "execution_count": 14,
   "id": "fd1a25c6",
   "metadata": {},
   "outputs": [
    {
     "name": "stdout",
     "output_type": "stream",
     "text": [
      "total cells: 298\n",
      "\n",
      "# place_anova cells:     \t\t 66  (22.15%) \t\t 0.0000\n",
      "# place_info cells:     \t\t 66  (22.15%) \t\t 0.0000\n"
     ]
    }
   ],
   "source": [
    "# Check the number & percent of significant cells per analysis\n",
    "print('total cells: {}\\n'.format( n_units))\n",
    "for analysis in analyses:\n",
    "    print('# {} cells:     \\t\\t{:3d}  ({:5.2f}%) \\t\\t {:.4f}'.format(\\\n",
    "        analysis, results[analysis], results[analysis] / n_units * 100, stats[analysis]))"
   ]
  },
  {
   "cell_type": "markdown",
   "id": "b14dddc4",
   "metadata": {},
   "source": [
    "## Effect of Smoothing"
   ]
  },
  {
   "cell_type": "code",
   "execution_count": 15,
   "id": "09ded340",
   "metadata": {},
   "outputs": [
    {
     "data": {
      "image/png": "[encoded data removed]",
      "text/plain": [
       "<Figure size 800x600 with 4 Axes>"
      ]
     },
     "metadata": {},
     "output_type": "display_data"
    }
   ],
   "source": [
    "\n",
    "grid = make_grid(2, 2, wspace=.5, hspace=.5, figsize=(8, 6))\n",
    "plt.rcParams.update({'font.size': 50})\n",
    "\n",
    "ax = get_grid_subplot(grid, 0, 0)\n",
    "plot_hist(all_results['place_anova'].values, bins=25, color='blue', alpha=0.5, \n",
    "         xlabel='ANOVA F-statistic', ylabel='counts',title = 'Smoothing Applied', ax=ax)\n",
    "ax.set_xlim(-.1, 10)\n",
    "drop_spines(['top','right'],ax=ax)    \n",
    "\n",
    "ax = get_grid_subplot(grid, 1, 0)\n",
    "plot_hist(all_results['place_info'].values, bins=25, color='red', alpha=0.5,\n",
    "         xlabel='Spatial Information', ylabel='counts', ax=ax)\n",
    "ax.set_xlim(-.05, 1)\n",
    "drop_spines(['top','right'],ax=ax)\n",
    "\n",
    "ax = get_grid_subplot(grid, 0, 1)\n",
    "plot_hist(all_results['place_fr_anova'].values, bins=25, color='blue', alpha=0.5,\n",
    "         xlabel='ANOVA F-statistic', ylabel='counts', title = 'Non Smoothing',ax=ax)\n",
    "ax.set_xlim(-.1, 10)\n",
    "drop_spines(['top','right'],ax=ax)\n",
    "\n",
    "ax = get_grid_subplot(grid, 1, 1) \n",
    "plot_hist(all_results['place_fr_info'].values, bins=25, color='red', alpha=0.5,\n",
    "         xlabel='Spatial Information', ylabel='counts', ax=ax)\n",
    "ax.set_xlim(-.05, 1)\n",
    "drop_spines(['top','right'],ax=ax)\n",
    "\n",
    "\n",
    "save_figure('STATS_Distribution_smooth_vs_non_smooth',file_path='/Users/weijiazhang/Plots/PLDM/Human')\n"
   ]
  },
  {
   "cell_type": "code",
   "execution_count": 35,
   "id": "6b4edc38",
   "metadata": {},
   "outputs": [
    {
     "data": {
      "image/png": "[encoded data removed]",
      "text/plain": [
       "<Figure size 600x400 with 2 Axes>"
      ]
     },
     "metadata": {},
     "output_type": "display_data"
    }
   ],
   "source": [
    "# Create a pairwise scatter plot comparing smoothed vs non-smoothed ANOVA F-statistics\n",
    "grid = make_grid(2, 2, wspace=.5, hspace=.5,  figsize=(6, 4),\n",
    "                 )\n",
    "\n",
    "plt.rcParams.update({\n",
    "    'font.family': 'Avenir',\n",
    "    'font.size': 10,\n",
    "    'axes.titlesize': 10,\n",
    "    'axes.labelsize': 10,\n",
    "    'legend.fontsize': 10,\n",
    "    'xtick.labelsize': 8,  # Smaller tick label size\n",
    "    'ytick.labelsize': 8,  # Smaller tick label size\n",
    "    'axes.linewidth': 0.5,  # Reduce the thickness of axis lines\n",
    "    'xtick.major.width': 0.8,  # Thinner x ticks\n",
    "    'ytick.major.width': 0.8,  # Thinner y ticks\n",
    "    'xtick.major.size': 2.0,   # Shorter x ticks\n",
    "    'ytick.major.size': 2.0    # Shorter y ticks\n",
    "})\n",
    "\n",
    "anova_color = '#002FA7'  # Deep blue for ANOVA\n",
    "info_color = '#D92911'   # Deep red for Spatial Inf\n",
    "ax = get_grid_subplot(grid,0,0)\n",
    "ax.scatter(all_results['place_anova'], all_results['place_fr_anova'], alpha=0.5,s = 10,color = anova_color)\n",
    "ax.plot([0, 8], [0, 8], 'k--', alpha=0.5)  # Add identity line\n",
    "# ax.set_xlabel('Smoothed')\n",
    "# ax.set_ylabel('Non-smoothed')\n",
    "# ax.set_title('ANOVA F-statistic')\n",
    "drop_spines(['top','right'])\n",
    "\n",
    "corr = np.corrcoef(all_results['place_anova'], all_results['place_fr_anova'])[0, 1]\n",
    "ax.annotate(f'r = {corr:.3f}', xy=(0.05, 0.75), xycoords='axes fraction' )\n",
    "\n",
    "\n",
    "ax = get_grid_subplot(grid,0,1)\n",
    "ax.scatter(all_results['place_info'], all_results['place_fr_info'], alpha=0.5,s = 10,color = info_color )\n",
    "ax.plot([0, 2], [0, 2], 'k--', alpha=0.5)  # Add identity line\n",
    "# ax.set_xlabel('Smoothed')\n",
    "# ax.set_ylabel('Non-smoothed')\n",
    "# ax.set_title('Spatial Information')\n",
    "drop_spines(['top','right'])\n",
    "\n",
    "corr = np.corrcoef(all_results['place_info'], all_results['place_fr_info'])[0, 1]\n",
    "ax.annotate(f'r = {corr:.3f}', xy=(0.05, 0.75), xycoords='axes fraction' )\n",
    "\n",
    "\n",
    "save_figure('STATS_Pairwise_ANOVA_smooth_vs_non_smooth.pdf', file_path='/Users/weijiazhang/Plots/PLDM/Human')"
   ]
  },
  {
   "cell_type": "code",
   "execution_count": null,
   "id": "a2453ce5",
   "metadata": {},
   "outputs": [],
   "source": []
  },
  {
   "cell_type": "code",
   "execution_count": null,
   "id": "ab932893",
   "metadata": {},
   "outputs": [],
   "source": []
  }
 ],
 "metadata": {
  "kernelspec": {
   "display_name": "base",
   "language": "python",
   "name": "python3"
  },
  "language_info": {
   "codemirror_mode": {
    "name": "ipython",
    "version": 3
   },
   "file_extension": ".py",
   "mimetype": "text/x-python",
   "name": "python",
   "nbconvert_exporter": "python",
   "pygments_lexer": "ipython3",
   "version": "3.11.5"
  },
  "toc": {
   "base_numbering": 1,
   "nav_menu": {},
   "number_sections": true,
   "sideBar": true,
   "skip_h1_title": false,
   "title_cell": "Table of Contents",
   "title_sidebar": "Contents",
   "toc_cell": false,
   "toc_position": {},
   "toc_section_display": true,
   "toc_window_display": true
  }
 },
 "nbformat": 4,
 "nbformat_minor": 5
}
