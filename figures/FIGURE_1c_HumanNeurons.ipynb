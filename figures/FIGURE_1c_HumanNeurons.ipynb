{
 "cells": [
  {
   "cell_type": "markdown",
   "id": "e202cb19",
   "metadata": {},
   "source": [
    "## HUMAN STATS DISTRIBUTION\n",
    "- Plots the distribution of spatial information and ANOVA F-statistics for human place cells\n",
    "- Example Cells"
   ]
  },
  {
   "cell_type": "code",
   "execution_count": 1,
   "id": "a2e3f42c",
   "metadata": {},
   "outputs": [],
   "source": [
    "import numpy as np\n",
    "import matplotlib.pyplot as plt\n",
    "\n",
    "from convnwb.io import get_files, load_jsons_to_df\n",
    "from scipy.stats import binom_test\n",
    "\n",
    "from spiketools.plts.utils import make_grid, get_grid_subplot, save_figure\n",
    "from spiketools.utils.run import create_methods_list"
   ]
  },
  {
   "cell_type": "code",
   "execution_count": 2,
   "id": "cddcffda",
   "metadata": {},
   "outputs": [],
   "source": [
    "import seaborn as sns\n",
    "sns.set_context('talk', font_scale=0.9)"
   ]
  },
  {
   "cell_type": "code",
   "execution_count": 3,
   "id": "cee3c75a",
   "metadata": {},
   "outputs": [],
   "source": [
    "\n",
    "import sys\n",
    "sys.path.append('../code')\n",
    "from plts import plot_raster_with_tuning_curve\n",
    "from pldm_settings import PLOT_PARAMS\n",
    "sys.path.append('../scripts')\n",
    "from settings import PATHS, METHODS\n"
   ]
  },
  {
   "cell_type": "code",
   "execution_count": 4,
   "id": "8678a9db",
   "metadata": {},
   "outputs": [],
   "source": [
    "results_folder = PATHS['RESULTS'] / 'units'\n",
    "reports_folder = PATHS['REPORTS'] / 'units'\n"
   ]
  },
  {
   "cell_type": "code",
   "execution_count": 5,
   "id": "2c0284c8",
   "metadata": {},
   "outputs": [],
   "source": [
    "# Get the list of files\n",
    "res_files = get_files(results_folder, select='mat')"
   ]
  },
  {
   "cell_type": "code",
   "execution_count": 6,
   "id": "e0a6d1c7",
   "metadata": {},
   "outputs": [],
   "source": [
    "# Collect all unit results together into a dataframe\n",
    "all_results = load_jsons_to_df(res_files, folder=results_folder)"
   ]
  },
  {
   "cell_type": "code",
   "execution_count": 7,
   "id": "e256ffaa",
   "metadata": {},
   "outputs": [
    {
     "data": {
      "text/plain": [
       "Index(['unit_ind', 'session_id', 'label', 'spike_name', 'place_bins',\n",
       "       'spike_position', 'trial_changes', 'trial_Num', 'trial_place_bins',\n",
       "       'place_sem', 'trial_fr', 'fr_bins', 'fr_sem', 's_bins', 'place_info',\n",
       "       'place_fr_info', 'place_anova', 'place_fr_anova',\n",
       "       'place_anova_surr_p_val', 'place_anova_surr_z_score',\n",
       "       'place_info_surr_p_val', 'place_info_surr_z_score',\n",
       "       'place_fr_anova_surr_p_val', 'place_fr_anova_surr_z_score',\n",
       "       'place_fr_info_surr_p_val', 'place_fr_info_surr_z_score'],\n",
       "      dtype='object')"
      ]
     },
     "execution_count": 7,
     "metadata": {},
     "output_type": "execute_result"
    }
   ],
   "source": [
    "# Check the columns\n",
    "all_results.columns"
   ]
  },
  {
   "cell_type": "markdown",
   "id": "0dd180d2",
   "metadata": {},
   "source": [
    "## Dropped Neurons "
   ]
  },
  {
   "cell_type": "code",
   "execution_count": 8,
   "id": "15e795a3",
   "metadata": {},
   "outputs": [],
   "source": [
    "from copy import deepcopy\n",
    "all_results['firing_rate'] = all_results['place_bins'].apply(lambda x: np.mean(x))\n",
    "\n",
    "all_results = deepcopy(all_results)\n",
    "\n",
    "all_results = all_results[all_results['firing_rate'].astype(float) < 20]\n",
    "all_results = all_results[all_results['firing_rate'].astype(float) > .1]\n"
   ]
  },
  {
   "cell_type": "markdown",
   "id": "3fc80563",
   "metadata": {},
   "source": [
    "## Check Results "
   ]
  },
  {
   "cell_type": "code",
   "execution_count": 9,
   "id": "f596b772",
   "metadata": {},
   "outputs": [
    {
     "name": "stdout",
     "output_type": "stream",
     "text": [
      "Total number of cells: 298\n"
     ]
    }
   ],
   "source": [
    "# Get total number of units\n",
    "n_units = len(all_results)\n",
    "print('Total number of cells: {}'.format(n_units))"
   ]
  },
  {
   "cell_type": "code",
   "execution_count": 10,
   "id": "8b7048a3",
   "metadata": {},
   "outputs": [],
   "source": [
    "analyses = create_methods_list(METHODS)\n",
    "# Statistics settings\n",
    "alpha_level = 0.05\n",
    "binom_sidedness = 'greater'    # 'two-sided', 'greater', 'less'"
   ]
  },
  {
   "cell_type": "code",
   "execution_count": 11,
   "id": "658efb19",
   "metadata": {},
   "outputs": [],
   "source": [
    "#results_folder = PATHS['RESULTS'] / 'units_matlab'"
   ]
  },
  {
   "cell_type": "code",
   "execution_count": 12,
   "id": "306fcbbf",
   "metadata": {},
   "outputs": [],
   "source": [
    "\n",
    "#     print(all_results[f'{analysis}_surr_p_val'])\n",
    "   # Collect numbers of significant cells\n",
    "results = {}\n",
    "for analysis in analyses:\n",
    "    all_results[f'is_{analysis}'] = (all_results[f'{analysis}_surr_p_val'] < alpha_level).values #results[analysis] = sum(all_results['is_' + analysis])"
   ]
  },
  {
   "cell_type": "code",
   "execution_count": 13,
   "id": "4edf78ad",
   "metadata": {},
   "outputs": [],
   "source": [
    "for analysis in analyses:\n",
    "     results[analysis] = sum(all_results['is_' + analysis])"
   ]
  },
  {
   "cell_type": "code",
   "execution_count": 14,
   "id": "bd15aeee",
   "metadata": {},
   "outputs": [
    {
     "name": "stderr",
     "output_type": "stream",
     "text": [
      "/var/folders/tx/9bxcz_2j6m79n4dmyyw6s2zm0000gn/T/ipykernel_18162/2198180662.py:4: DeprecationWarning: 'binom_test' is deprecated in favour of 'binomtest' from version 1.7.0 and will be removed in Scipy 1.12.0.\n",
      "  stats[analysis] = binom_test(results[analysis], n_units, alpha_level, binom_sidedness)\n"
     ]
    }
   ],
   "source": [
    "# Compute significance of the counts of detected neurons\n",
    "stats = {}\n",
    "for analysis in analyses:\n",
    "    stats[analysis] = binom_test(results[analysis], n_units, alpha_level, binom_sidedness)"
   ]
  },
  {
   "cell_type": "code",
   "execution_count": 15,
   "id": "fd1a25c6",
   "metadata": {},
   "outputs": [
    {
     "name": "stdout",
     "output_type": "stream",
     "text": [
      "total cells: 298\n",
      "\n",
      "# place_anova cells:     \t\t 66  (22.15%) \t\t 0.0000\n",
      "# place_info cells:     \t\t 66  (22.15%) \t\t 0.0000\n",
      "# place_fr_anova cells:     \t\t 44  (14.77%) \t\t 0.0000\n",
      "# place_fr_info cells:     \t\t 48  (16.11%) \t\t 0.0000\n"
     ]
    }
   ],
   "source": [
    "# Check the number & percent of significant cells per analysis\n",
    "print('total cells: {}\\n'.format( n_units))\n",
    "for analysis in analyses:\n",
    "    print('# {} cells:     \\t\\t{:3d}  ({:5.2f}%) \\t\\t {:.4f}'.format(\\\n",
    "        analysis, results[analysis], results[analysis] / n_units * 100, stats[analysis]))"
   ]
  },
  {
   "cell_type": "markdown",
   "id": "b14dddc4",
   "metadata": {},
   "source": [
    "## Group Level Analysis "
   ]
  },
  {
   "cell_type": "code",
   "execution_count": 16,
   "id": "f1efa111",
   "metadata": {},
   "outputs": [],
   "source": [
    "df_cleaned = all_results.dropna()\n",
    "place_info = df_cleaned['place_info']\n",
    "place_anova = df_cleaned['place_anova']\n",
    "place_info_surr_p_val =  df_cleaned['place_info_surr_p_val']\n",
    "place_anova_surr_p_val =  df_cleaned['place_anova_surr_p_val']\n"
   ]
  },
  {
   "cell_type": "code",
   "execution_count": 17,
   "id": "c0f6d38f",
   "metadata": {},
   "outputs": [],
   "source": [
    "SI = all_results['place_info']\n",
    "F = all_results['place_anova']\n",
    "\n",
    "si_pval =  all_results['place_info_surr_p_val']\n",
    "anova_pval =  all_results['place_anova_surr_p_val']"
   ]
  },
  {
   "cell_type": "code",
   "execution_count": 18,
   "id": "22f4df3d",
   "metadata": {},
   "outputs": [
    {
     "data": {
      "text/plain": [
       "66"
      ]
     },
     "execution_count": 18,
     "metadata": {},
     "output_type": "execute_result"
    }
   ],
   "source": [
    "len(F[anova_pval < 0.05])"
   ]
  },
  {
   "cell_type": "code",
   "execution_count": 19,
   "id": "38d1f024",
   "metadata": {},
   "outputs": [],
   "source": [
    "threshold = 0.05"
   ]
  },
  {
   "cell_type": "code",
   "execution_count": 20,
   "id": "d049170e",
   "metadata": {},
   "outputs": [],
   "source": [
    "sorted_anova = all_results.sort_values(by='place_anova', ascending=False)\n",
    "sorted_anova = sorted_anova.reset_index(drop=True)\n",
    "\n",
    "sorted_si = all_results.sort_values(by='place_info', ascending=False)\n",
    "sorted_si = sorted_si.reset_index(drop=True)\n",
    "\n",
    "f_max = sorted_anova.index[1]\n",
    "si_max = sorted_si.index[0]\n",
    "si_median = all_results.index[len(all_results) // 2]-5"
   ]
  },
  {
   "cell_type": "code",
   "execution_count": 21,
   "id": "ff73493a",
   "metadata": {},
   "outputs": [],
   "source": [
    "i = 0"
   ]
  },
  {
   "cell_type": "code",
   "execution_count": 23,
   "id": "437fa11e",
   "metadata": {},
   "outputs": [
    {
     "data": {
      "image/png": "[encoded data removed]",
      "text/plain": [
       "<Figure size 1200x500 with 10 Axes>"
      ]
     },
     "metadata": {},
     "output_type": "display_data"
    }
   ],
   "source": [
    "grid = make_grid(3, 5, wspace=.8, hspace=.8, figsize=(12, 5),\n",
    "                 )\n",
    "\n",
    "plt.rcParams.update(PLOT_PARAMS)\n",
    "\n",
    "ax = get_grid_subplot(grid, 0, 0)\n",
    "plot_raster_with_tuning_curve(sorted_anova,1,ax=ax,raster_color='black',curve_color='red')\n",
    "\n",
    "ax = get_grid_subplot(grid, 0, 1)\n",
    "plot_raster_with_tuning_curve(sorted_anova, 0,raster_color='black',curve_color='red',ax=ax)\n",
    "\n",
    "\n",
    "ax = get_grid_subplot(grid, 0, 2)\n",
    "plot_raster_with_tuning_curve(sorted_anova, 20,raster_color='black',curve_color='red',ax=ax)\n",
    "\n",
    "ax = get_grid_subplot(grid, 0, 3)\n",
    "plot_raster_with_tuning_curve(sorted_anova, 50,raster_color='black',curve_color='red',ax=ax)\n",
    "\n",
    "ax = get_grid_subplot(grid, 0, 4)\n",
    "plot_raster_with_tuning_curve(sorted_anova, 200,raster_color='black',curve_color='red',ax=ax)\n",
    "\n",
    "\n",
    "# Apply thin axis lines to all axes in the figure\n",
    "for ax in plt.gcf().get_axes():\n",
    "    ax.spines['left'].set_linewidth(0.5)\n",
    "    ax.spines['bottom'].set_linewidth(0.5)\n",
    "    ax.tick_params(width=0.5, length=2.0)  # Make sure all tick marks are smaller\n",
    "\n",
    "\n",
    "save_figure('Human_Example_Neurons.pdf', file_path='/Users/weijiazhang/Plots/PLDM/Human')"
   ]
  },
  {
   "cell_type": "code",
   "execution_count": null,
   "id": "1658f433",
   "metadata": {},
   "outputs": [],
   "source": []
  },
  {
   "cell_type": "code",
   "execution_count": null,
   "id": "3d6a6a8a",
   "metadata": {},
   "outputs": [],
   "source": []
  },
  {
   "cell_type": "code",
   "execution_count": null,
   "id": "173d7da8",
   "metadata": {},
   "outputs": [],
   "source": []
  },
  {
   "cell_type": "code",
   "execution_count": null,
   "id": "1dfe9d3a",
   "metadata": {},
   "outputs": [],
   "source": []
  },
  {
   "cell_type": "code",
   "execution_count": null,
   "id": "3dc18185",
   "metadata": {},
   "outputs": [],
   "source": []
  }
 ],
 "metadata": {
  "kernelspec": {
   "display_name": "base",
   "language": "python",
   "name": "python3"
  },
  "language_info": {
   "codemirror_mode": {
    "name": "ipython",
    "version": 3
   },
   "file_extension": ".py",
   "mimetype": "text/x-python",
   "name": "python",
   "nbconvert_exporter": "python",
   "pygments_lexer": "ipython3",
   "version": "3.11.5"
  },
  "toc": {
   "base_numbering": 1,
   "nav_menu": {},
   "number_sections": true,
   "sideBar": true,
   "skip_h1_title": false,
   "title_cell": "Table of Contents",
   "title_sidebar": "Contents",
   "toc_cell": false,
   "toc_position": {},
   "toc_section_display": true,
   "toc_window_display": true
  }
 },
 "nbformat": 4,
 "nbformat_minor": 5
}
