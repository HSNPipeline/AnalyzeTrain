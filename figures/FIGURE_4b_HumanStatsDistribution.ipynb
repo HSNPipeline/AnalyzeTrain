{
 "cells": [
  {
   "cell_type": "markdown",
   "id": "e202cb19",
   "metadata": {},
   "source": [
    "## HUMAN STATS DISTRIBUTION\n",
    "- Plots the distribution of spatial information and ANOVA F-statistics for human place cells\n",
    "- Example Cells"
   ]
  },
  {
   "cell_type": "code",
   "execution_count": 1,
   "id": "a2e3f42c",
   "metadata": {},
   "outputs": [],
   "source": [
    "import numpy as np\n",
    "import matplotlib.pyplot as plt\n",
    "\n",
    "from convnwb.io import get_files, load_jsons_to_df\n",
    "from scipy.stats import binom_test\n",
    "\n",
    "from spiketools.plts.utils import make_grid, get_grid_subplot, save_figure\n",
    "from spiketools.plts.style import drop_spines\n",
    "from spiketools.utils.run import create_methods_list"
   ]
  },
  {
   "cell_type": "code",
   "execution_count": 2,
   "id": "cddcffda",
   "metadata": {},
   "outputs": [],
   "source": [
    "import seaborn as sns\n",
    "sns.set_context('talk', font_scale=0.9)"
   ]
  },
  {
   "cell_type": "code",
   "execution_count": 3,
   "id": "cee3c75a",
   "metadata": {},
   "outputs": [],
   "source": [
    "\n",
    "import sys\n",
    "sys.path.append('../code')\n",
    "from plts import plot_raster_with_tuning_curve\n",
    "sys.path.append('../scripts')\n",
    "from settings import PATHS, METHODS"
   ]
  },
  {
   "cell_type": "code",
   "execution_count": 4,
   "id": "8678a9db",
   "metadata": {},
   "outputs": [],
   "source": [
    "results_folder = PATHS['RESULTS'] / 'units'\n",
    "reports_folder = PATHS['REPORTS'] / 'units'\n"
   ]
  },
  {
   "cell_type": "code",
   "execution_count": 5,
   "id": "2c0284c8",
   "metadata": {},
   "outputs": [],
   "source": [
    "# Get the list of files\n",
    "res_files = get_files(results_folder, select='mat')"
   ]
  },
  {
   "cell_type": "code",
   "execution_count": 6,
   "id": "e0a6d1c7",
   "metadata": {},
   "outputs": [],
   "source": [
    "# Collect all unit results together into a dataframe\n",
    "all_results = load_jsons_to_df(res_files, folder=results_folder)"
   ]
  },
  {
   "cell_type": "code",
   "execution_count": 7,
   "id": "e256ffaa",
   "metadata": {},
   "outputs": [
    {
     "data": {
      "text/plain": [
       "Index(['unit_ind', 'session_id', 'label', 'spike_name', 'place_bins',\n",
       "       'spike_position', 'trial_changes', 'trial_Num', 'trial_place_bins',\n",
       "       'place_sem', 'trial_fr', 'fr_bins', 'fr_sem', 's_bins', 'place_info',\n",
       "       'place_fr_info', 'place_anova', 'place_fr_anova',\n",
       "       'place_anova_surr_p_val', 'place_anova_surr_z_score',\n",
       "       'place_info_surr_p_val', 'place_info_surr_z_score',\n",
       "       'place_fr_anova_surr_p_val', 'place_fr_anova_surr_z_score',\n",
       "       'place_fr_info_surr_p_val', 'place_fr_info_surr_z_score'],\n",
       "      dtype='object')"
      ]
     },
     "execution_count": 7,
     "metadata": {},
     "output_type": "execute_result"
    }
   ],
   "source": [
    "# Check the columns\n",
    "all_results.columns"
   ]
  },
  {
   "cell_type": "markdown",
   "id": "0dd180d2",
   "metadata": {},
   "source": [
    "## Dropped Neurons "
   ]
  },
  {
   "cell_type": "code",
   "execution_count": 8,
   "id": "15e795a3",
   "metadata": {},
   "outputs": [
    {
     "name": "stdout",
     "output_type": "stream",
     "text": [
      "Original dataframe shape: (390, 26)\n",
      "Index(['unit_ind', 'session_id', 'label', 'spike_name', 'place_bins',\n",
      "       'spike_position', 'trial_changes', 'trial_Num', 'trial_place_bins',\n",
      "       'place_sem', 'trial_fr', 'fr_bins', 'fr_sem', 's_bins', 'place_info',\n",
      "       'place_fr_info', 'place_anova', 'place_fr_anova',\n",
      "       'place_anova_surr_p_val', 'place_anova_surr_z_score',\n",
      "       'place_info_surr_p_val', 'place_info_surr_z_score',\n",
      "       'place_fr_anova_surr_p_val', 'place_fr_anova_surr_z_score',\n",
      "       'place_fr_info_surr_p_val', 'place_fr_info_surr_z_score'],\n",
      "      dtype='object')\n",
      "\n",
      "Filtered dataframe shape: (284, 28)\n"
     ]
    },
    {
     "name": "stderr",
     "output_type": "stream",
     "text": [
      "/var/folders/tx/9bxcz_2j6m79n4dmyyw6s2zm0000gn/T/ipykernel_20244/215291203.py:12: UserWarning: Boolean Series key will be reindexed to match DataFrame index.\n",
      "  results = results[all_results['firing_rate'].astype(float) > .15]\n",
      "/var/folders/tx/9bxcz_2j6m79n4dmyyw6s2zm0000gn/T/ipykernel_20244/215291203.py:13: UserWarning: Boolean Series key will be reindexed to match DataFrame index.\n",
      "  results = results[all_results['presence_ratio'].astype(float) > .2]\n"
     ]
    }
   ],
   "source": [
    "from copy import deepcopy\n",
    "\n",
    "# Display the original dataframe before filtering\n",
    "print(\"Original dataframe shape:\", all_results.shape)\n",
    "print(all_results.columns)\n",
    "all_results['firing_rate'] = all_results['place_bins'].apply(lambda x: np.mean(x))\n",
    "all_results['presence_ratio'] = all_results['trial_fr'].apply(lambda x: np.mean([np.any(np.array(trial) > 0) for trial in x]))\n",
    "# Create a filtered copy\n",
    "results = deepcopy(all_results)\n",
    "\n",
    "results = results[all_results['firing_rate'].astype(float) < 20]\n",
    "results = results[all_results['firing_rate'].astype(float) > .15]\n",
    "results = results[all_results['presence_ratio'].astype(float) > .2]\n",
    "# Display the filtered dataframe\n",
    "print(\"\\nFiltered dataframe shape:\", results.shape)\n"
   ]
  },
  {
   "cell_type": "markdown",
   "id": "3fc80563",
   "metadata": {},
   "source": [
    "## Check Results "
   ]
  },
  {
   "cell_type": "code",
   "execution_count": 9,
   "id": "f596b772",
   "metadata": {},
   "outputs": [
    {
     "name": "stdout",
     "output_type": "stream",
     "text": [
      "Total number of cells: 390\n"
     ]
    }
   ],
   "source": [
    "# Get total number of units\n",
    "n_units = len(all_results)\n",
    "print('Total number of cells: {}'.format(n_units))"
   ]
  },
  {
   "cell_type": "code",
   "execution_count": 10,
   "id": "8b7048a3",
   "metadata": {},
   "outputs": [],
   "source": [
    "analyses = create_methods_list(METHODS)\n",
    "# Statistics settings\n",
    "alpha_level = 0.05\n",
    "binom_sidedness = 'greater'    # 'two-sided', 'greater', 'less'"
   ]
  },
  {
   "cell_type": "code",
   "execution_count": 11,
   "id": "658efb19",
   "metadata": {},
   "outputs": [],
   "source": [
    "#results_folder = PATHS['RESULTS'] / 'units_matlab'"
   ]
  },
  {
   "cell_type": "code",
   "execution_count": 12,
   "id": "306fcbbf",
   "metadata": {},
   "outputs": [],
   "source": [
    "\n",
    "#     print(all_results[f'{analysis}_surr_p_val'])\n",
    "   # Collect numbers of significant cells\n",
    "results = {}\n",
    "for analysis in analyses:\n",
    "    all_results[f'is_{analysis}'] = (all_results[f'{analysis}_surr_p_val'] < alpha_level).values #results[analysis] = sum(all_results['is_' + analysis])"
   ]
  },
  {
   "cell_type": "code",
   "execution_count": 13,
   "id": "4edf78ad",
   "metadata": {},
   "outputs": [],
   "source": [
    "for analysis in analyses:\n",
    "     results[analysis] = sum(all_results['is_' + analysis])"
   ]
  },
  {
   "cell_type": "code",
   "execution_count": 14,
   "id": "bd15aeee",
   "metadata": {},
   "outputs": [
    {
     "name": "stderr",
     "output_type": "stream",
     "text": [
      "/var/folders/tx/9bxcz_2j6m79n4dmyyw6s2zm0000gn/T/ipykernel_20244/2198180662.py:4: DeprecationWarning: 'binom_test' is deprecated in favour of 'binomtest' from version 1.7.0 and will be removed in Scipy 1.12.0.\n",
      "  stats[analysis] = binom_test(results[analysis], n_units, alpha_level, binom_sidedness)\n"
     ]
    }
   ],
   "source": [
    "# Compute significance of the counts of detected neurons\n",
    "stats = {}\n",
    "for analysis in analyses:\n",
    "    stats[analysis] = binom_test(results[analysis], n_units, alpha_level, binom_sidedness)"
   ]
  },
  {
   "cell_type": "code",
   "execution_count": 15,
   "id": "fd1a25c6",
   "metadata": {},
   "outputs": [
    {
     "name": "stdout",
     "output_type": "stream",
     "text": [
      "total cells: 390\n",
      "\n",
      "# place_anova cells:     \t\t 85  (21.79%) \t\t 0.0000\n",
      "# place_info cells:     \t\t 84  (21.54%) \t\t 0.0000\n"
     ]
    }
   ],
   "source": [
    "# Check the number & percent of significant cells per analysis\n",
    "print('total cells: {}\\n'.format( n_units))\n",
    "for analysis in analyses:\n",
    "    print('# {} cells:     \\t\\t{:3d}  ({:5.2f}%) \\t\\t {:.4f}'.format(\\\n",
    "        analysis, results[analysis], results[analysis] / n_units * 100, stats[analysis]))"
   ]
  },
  {
   "cell_type": "markdown",
   "id": "b14dddc4",
   "metadata": {},
   "source": [
    "## Group Level Analysis "
   ]
  },
  {
   "cell_type": "code",
   "execution_count": 16,
   "id": "f1efa111",
   "metadata": {},
   "outputs": [],
   "source": [
    "df_cleaned = all_results.dropna()\n",
    "place_info = df_cleaned['place_fr_info']\n",
    "place_anova = df_cleaned['place_fr_anova']\n",
    "place_info_surr_p_val =  df_cleaned['place_fr_info_surr_p_val']\n",
    "place_anova_surr_p_val =  df_cleaned['place_fr_anova_surr_p_val']\n"
   ]
  },
  {
   "cell_type": "code",
   "execution_count": 17,
   "id": "c0f6d38f",
   "metadata": {},
   "outputs": [],
   "source": [
    "SI = all_results['place_fr_info']\n",
    "F = all_results['place_fr_anova']\n",
    "\n",
    "si_pval =  all_results['place_fr_info_surr_p_val']\n",
    "anova_pval =  all_results['place_fr_anova_surr_p_val']"
   ]
  },
  {
   "cell_type": "code",
   "execution_count": 18,
   "id": "22f4df3d",
   "metadata": {},
   "outputs": [
    {
     "data": {
      "text/plain": [
       "54"
      ]
     },
     "execution_count": 18,
     "metadata": {},
     "output_type": "execute_result"
    }
   ],
   "source": [
    "len(F[anova_pval < 0.05])"
   ]
  },
  {
   "cell_type": "code",
   "execution_count": 19,
   "id": "38d1f024",
   "metadata": {},
   "outputs": [],
   "source": [
    "threshold = 0.05"
   ]
  },
  {
   "cell_type": "code",
   "execution_count": 20,
   "id": "d049170e",
   "metadata": {},
   "outputs": [],
   "source": [
    "sorted_anova = all_results.sort_values(by='place_fr_anova', ascending=False)\n",
    "sorted_anova = sorted_anova.reset_index(drop=True)\n",
    "\n",
    "sorted_si = all_results.sort_values(by='place_fr_info', ascending=False)\n",
    "sorted_si = sorted_si.reset_index(drop=True)\n",
    "\n",
    "f_max = sorted_anova.index[0]\n",
    "si_max = sorted_si.index[15]\n",
    "si_median = all_results.index[len(all_results) // 4]-3\n",
    "\n"
   ]
  },
  {
   "cell_type": "code",
   "execution_count": 26,
   "id": "8ac2f815",
   "metadata": {},
   "outputs": [
    {
     "data": {
      "image/png": "[encoded data removed]",
      "text/plain": [
       "<Figure size 300x300 with 9 Axes>"
      ]
     },
     "metadata": {},
     "output_type": "display_data"
    }
   ],
   "source": [
    "# Create a figure with a main scatter plot and a histogram on the right side\n",
    "anova_bins = np.linspace(0, 10, 50)\n",
    "info_bins = np.linspace(0, max(place_info) * 1.05, 50)\n",
    "threshold = 0.05\n",
    "grid = make_grid(5, 3, wspace=.8, hspace=.8, height_ratios=[1,1,1,.3,1], figsize=(3, 3),\n",
    "                 )\n",
    "\n",
    "plt.rcParams.update({\n",
    "    'font.family': 'Avenir',\n",
    "    'font.size': 10,\n",
    "    'axes.titlesize': 10,\n",
    "    'axes.labelsize': 10,\n",
    "    'legend.fontsize': 10,\n",
    "    'xtick.labelsize': 8,  # Smaller tick label size\n",
    "    'ytick.labelsize': 8,  # Smaller tick label size\n",
    "    'axes.linewidth': 0.5,  # Reduce the thickness of axis lines\n",
    "    'xtick.major.width': 0.8,  # Thinner x ticks\n",
    "    'ytick.major.width': 0.8,  # Thinner y ticks\n",
    "    'xtick.major.size': 2.0,   # Shorter x ticks\n",
    "    'ytick.major.size': 2.0    # Shorter y ticks\n",
    "})\n",
    "# Get subplots from the grid\n",
    "ax_top = get_grid_subplot(grid, 0, slice(0, 2))\n",
    "ax_main = get_grid_subplot(grid, slice(1, 3), slice(0, 2))\n",
    "ax_hist = get_grid_subplot(grid, slice(1, 3), 2)\n",
    "\n",
    "\n",
    "anova_bins = np.linspace(0, np.max(place_anova), 20)\n",
    "info_bins = np.linspace(0, np.max(place_info), 20)\n",
    "\n",
    "# Define masks for different categories\n",
    "mask = (place_anova_surr_p_val < threshold) & (place_info_surr_p_val < threshold)\n",
    "info_mask = (place_info_surr_p_val < threshold) & (place_anova_surr_p_val >= threshold)\n",
    "anova_mask = (place_info_surr_p_val >= threshold) & (place_anova_surr_p_val < threshold)\n",
    "non_sig_mask = (place_info_surr_p_val >= threshold) & (place_anova_surr_p_val >= threshold)\n",
    "\n",
    "# Colors for different categories\n",
    "non_sig_color = '#cccccc'\n",
    "anova_color = '#002FA7'  # Deep blue for ANOVA\n",
    "info_color = '#D92911' \n",
    "both_color = '#FDB76D'\n",
    "\n",
    "# Set x-axis limit for both main and top plots\n",
    "x_max = max(place_info) * 1.05\n",
    "\n",
    "# Main scatter plot\n",
    "ax_main.scatter(place_info[non_sig_mask], place_anova[non_sig_mask], alpha=.5, color=non_sig_color, s=2, label='Both N.S.')  # Increased point size\n",
    "ax_main.scatter(place_info[mask], place_anova[mask], alpha=0.6, color=both_color, s=2, label='Both *')  # Increased point size\n",
    "ax_main.scatter(place_info[anova_mask], place_anova[anova_mask], alpha=0.6, color=anova_color, s=2, label='Only ANOVA *')  # Increased point size\n",
    "ax_main.scatter(place_info[info_mask], place_anova[info_mask], alpha=0.6, color=info_color, s=2, label='Only SI *')  # Increased point size\n",
    "\n",
    "\n",
    "# Histogram on the right side\n",
    "\n",
    "ax_hist.hist(place_anova[non_sig_mask], bins=anova_bins, color=non_sig_color, alpha=1, orientation='horizontal')\n",
    "ax_hist.hist(place_anova[mask], bins=anova_bins, color=both_color, alpha=0.6, orientation='horizontal')\n",
    "ax_hist.hist(place_anova[anova_mask], bins=anova_bins, color=anova_color, alpha=0.5, orientation='horizontal')\n",
    "ax_hist.hist(place_anova[info_mask], bins=anova_bins, color=info_color, alpha=1, orientation='horizontal')\n",
    "ax_hist.set_xlim(0, 80)\n",
    "# Histogram on the top\n",
    "ax_top.hist(place_info[non_sig_mask], bins=info_bins, color=non_sig_color, alpha=1, orientation='vertical')\n",
    "ax_top.hist(place_info[mask], bins=info_bins, color=both_color, alpha=0.6, orientation='vertical')\n",
    "ax_top.hist(place_info[anova_mask], bins=info_bins, color=anova_color, alpha=0.5, orientation='vertical')\n",
    "ax_top.hist(place_info[info_mask], bins=info_bins, color=info_color, alpha=1, orientation='vertical')\n",
    "ax_top.set_xlabel('')\n",
    "ax_top.set_xlim(0,2)  # Explicitly set the same x-axis limits as main plot\n",
    "ax_top.tick_params(axis='x', which='both', bottom=False, labelbottom=False)\n",
    "ax_top.set_ylim(0, 80)\n",
    "drop_spines(['top','right','bottom'], ax=ax_top)\n",
    "\n",
    " \n",
    "# Hide y-axis labels for the histogram\n",
    "# ax_main.set_xlabel('Spatial Information')  # Increased label font size\n",
    "# ax_main.set_ylabel('ANOVA F-statistic')  # Increased label font size\n",
    "ax_main.set_xlim(0, 2)\n",
    "ax_main.set_ylim(0, 4)\n",
    "#ax_hist.set_xlabel('Count')  # Increased label font size\n",
    "ax_hist.set_ylabel('')\n",
    "ax_hist.set_ylim(0, 4)\n",
    "\n",
    "ax_hist.tick_params(axis='y', which='both', left=False, labelleft=False)\n",
    "#ax_top.set_ylabel('Count')  # Increased label font size\n",
    "\n",
    "# Increase tick label font sizes\n",
    "ax_main.tick_params(axis='both', which='major')  # Increased tick font size\n",
    "ax_hist.tick_params(axis='both', which='major')  # Increased tick font size\n",
    "ax_top.tick_params(axis='both', which='major')  # Increased tick font size\n",
    "\n",
    "\n",
    "drop_spines(['top','right'], ax=ax_main)\n",
    "drop_spines(['top','right','left'], ax=ax_hist)\n",
    "\n",
    "ax_hist.axhline(1.6, color='grey', lw=1, linestyle='--', alpha=0.8)  # Increased line width\n",
    "ax_main.axvline(0.25, color='black', lw=1, linestyle='--', alpha=0.8)  # Increased line width\n",
    "ax_top.axvline(0.25, color='black', lw=1, linestyle='--', alpha=0.8)  # Increased line width\n",
    "ax_main.axhline(1.6, color='grey', lw=1, linestyle='--', alpha=0.8)  # Increased line width\n",
    "ax_main.legend(bbox_to_anchor=(1.7, 1.7), frameon=True, fontsize=6, markerscale=2)\n",
    "\n",
    "\n",
    "ax = get_grid_subplot(grid, 4, 0)\n",
    "plot_raster_with_tuning_curve(all_results, si_median,ax=ax,curve_color='black')\n",
    "\n",
    "ax = get_grid_subplot(grid, 4, 1)\n",
    "plot_raster_with_tuning_curve(sorted_anova, f_max,ax=ax,curve_color=anova_color)\n",
    "#ax.set_xlabel('Position on Track (VR-Units)', labelpad=10)\n",
    "\n",
    "\n",
    "ax = get_grid_subplot(grid, 4, 2)\n",
    "plot_raster_with_tuning_curve(sorted_si, si_max,ax=ax,curve_color=info_color)\n",
    "\n",
    "\n",
    "# Make scatter plots more prominent with larger size, thicker borders, and higher zorder\n",
    "ax_main.scatter(sorted_anova['place_fr_info'].iloc[f_max], sorted_anova['place_fr_anova'].iloc[f_max],\n",
    "    c=anova_color, s=70, alpha=1, marker='D', label='High F', zorder=20,edgecolor='white', linewidth=1, \n",
    ")\n",
    "# Add annotation for High F point\n",
    "# ax_main.annotate('High F', \n",
    "#                 xy=(sorted_anova['place_info'].iloc[f_max], sorted_anova['place_anova'].iloc[f_max]),\n",
    "#                 xytext=(10, 10), textcoords='offset points',\n",
    "               \n",
    "#                 bbox=dict(boxstyle=\"round,pad=0.3\", fc='white', alpha=0.7))\n",
    "\n",
    "ax_main.scatter(sorted_si['place_fr_info'].iloc[si_max], sorted_si['place_fr_anova'].iloc[si_max],\n",
    "    c=info_color, s=70, alpha=1, marker='D',   label='High SI', zorder=20,edgecolor='white', linewidth=1, \n",
    ")\n",
    "# Add annotation for High SI point\n",
    "# ax_main.annotate('High SI', \n",
    "#                 xy=(sorted_si['place_info'].iloc[si_max], sorted_si['place_anova'].iloc[si_max]),\n",
    "#                 xytext=(10, 20), textcoords='offset points',\n",
    "               \n",
    "#                 bbox=dict(boxstyle=\"round,pad=0.3\", fc='white', alpha=0.7))\n",
    "\n",
    "ax_main.scatter(sorted_si['place_fr_info'].iloc[si_median], sorted_si['place_fr_anova'].iloc[si_median],\n",
    "    c='grey', s=70, alpha=1, marker='D', label='Median SI', zorder=20, edgecolor='white', linewidth=1, \n",
    "    clip_on=False  # Prevent the marker from being clipped by the plot edge\n",
    ")\n",
    "# Add annotation for Median SI point\n",
    "# ax_main.annotate('Median F & SI', \n",
    "#                 xy=(sorted_si['place_info'].iloc[si_median], sorted_si['place_anova'].iloc[si_median]),\n",
    "#                 xytext=(20, -20), textcoords='offset points',\n",
    "               \n",
    "#                 bbox=dict(boxstyle=\"round,pad=0.3\", fc='white', alpha=0.7))\n",
    "\n",
    "\n",
    "\n",
    "\n",
    "\n",
    "save_figure('Human_Distribution.pdf', file_path='/Users/weijiazhang/Plots/PLDM/Human')"
   ]
  },
  {
   "cell_type": "code",
   "execution_count": 22,
   "id": "ff73493a",
   "metadata": {},
   "outputs": [
    {
     "name": "stdout",
     "output_type": "stream",
     "text": [
      "Place ANOVA range: 0.4296939955523356 to 3.1155323636353627\n",
      "Place Info range: 0.0028178827257196934 to 3.6349123502760547\n"
     ]
    }
   ],
   "source": [
    "# Calculate basic statistics\n",
    "print(\"Place ANOVA range:\", min(place_anova), \"to\", max(place_anova))\n",
    "print(\"Place Info range:\", min(place_info), \"to\", max(place_info))"
   ]
  },
  {
   "cell_type": "code",
   "execution_count": 23,
   "id": "437fa11e",
   "metadata": {},
   "outputs": [
    {
     "ename": "KeyError",
     "evalue": "'place_fr_anova'",
     "output_type": "error",
     "traceback": [
      "\u001b[0;31m---------------------------------------------------------------------------\u001b[0m",
      "\u001b[0;31mKeyError\u001b[0m                                  Traceback (most recent call last)",
      "Cell \u001b[0;32mIn[23], line 1\u001b[0m\n\u001b[0;32m----> 1\u001b[0m results[\u001b[38;5;124m'\u001b[39m\u001b[38;5;124mplace_fr_anova\u001b[39m\u001b[38;5;124m'\u001b[39m]\u001b[38;5;241m.\u001b[39mdescribe()\n",
      "\u001b[0;31mKeyError\u001b[0m: 'place_fr_anova'"
     ]
    }
   ],
   "source": [
    "results['place_fr_anova'].describe()"
   ]
  },
  {
   "cell_type": "code",
   "execution_count": null,
   "id": "1658f433",
   "metadata": {},
   "outputs": [],
   "source": []
  },
  {
   "cell_type": "code",
   "execution_count": null,
   "id": "3d6a6a8a",
   "metadata": {},
   "outputs": [],
   "source": []
  },
  {
   "cell_type": "code",
   "execution_count": null,
   "id": "173d7da8",
   "metadata": {},
   "outputs": [],
   "source": []
  },
  {
   "cell_type": "code",
   "execution_count": null,
   "id": "1dfe9d3a",
   "metadata": {},
   "outputs": [],
   "source": []
  },
  {
   "cell_type": "code",
   "execution_count": null,
   "id": "e4ab6d3d",
   "metadata": {},
   "outputs": [],
   "source": []
  },
  {
   "cell_type": "code",
   "execution_count": null,
   "id": "e224b8e4",
   "metadata": {},
   "outputs": [],
   "source": []
  }
 ],
 "metadata": {
  "kernelspec": {
   "display_name": "base",
   "language": "python",
   "name": "python3"
  },
  "language_info": {
   "codemirror_mode": {
    "name": "ipython",
    "version": 3
   },
   "file_extension": ".py",
   "mimetype": "text/x-python",
   "name": "python",
   "nbconvert_exporter": "python",
   "pygments_lexer": "ipython3",
   "version": "3.11.5"
  },
  "toc": {
   "base_numbering": 1,
   "nav_menu": {},
   "number_sections": true,
   "sideBar": true,
   "skip_h1_title": false,
   "title_cell": "Table of Contents",
   "title_sidebar": "Contents",
   "toc_cell": false,
   "toc_position": {},
   "toc_section_display": true,
   "toc_window_display": true
  }
 },
 "nbformat": 4,
 "nbformat_minor": 5
}
