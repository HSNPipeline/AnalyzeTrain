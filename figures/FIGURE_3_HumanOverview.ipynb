{
 "cells": [
  {
   "cell_type": "markdown",
   "metadata": {},
   "source": [
    "## Figure 2: Human Group Results\n",
    "\n",
    "This notebook presents group-level analyses of place cell properties in human subjects. It includes:\n",
    "- Percentage of place cells identified by different statistical methods\n",
    "- Comparison of place cell detection across brain regions\n",
    "- The relationship between detection metric and significance classification\n"
   ]
  },
  {
   "cell_type": "code",
   "execution_count": 1,
   "metadata": {},
   "outputs": [],
   "source": [
    "%matplotlib inline\n",
    "import numpy as np\n",
    "import pandas as pd\n",
    "import matplotlib.pyplot as plt\n",
    "\n",
    "\n",
    "from convnwb.io import get_files, load_jsons_to_df\n",
    "from scipy.stats import binom_test\n",
    "from spiketools.plts.annotate import add_vlines\n",
    "from spiketools.plts.utils import make_grid, get_grid_subplot, save_figure\n",
    "from spiketools.plts.style import drop_spines\n",
    "from spiketools.utils.run import create_methods_list"
   ]
  },
  {
   "cell_type": "code",
   "execution_count": 2,
   "metadata": {},
   "outputs": [],
   "source": [
    "import seaborn as sns\n",
    "sns.set_context('talk', font_scale=0.9)"
   ]
  },
  {
   "cell_type": "code",
   "execution_count": 3,
   "metadata": {},
   "outputs": [],
   "source": [
    "import sys\n",
    "sys.path.append('../code')\n",
    "from reports import get_significant_percentage,get_agreement_percentage\n",
    "from plts import plot_percentages\n",
    "\n",
    "sys.path.append('../scripts')\n",
    "from settings import PATHS, METHODS"
   ]
  },
  {
   "cell_type": "markdown",
   "metadata": {},
   "source": [
    "## Load Group Data"
   ]
  },
  {
   "cell_type": "code",
   "execution_count": 4,
   "metadata": {},
   "outputs": [
    {
     "data": {
      "text/plain": [
       "['session_data.json']"
      ]
     },
     "execution_count": 4,
     "metadata": {},
     "output_type": "execute_result"
    }
   ],
   "source": [
    "results_folder = PATHS['RESULTS'] / 'units'\n",
    "reports_folder = PATHS['REPORTS'] / 'units'\n",
    "\n",
    "locations_folder = PATHS['BASE'] / 'localization'/'Loc'\n",
    "jacksheet_folder = PATHS['BASE'] / 'localization'/'jacksheet'\n",
    "locations_files = get_files(locations_folder, select='session_data')\n",
    "locations_files"
   ]
  },
  {
   "cell_type": "code",
   "execution_count": 5,
   "metadata": {},
   "outputs": [],
   "source": [
    "Locations = load_jsons_to_df(locations_files, folder=locations_folder)\n"
   ]
  },
  {
   "cell_type": "code",
   "execution_count": 6,
   "metadata": {},
   "outputs": [],
   "source": [
    "res_files = get_files(results_folder, select='mat')"
   ]
  },
  {
   "cell_type": "code",
   "execution_count": 7,
   "metadata": {},
   "outputs": [],
   "source": [
    "all_results = load_jsons_to_df(res_files, folder=results_folder)"
   ]
  },
  {
   "cell_type": "markdown",
   "metadata": {},
   "source": [
    "## Evaluate Significant Cells"
   ]
  },
  {
   "cell_type": "code",
   "execution_count": 8,
   "metadata": {},
   "outputs": [
    {
     "name": "stdout",
     "output_type": "stream",
     "text": [
      "Total number of cells: 390\n"
     ]
    },
    {
     "name": "stderr",
     "output_type": "stream",
     "text": [
      "/var/folders/tx/9bxcz_2j6m79n4dmyyw6s2zm0000gn/T/ipykernel_18214/901725631.py:20: DeprecationWarning: 'binom_test' is deprecated in favour of 'binomtest' from version 1.7.0 and will be removed in Scipy 1.12.0.\n",
      "  stats[analysis] = binom_test(results[analysis], n_units, alpha_level, binom_sidedness)\n"
     ]
    }
   ],
   "source": [
    "# Get total number of units\n",
    "n_units = len(all_results)\n",
    "print('Total number of cells: {}'.format(n_units))\n",
    "# Collect numbers of significant cells\n",
    "analyses = create_methods_list(METHODS)\n",
    "# Statistics settings\n",
    "alpha_level = 0.05\n",
    "binom_sidedness = 'greater'   \n",
    "results = {}\n",
    "for analysis in analyses:\n",
    "    all_results[f'is_{analysis}'] = (all_results[f'{analysis}_surr_p_val'] < alpha_level).values\n",
    "\n",
    "for analysis in analyses:\n",
    "     results[analysis] = sum(all_results['is_' + analysis])\n",
    "\n",
    "\n",
    "# Compute significance of the counts of detected neurons\n",
    "stats = {}\n",
    "for analysis in analyses:\n",
    "    stats[analysis] = binom_test(results[analysis], n_units, alpha_level, binom_sidedness)"
   ]
  },
  {
   "cell_type": "code",
   "execution_count": 9,
   "metadata": {},
   "outputs": [
    {
     "name": "stdout",
     "output_type": "stream",
     "text": [
      "total cells: 390\n",
      "\n",
      "# place_anova cells:     \t\t 85  (21.79%) \t\t 0.0000\n",
      "# place_info cells:     \t\t 84  (21.54%) \t\t 0.0000\n",
      "# place_fr_anova cells:     \t\t 54  (13.85%) \t\t 0.0000\n",
      "# place_fr_info cells:     \t\t 63  (16.15%) \t\t 0.0000\n"
     ]
    }
   ],
   "source": [
    "print('total cells: {}\\n'.format( n_units))\n",
    "for analysis in analyses:\n",
    "    print('# {} cells:     \\t\\t{:3d}  ({:5.2f}%) \\t\\t {:.4f}'.format(\\\n",
    "        analysis, results[analysis], results[analysis] / n_units * 100, stats[analysis]))"
   ]
  },
  {
   "cell_type": "markdown",
   "metadata": {},
   "source": [
    "## Get Anatomical Locations"
   ]
  },
  {
   "cell_type": "code",
   "execution_count": 10,
   "metadata": {},
   "outputs": [],
   "source": [
    "spike_names = all_results['spike_name']\n",
    "labels = all_results['label']"
   ]
  },
  {
   "cell_type": "code",
   "execution_count": 11,
   "metadata": {},
   "outputs": [],
   "source": [
    "all_results['channel'] = spike_names.str.extract(r'(?:NSX|CSC)(\\d+)')[0].str.lstrip('0')\n",
    "all_results['sessions'] = all_results['session_id'].str.extract(r'(\\w+)_(\\d+)_train_events.mat')[0] + '_' + all_results['session_id'].str.extract(r'(\\w+)_(\\d+)_train_events.mat')[1]\n"
   ]
  },
  {
   "cell_type": "code",
   "execution_count": 12,
   "metadata": {},
   "outputs": [
    {
     "name": "stdout",
     "output_type": "stream",
     "text": [
      "Location: LA_2\n",
      "Location: LA_2\n",
      "Location: LA_2\n",
      "Location: LA_2\n",
      "Location: LA_2\n",
      "Location: LA_2\n",
      "Location: RCA1_2\n",
      "Location: RCA1_2\n",
      "Location: RCA1_3\n",
      "Location: RCA1_3\n",
      "Location: RCA1_5\n",
      "Location: RCA1_5\n",
      "Location: RCA1_11\n",
      "Location: LA_2\n",
      "Location: LA_2\n",
      "Location: LA_2\n",
      "Location: LA_2\n",
      "Location: LA_3\n",
      "Location: LA_4\n",
      "Location: LA_4\n",
      "Location: LA_4\n",
      "Location: LA_4\n",
      "Location: LA_4\n",
      "Location: LA_5\n",
      "Location: LA_5\n",
      "Location: LA_5\n",
      "Location: LA_5\n",
      "Location: LA_6\n",
      "Location: LA_7\n",
      "Location: LA_7\n",
      "Location: LA_7\n",
      "Location: LA_7\n",
      "Location: LA_8\n",
      "Location: LSB_2\n",
      "Location: LSB_2\n",
      "Location: LSB_2\n",
      "Location: LSB_5\n",
      "Location: LA_2\n",
      "Location: LA_2\n",
      "Location: LA_3\n",
      "Location: LA_5\n",
      "Location: LA_5\n",
      "Location: LA_6\n",
      "Location: LA_7\n",
      "Location: LA_8\n",
      "Location: LA_9\n",
      "Location: LA_12\n",
      "Location: LA_12\n",
      "Location: LA_16\n",
      "Location: LCA1_5\n",
      "Location: LA_2\n",
      "Location: LA_5\n",
      "Location: LA_6\n",
      "Location: LA_8\n",
      "Location: LA_11\n",
      "Location: LA_12\n",
      "Location: LA_12\n",
      "Location: LA_12\n",
      "Location: LA_12\n",
      "Location: LA_14\n",
      "Location: LA_16\n",
      "Location: LA_6\n",
      "Location: LA_6\n",
      "Location: LA_8\n",
      "Location: LA_9\n",
      "Location: LA_11\n",
      "Location: LA_11\n",
      "Location: LA_11\n",
      "Location: LA_12\n",
      "Location: LA_14\n",
      "Location: LA_14\n",
      "Location: LCA1_4\n",
      "Location: LCA1_4\n",
      "Location: LA_6\n",
      "Location: LA_8\n",
      "Location: LA_9\n",
      "Location: LA_9\n",
      "Location: LA_11\n",
      "Location: LA_11\n",
      "Location: LA_11\n",
      "Location: LA_12\n",
      "Location: LA_12\n",
      "Location: LA_14\n",
      "Location: LCA1_4\n",
      "Location: LCA1_1\n",
      "Location: LCA1_1\n",
      "Location: LCA1_2\n",
      "Location: LCA1_2\n",
      "Location: LCA1_3\n",
      "Location: LCA1_6\n",
      "Location: LCA1_6\n",
      "Location: LCA1_7\n",
      "Location: LCA1_8\n",
      "Location: LCA1_8\n",
      "Location: LPHG_3\n",
      "Location: LCA1_1\n",
      "Location: LCA1_2\n",
      "Location: LCA1_2\n",
      "Location: LCA1_3\n",
      "Location: LCA1_6\n",
      "Location: LCA1_7\n",
      "Location: LCA1_8\n",
      "Location: LCA1_2\n",
      "Location: LCA1_5\n",
      "Location: LCA1_6\n",
      "Location: LCA1_6\n",
      "Location: LCA1_7\n",
      "Location: RAC_1\n",
      "Location: RAC_1\n",
      "Location: RAC_2\n",
      "Location: RAC_2\n",
      "Location: RAC_3\n",
      "Location: RAC_3\n",
      "Location: RAC_4\n",
      "Location: RAC_4\n",
      "Location: RAC_6\n",
      "Location: RAC_6\n",
      "Location: WM\n",
      "Location: WM\n",
      "Location: WM\n",
      "Location: WM\n",
      "Location: WM\n",
      "Location: RAC_2\n",
      "Location: RAC_2\n",
      "Location: RAC_2\n",
      "Location: RAC_3\n",
      "Location: RAC_3\n",
      "Location: RAC_5\n",
      "Location: WM\n",
      "Location: WM\n",
      "Location: WM\n",
      "Location: WM\n",
      "Location: WM\n",
      "Location: CS_3\n",
      "Location: CS_3\n",
      "Location: CS_3\n",
      "Location: LDG_3\n",
      "Location: LDG_3\n",
      "Location: LAC_8\n",
      "Location: LMC_1\n",
      "Location: LMC_2\n",
      "Location: LMC_2\n",
      "Location: LMC_3\n",
      "Location: LMC_3\n",
      "Location: LMC_4\n",
      "Location: LMC_4\n",
      "Location: LMC_4\n",
      "Location: LMC_4\n",
      "Location: LMC_5\n",
      "Location: LMC_5\n",
      "Location: LMC_6\n",
      "Location: LMC_6\n",
      "Location: LMC_7\n",
      "Location: LMC_7\n",
      "Location: LMC_8\n",
      "Location: LMC_8\n",
      "Location: LMC_3\n",
      "Location: LMC_4\n",
      "Location: LMC_4\n",
      "Location: LMC_4\n",
      "Location: LMC_5\n",
      "Location: LEC_1\n",
      "Location: LEC_3\n",
      "Location: LEC_3\n",
      "Location: LEC_4\n",
      "Location: LEC_2\n",
      "Location: LEC_2\n",
      "Location: LEC_2\n",
      "Location: LEC_3\n",
      "Location: LEC_3\n",
      "Location: LEC_3\n",
      "Location: LEC_4\n",
      "Location: LEC_4\n",
      "Location: LEC_5\n",
      "Location: LEC_5\n",
      "Location: LEC_6\n",
      "Location: LEC_6\n",
      "Location: LEC_7\n",
      "Location: LEC_8\n",
      "Location: LEC_8\n",
      "Location: LEC_8\n",
      "Location: LDG_2\n",
      "Location: LDG_2\n",
      "Location: LDG_4\n",
      "Location: LDG_4\n",
      "Location: LDG_6\n",
      "Location: LDG_6\n",
      "Location: LDG_6\n",
      "Location: LA_1\n",
      "Location: LA_2\n",
      "Location: LA_4\n",
      "Location: LA_4\n",
      "Location: LA_5\n",
      "Location: LA_5\n",
      "Location: LA_5\n",
      "Location: LA_7\n",
      "Location: LA_7\n",
      "Location: LA_8\n",
      "Location: RCA1_3\n",
      "Location: RCA1_3\n",
      "Location: LEC_1\n",
      "Location: LEC_1\n",
      "Location: LEC_1\n",
      "Location: LEC_3\n",
      "Location: LEC_3\n",
      "Location: LEC_3\n",
      "Location: LEC_5\n",
      "Location: LEC_5\n",
      "Location: LEC_5\n",
      "Location: LEC_5\n",
      "Location: LEC_6\n",
      "Location: LEC_7\n",
      "Location: LEC_7\n",
      "Location: LEC_7\n",
      "Location: LEC_7\n",
      "Location: LEC_10\n",
      "Location: LEC_10\n",
      "Location: LEC_10\n",
      "Location: LEC_12\n",
      "Location: LEC_12\n",
      "Location: LEC_12\n",
      "Location: LEC_13\n",
      "Location: LEC_13\n",
      "Location: LEC_13\n",
      "Location: LEC_14\n",
      "Location: LEC_14\n",
      "Location: LEC_15\n",
      "Location: LEC_1\n",
      "Location: LEC_1\n",
      "Location: LEC_1\n",
      "Location: LEC_3\n",
      "Location: LEC_3\n",
      "Location: LEC_5\n",
      "Location: LEC_5\n",
      "Location: LEC_5\n",
      "Location: LEC_6\n",
      "Location: LEC_6\n",
      "Location: LEC_6\n",
      "Location: LEC_7\n",
      "Location: LEC_7\n",
      "Location: LEC_9\n",
      "Location: LEC_10\n",
      "Location: LEC_10\n",
      "Location: LEC_12\n",
      "Location: LEC_12\n",
      "Location: LEC_12\n",
      "Location: LEC_13\n",
      "Location: LEC_13\n",
      "Location: LEC_14\n",
      "Location: LEC_15\n",
      "Location: LEC_5\n",
      "Location: LEC_5\n",
      "Location: LEC_5\n",
      "Location: LEC_6\n",
      "Location: LEC_6\n",
      "Location: LEC_9\n",
      "Location: LEC_9\n",
      "Location: LEC_9\n",
      "Location: LEC_9\n",
      "Location: LEC_10\n",
      "Location: LEC_10\n",
      "Location: LEC_10\n",
      "Location: LEC_10\n",
      "Location: LEC_11\n",
      "Location: LEC_12\n",
      "Location: LEC_12\n",
      "Location: LEC_12\n",
      "Location: LEC_12\n",
      "Location: LEC_13\n",
      "Location: LEC_13\n",
      "Location: LEC_14\n",
      "Location: LEC_14\n",
      "Location: LEC_14\n",
      "Location: LEC_16\n",
      "Location: RDG_2\n",
      "Location: RDG_2\n",
      "Location: RDG_5\n",
      "Location: RDG_5\n",
      "Location: RCA1_1\n",
      "Location: RCA1_1\n",
      "Location: RCA1_6\n",
      "Location: RCA1_6\n",
      "Location: RCA1_6\n",
      "Location: RCA1_6\n",
      "Location: RCA1_6\n",
      "Location: RCA1_8\n",
      "Location: RCA1_8\n",
      "Location: RCA1_8\n",
      "Location: RCA1_8\n",
      "Location: RCA1_8\n",
      "Location: RCA1_16\n",
      "Location: RCA1_16\n",
      "Location: LDG_1\n",
      "Location: LDG_1\n",
      "Location: LDG_2\n",
      "Location: LDG_3\n",
      "Location: LDG_3\n",
      "Location: LDG_4\n",
      "Location: LDG_4\n",
      "Location: LDG_6\n",
      "Location: LDG_6\n",
      "Location: LDG_6\n",
      "Location: LDG_7\n",
      "Location: LDG_4\n",
      "Location: LDG_4\n",
      "Location: LDG_5\n",
      "Location: LDG_7\n",
      "Location: LPHG_2\n",
      "Location: LPHG_3\n",
      "Location: LPHG_3\n",
      "Location: LPHG_4\n",
      "Location: LPHG_6\n",
      "Location: LPHG_8\n",
      "Location: LPHG_3\n",
      "Location: LPHG_3\n",
      "Location: LPHG_3\n",
      "Location: LPHG_4\n",
      "Location: LPHG_4\n",
      "Location: LPHG_4\n",
      "Location: LPHG_6\n",
      "Location: LPHG_6\n",
      "Location: LPHG_8\n",
      "Location: LPHG_2\n",
      "Location: LPHG_5\n",
      "Location: LEC_1\n",
      "Location: LEC_2\n",
      "Location: LEC_2\n",
      "Location: LEC_3\n",
      "Location: LEC_5\n",
      "Location: LEC_5\n",
      "Location: LEC_6\n",
      "Location: LEC_7\n",
      "Location: LEC_7\n",
      "Location: LEC_7\n",
      "Location: LEC_8\n",
      "Location: LEC_1\n",
      "Location: LEC_1\n",
      "Location: LEC_2\n",
      "Location: LEC_3\n",
      "Location: LEC_3\n",
      "Location: LEC_5\n",
      "Location: LEC_5\n",
      "Location: LEC_6\n",
      "Location: LEC_6\n",
      "Location: LEC_8\n",
      "Location: LEC_2\n",
      "Location: LEC_3\n",
      "Location: LEC_3\n",
      "Location: LEC_5\n",
      "Location: LEC_6\n",
      "Location: REC_8\n",
      "Location: REC_8\n",
      "Location: REC_8\n",
      "Location: REC_8\n"
     ]
    },
    {
     "name": "stderr",
     "output_type": "stream",
     "text": [
      "/var/folders/tx/9bxcz_2j6m79n4dmyyw6s2zm0000gn/T/ipykernel_18214/2921698974.py:15: SettingWithCopyWarning: \n",
      "A value is trying to be set on a copy of a slice from a DataFrame\n",
      "\n",
      "See the caveats in the documentation: https://pandas.pydata.org/pandas-docs/stable/user_guide/indexing.html#returning-a-view-versus-a-copy\n",
      "  all_results['location'][i] = None\n",
      "/var/folders/tx/9bxcz_2j6m79n4dmyyw6s2zm0000gn/T/ipykernel_18214/2921698974.py:10: SettingWithCopyWarning: \n",
      "A value is trying to be set on a copy of a slice from a DataFrame\n",
      "\n",
      "See the caveats in the documentation: https://pandas.pydata.org/pandas-docs/stable/user_guide/indexing.html#returning-a-view-versus-a-copy\n",
      "  all_results['location'][i] = Locations[session_id][0]['LFPArea'][channel_idx]\n",
      "/var/folders/tx/9bxcz_2j6m79n4dmyyw6s2zm0000gn/T/ipykernel_18214/2921698974.py:13: SettingWithCopyWarning: \n",
      "A value is trying to be set on a copy of a slice from a DataFrame\n",
      "\n",
      "See the caveats in the documentation: https://pandas.pydata.org/pandas-docs/stable/user_guide/indexing.html#returning-a-view-versus-a-copy\n",
      "  all_results['location'][i] = None\n"
     ]
    }
   ],
   "source": [
    "all_results['location'] = None\n",
    "for i in range(len(all_results['session_id'])):\n",
    "    session_id = all_results['sessions'][i]\n",
    "    channel = int(all_results['channel'][i])\n",
    "    if session_id in Locations:\n",
    "        \n",
    "        if channel in Locations[session_id][0]['LFPChan']:\n",
    "            # get the index of the channel in the LFPChan list\n",
    "            channel_idx = Locations[session_id][0]['LFPChan'].index(channel)\n",
    "            all_results['location'][i] = Locations[session_id][0]['LFPArea'][channel_idx]\n",
    "            print(f\"Location: {all_results['location'][i]}\")\n",
    "        else:\n",
    "            all_results['location'][i] = None\n",
    "    else:\n",
    "        all_results['location'][i] = None"
   ]
  },
  {
   "cell_type": "markdown",
   "metadata": {},
   "source": [
    "### Clean Locations"
   ]
  },
  {
   "cell_type": "code",
   "execution_count": 13,
   "metadata": {},
   "outputs": [
    {
     "name": "stdout",
     "output_type": "stream",
     "text": [
      "Total number of cells with valid anatomical locations: 354\n",
      "\n",
      "Anatomical Location Counts:\n",
      "------------------------------\n",
      "Hippocampus: 99\n",
      "Cingulate: 39\n",
      "EC: 124\n",
      "A: 79\n",
      "WM: 10\n",
      "CS: 3\n"
     ]
    }
   ],
   "source": [
    "all_results['location_clean'] = all_results['location'].str.replace(r'^[LR]|_\\d+$', '', regex=True)\n",
    "all_results['presence_ratio'] = all_results['trial_fr'].apply(lambda x: np.mean([np.any(np.array(trial) > 0) for trial in x]))\n",
    "# Reorder hippocampal areas together and combine cingulate areas\n",
    "anatomy_counts = all_results['location_clean'].value_counts()\n",
    "hippo_areas = ['CA1', 'PHG','SB','DG']  # Only CA1 and PHG\n",
    "cingulate_areas = ['MC', 'AC']  # Cingulate areas to combine\n",
    "hippo_counts = anatomy_counts[anatomy_counts.index.isin(hippo_areas)].sum()  # Sum CA1 and PHG counts\n",
    "cingulate_counts = anatomy_counts[anatomy_counts.index.isin(cingulate_areas)].sum()  # Sum cingulate counts\n",
    "other_counts = anatomy_counts[~anatomy_counts.index.isin(hippo_areas + cingulate_areas)]\n",
    "# Create a new Series with the combined counts\n",
    "anatomy_counts = pd.concat([\n",
    "    pd.Series({'Hippocampus': hippo_counts, 'Cingulate': cingulate_counts}), \n",
    "    other_counts\n",
    "])\n",
    "\n",
    "# Calculate total number of cells with valid anatomy \n",
    "total_cells = anatomy_counts[~anatomy_counts.index.isna()].sum()\n",
    "print(f\"Total number of cells with valid anatomical locations: {total_cells}\")\n",
    "\n",
    "# Display the counts\n",
    "print(\"\\nAnatomical Location Counts:\")\n",
    "print(\"-\" * 30)\n",
    "for location, count in anatomy_counts.items():\n",
    "    if pd.notna(location):\n",
    "        print(f\"{location}: {int(count)}\")"
   ]
  },
  {
   "cell_type": "markdown",
   "metadata": {},
   "source": [
    "## Apply Exclusion Criteria "
   ]
  },
  {
   "cell_type": "code",
   "execution_count": 14,
   "metadata": {},
   "outputs": [
    {
     "name": "stdout",
     "output_type": "stream",
     "text": [
      "Original dataframe shape: (390, 35)\n",
      "Index(['unit_ind', 'session_id', 'label', 'spike_name', 'place_bins',\n",
      "       'spike_position', 'trial_changes', 'trial_Num', 'trial_place_bins',\n",
      "       'place_sem', 'trial_fr', 'fr_bins', 'fr_sem', 's_bins', 'place_info',\n",
      "       'place_fr_info', 'place_anova', 'place_fr_anova',\n",
      "       'place_anova_surr_p_val', 'place_anova_surr_z_score',\n",
      "       'place_info_surr_p_val', 'place_info_surr_z_score',\n",
      "       'place_fr_anova_surr_p_val', 'place_fr_anova_surr_z_score',\n",
      "       'place_fr_info_surr_p_val', 'place_fr_info_surr_z_score',\n",
      "       'is_place_anova', 'is_place_info', 'is_place_fr_anova',\n",
      "       'is_place_fr_info', 'channel', 'sessions', 'location', 'location_clean',\n",
      "       'presence_ratio'],\n",
      "      dtype='object')\n",
      "\n",
      "Filtered dataframe shape: (284, 36)\n"
     ]
    },
    {
     "name": "stderr",
     "output_type": "stream",
     "text": [
      "/var/folders/tx/9bxcz_2j6m79n4dmyyw6s2zm0000gn/T/ipykernel_99977/838582910.py:12: UserWarning: Boolean Series key will be reindexed to match DataFrame index.\n",
      "  results = results[all_results['firing_rate'].astype(float) > .15]\n",
      "/var/folders/tx/9bxcz_2j6m79n4dmyyw6s2zm0000gn/T/ipykernel_99977/838582910.py:13: UserWarning: Boolean Series key will be reindexed to match DataFrame index.\n",
      "  results = results[all_results['presence_ratio'].astype(float) > .2]\n"
     ]
    }
   ],
   "source": [
    "from copy import deepcopy\n",
    "\n",
    "# Display the original dataframe before filtering\n",
    "print(\"Original dataframe shape:\", all_results.shape)\n",
    "print(all_results.columns)\n",
    "all_results['firing_rate'] = all_results['place_bins'].apply(lambda x: np.mean(x))\n",
    "all_results['presence_ratio'] = all_results['trial_fr'].apply(lambda x: np.mean([np.any(np.array(trial) > 0) for trial in x]))\n",
    "# Create a filtered copy\n",
    "results = deepcopy(all_results)\n",
    "\n",
    "results = results[all_results['firing_rate'].astype(float) < 20]\n",
    "results = results[all_results['firing_rate'].astype(float) > .15]\n",
    "results = results[all_results['presence_ratio'].astype(float) > .2]\n",
    "# Display the filtered dataframe\n",
    "print(\"\\nFiltered dataframe shape:\", results.shape)"
   ]
  },
  {
   "cell_type": "code",
   "execution_count": 15,
   "metadata": {},
   "outputs": [],
   "source": [
    "results['location_clean'] = results['location_clean'].replace(['CA1', 'PHG','SB','DG'], 'H')\n",
    "results['location_clean'] = results['location_clean'].replace(['MC', 'AC'], 'C')\n",
    "# Drop WM (white matter) from the dataset\n",
    "results = results[results['location_clean'] != 'WM']\n"
   ]
  },
  {
   "cell_type": "markdown",
   "metadata": {},
   "source": [
    "### Plot Region Significance"
   ]
  },
  {
   "cell_type": "code",
   "execution_count": 16,
   "metadata": {},
   "outputs": [],
   "source": [
    "# Calculate region-wise counts and percentages\n",
    "region_sig_info = results[results['place_fr_info_surr_p_val'] < 0.05].groupby('location_clean')['unit_ind'].count()\n",
    "region_sig_anova = results[results['place_fr_anova_surr_p_val'] < 0.05].groupby('location_clean')['unit_ind'].count()\n",
    "region_sig_info_threshold = results[results['place_fr_info'] > 0.25].groupby('location_clean')['unit_ind'].count()\n",
    "region_total_info = results.groupby('location_clean')['unit_ind'].count()\n",
    "\n",
    "# Calculate percentages for each metric\n",
    "region_info_pct = (region_sig_info / region_total_info * 100).round(2)\n",
    "region_anova_pct = (region_sig_anova / region_total_info * 100).round(2)\n",
    "region_info_threshold_pct = (region_sig_info_threshold / region_total_info * 100).round(2)\n",
    "\n",
    "# Calculate total percentages across all regions\n",
    "total_info = len(results[results['place_fr_info_surr_p_val'] < 0.05]) / len(results) * 100\n",
    "total_anova = len(results[results['place_fr_anova_surr_p_val'] < 0.05]) / len(results) * 100\n",
    "total_threshold = len(results[results['place_fr_info'] > 0.25]) / len(results) * 100\n",
    "\n",
    "# Add totals to the region percentages\n",
    "region_info_pct['Total'] = total_info\n",
    "region_anova_pct['Total'] = total_anova\n",
    "region_info_threshold_pct['Total'] = total_threshold\n",
    "\n",
    "# Order regions consistently\n",
    "desired_order = ['Total', 'H', 'A', 'EC', 'C']\n",
    "region_info_pct_ordered = region_info_pct.reindex(desired_order)\n",
    "region_anova_pct_ordered = region_anova_pct.reindex(desired_order)\n",
    "region_info_threshold_pct_ordered = region_info_threshold_pct.reindex(desired_order)\n",
    "\n",
    "# Setup plotting parameters\n",
    "x = np.arange(len(desired_order))\n",
    "width = 0.8\n",
    "\n"
   ]
  },
  {
   "cell_type": "code",
   "execution_count": 69,
   "metadata": {},
   "outputs": [
    {
     "data": {
      "image/png": "[encoded data removed]",
      "text/plain": [
       "<Figure size 1600x1200 with 2 Axes>"
      ]
     },
     "metadata": {},
     "output_type": "display_data"
    }
   ],
   "source": [
    "grid = make_grid(2, 2, wspace=.4, hspace=.4, figsize=(16, 12))\n",
    "\n",
    "plt.rcParams.update({\n",
    "    'font.size': 25,\n",
    "    'axes.titlesize': 25,\n",
    "    'axes.labelsize': 25,\n",
    "    'legend.fontsize': 25,\n",
    "    'xtick.labelsize': 25,\n",
    "    'ytick.labelsize': 25\n",
    "})\n",
    "\n",
    "# desired_order = ['H', 'A', 'EC', 'C']\n",
    "# # Reorder regions according to desired order\n",
    "# # region_info_pct_ordered = region_info_pct.reindex(desired_order)\n",
    "# # region_anova_pct_ordered = region_anova_pct.reindex(desired_order)\n",
    "# # region_info_threshold_pct_ordered = region_info_threshold_pct.reindex(desired_order)\n",
    "\n",
    "x = np.arange(len(desired_order))\n",
    "width = 0.8\n",
    "ax=get_grid_subplot(grid,1, 0)\n",
    "# Plot for spatial information\n",
    "ax.bar(x - width/4, region_info_pct_ordered, width/2, label='Permutation Test', color='#c78e8e', alpha=0.8)\n",
    "ax.bar(x + width/4, region_info_threshold_pct_ordered, width/2, label='Spatial Info > 0.25', color='#e6b0b0', alpha=0.8)\n",
    "ax.set_ylabel('Significant Neurons %')\n",
    "ax.set_xticks(x)\n",
    "ax.set_xticklabels(desired_order, rotation=45)\n",
    "ax.set_xlabel(' ')\n",
    "ax.set_title('Spatial Information')\n",
    "ax.set_ylim(0, 50) # Increased y-limit to accommodate labels\n",
    "ax.spines['top'].set_visible(False)\n",
    "ax.spines['right'].set_visible(False)\n",
    "ax.legend(bbox_to_anchor=(1.05, 1), loc='upper left')\n",
    "\n",
    "\n",
    "ax=get_grid_subplot(grid,0, 0)\n",
    "\n",
    "# Plot for ANOVA\n",
    "ax.bar(x, region_anova_pct_ordered, width, label='ANOVA', color='#7f94c0', alpha=0.6)\n",
    "\n",
    "ax.set_ylabel('Significant Neurons %')\n",
    "ax.set_xticks(x)\n",
    "ax.set_xticklabels(desired_order, rotation=45)\n",
    "ax.set_xlabel(' ')\n",
    "ax.set_title('ANOVA')\n",
    "ax.set_ylim(0, 50) # Increased y-limit to accommodate labels\n",
    "ax.spines['top'].set_visible(False)\n",
    "ax.spines['right'].set_visible(False)\n",
    "save_figure('ANATOMY_REGION_SIGNIFICANCE_Smooth',file_path='/Users/weijiazhang/Plots/PLDM/Human')"
   ]
  },
  {
   "cell_type": "markdown",
   "metadata": {},
   "source": [
    "## Define Threshold"
   ]
  },
  {
   "cell_type": "code",
   "execution_count": 70,
   "metadata": {},
   "outputs": [
    {
     "name": "stdout",
     "output_type": "stream",
     "text": [
      "threshold_info:  0.25\n",
      "threshold_p_val:  0.05\n"
     ]
    }
   ],
   "source": [
    "threshold_info = 0.25\n",
    "threshold_p_val = 0.05\n",
    "\n",
    "print('threshold_info: ', threshold_info)\n",
    "print('threshold_p_val: ', threshold_p_val)"
   ]
  },
  {
   "cell_type": "code",
   "execution_count": 71,
   "metadata": {},
   "outputs": [
    {
     "data": {
      "text/plain": [
       "Index(['unit_ind', 'session_id', 'label', 'spike_name', 'place_bins',\n",
       "       'spike_position', 'trial_changes', 'trial_Num', 'trial_place_bins',\n",
       "       'place_sem', 'trial_fr', 'fr_bins', 'fr_sem', 's_bins', 'place_info',\n",
       "       'place_fr_info', 'place_anova', 'place_fr_anova',\n",
       "       'place_anova_surr_p_val', 'place_anova_surr_z_score',\n",
       "       'place_info_surr_p_val', 'place_info_surr_z_score',\n",
       "       'place_fr_anova_surr_p_val', 'place_fr_anova_surr_z_score',\n",
       "       'place_fr_info_surr_p_val', 'place_fr_info_surr_z_score',\n",
       "       'is_place_anova', 'is_place_info', 'is_place_fr_anova',\n",
       "       'is_place_fr_info', 'channel', 'sessions', 'location', 'location_clean',\n",
       "       'presence_ratio', 'firing_rate'],\n",
       "      dtype='object')"
      ]
     },
     "execution_count": 71,
     "metadata": {},
     "output_type": "execute_result"
    }
   ],
   "source": [
    "results.columns"
   ]
  },
  {
   "cell_type": "code",
   "execution_count": 72,
   "metadata": {},
   "outputs": [],
   "source": [
    "place_info = results['place_fr_info']\n",
    "\n",
    "place_anova = results['place_fr_anova']\n",
    "\n",
    "place_info_surr_p_val = results['place_fr_info_surr_p_val']\n",
    "\n",
    "place_anova_surr_p_val = results['place_fr_anova_surr_p_val']"
   ]
  },
  {
   "cell_type": "code",
   "execution_count": 73,
   "metadata": {},
   "outputs": [],
   "source": [
    "total_cells = len(results)\n"
   ]
  },
  {
   "cell_type": "markdown",
   "metadata": {},
   "source": [
    "## SI permutation vs. ANOVA permutation"
   ]
  },
  {
   "cell_type": "code",
   "execution_count": 74,
   "metadata": {},
   "outputs": [
    {
     "name": "stdout",
     "output_type": "stream",
     "text": [
      "anova_significant:  15.217391304347824\n",
      "info_significant:  16.666666666666664\n"
     ]
    }
   ],
   "source": [
    "both_significant = np.sum((place_anova_surr_p_val < threshold_p_val) & (place_info_surr_p_val < threshold_p_val))\n",
    "both_significant_pct = (both_significant / total_cells) * 100\n",
    "\n",
    "anova_significant = np.sum((place_anova_surr_p_val < threshold_p_val) & ~(place_info_surr_p_val < threshold_p_val))\n",
    "anova_significant_pct = (anova_significant / total_cells) * 100\n",
    "\n",
    "info_significant = np.sum(~(place_anova_surr_p_val < threshold_p_val) & (place_info_surr_p_val < threshold_p_val))\n",
    "info_significant_pct = (info_significant / total_cells) * 100\n",
    "\n",
    "both_not_significant = np.sum(~(place_anova_surr_p_val < threshold_p_val) & ~(place_info_surr_p_val < threshold_p_val))\n",
    "both_not_significant_pct = (both_not_significant / total_cells) * 100\n",
    "\n",
    "data = np.array([\n",
    "    [anova_significant_pct, both_not_significant_pct],\n",
    "    [both_significant_pct, info_significant_pct]\n",
    "])\n",
    "\n",
    "SI_permutation_v_ANOVA_permutation_df = pd.DataFrame(data, index=['N.S.', '*'],\n",
    "                  columns=['*', 'N.S.'])\n",
    "\n",
    "anova_significant = anova_significant_pct+both_significant_pct\n",
    "info_significant = info_significant_pct+both_significant_pct\n",
    "\n",
    "print('anova_significant: ', anova_significant)\n",
    "print('info_significant: ', info_significant)\n",
    "\n"
   ]
  },
  {
   "cell_type": "markdown",
   "metadata": {},
   "source": [
    "## SI Threshold  Vs. ANOVA Permutation"
   ]
  },
  {
   "cell_type": "code",
   "execution_count": 75,
   "metadata": {},
   "outputs": [
    {
     "name": "stdout",
     "output_type": "stream",
     "text": [
      "anova_significant:  15.217391304347826\n",
      "info_significant:  10.144927536231885\n"
     ]
    }
   ],
   "source": [
    "both_significant = np.sum((place_anova_surr_p_val < threshold_p_val) & (place_info > threshold_info))\n",
    "both_significant_pct = (both_significant / total_cells) * 100\n",
    "\n",
    "anova_significant = np.sum((place_anova_surr_p_val < threshold_p_val) & ~(place_info > threshold_info))\n",
    "anova_significant_pct = (anova_significant / total_cells) * 100\n",
    "\n",
    "info_significant = np.sum(~(place_anova_surr_p_val < threshold_p_val) & (place_info > threshold_info))\n",
    "info_significant_pct = (info_significant / total_cells) * 100\n",
    "\n",
    "both_not_significant = np.sum(~(place_anova_surr_p_val < threshold_p_val) & ~(place_info > threshold_info))\n",
    "both_not_significant_pct = (both_not_significant / total_cells) * 100\n",
    "\n",
    "data = np.array([\n",
    "    [anova_significant_pct, both_not_significant_pct],\n",
    "    [both_significant_pct, info_significant_pct]\n",
    "])\n",
    "\n",
    "SI_threshold_v_ANOVA_permutation_df = pd.DataFrame(data, index=['N.S.', '*'],\n",
    "                  columns=['*', 'N.S.'])\n",
    "\n",
    "anova_significant = anova_significant_pct+both_significant_pct\n",
    "info_significant = info_significant_pct+both_significant_pct\n",
    "\n",
    "print('anova_significant: ', anova_significant)\n",
    "print('info_significant: ', info_significant)\n"
   ]
  },
  {
   "cell_type": "markdown",
   "metadata": {},
   "source": [
    "## SI Threshold  Vs. SI Permutation"
   ]
  },
  {
   "cell_type": "code",
   "execution_count": 76,
   "metadata": {},
   "outputs": [
    {
     "name": "stdout",
     "output_type": "stream",
     "text": [
      "info_significant:  16.666666666666664\n",
      "info_threshold:  10.144927536231885\n"
     ]
    }
   ],
   "source": [
    "both_significant = np.sum((place_info_surr_p_val < threshold_p_val) & (place_info > threshold_info))\n",
    "both_significant_pct = (both_significant / total_cells) * 100\n",
    "\n",
    "info_significant = np.sum((place_info_surr_p_val < threshold_p_val) & ~(place_info > threshold_info))\n",
    "info_significant_pct = (info_significant / total_cells) * 100\n",
    "\n",
    "info_threshold = np.sum(~(place_info_surr_p_val < threshold_p_val) & (place_info > threshold_info))\n",
    "info_threshold_pct = (info_threshold / total_cells) * 100\n",
    "\n",
    "both_not_significant = np.sum(~(place_info_surr_p_val < threshold_p_val) & ~(place_info > threshold_info))\n",
    "both_not_significant_pct = (both_not_significant / total_cells) * 100\n",
    "\n",
    "data = np.array([\n",
    "    [info_significant_pct, both_not_significant_pct],\n",
    "    [both_significant_pct, info_threshold_pct]\n",
    "])\n",
    "\n",
    "SI_threshold_v_SI_permutation_df = pd.DataFrame(data, index=['N.S.', '*'],\n",
    "                  columns=['*', 'N.S.'])\n",
    "\n",
    "info_significant_pct_significant = info_significant_pct+both_significant_pct\n",
    "info_threshold_pct_significant = info_threshold_pct+both_significant_pct\n",
    "\n",
    "print('info_significant: ', info_significant_pct_significant)\n",
    "print('info_threshold: ', info_threshold_pct_significant)"
   ]
  },
  {
   "cell_type": "code",
   "execution_count": 77,
   "metadata": {},
   "outputs": [],
   "source": [
    "info_increment = .05\n",
    "anova_increment = .1\n",
    "\n",
    "info_steps, info_significant_percentages = get_significant_percentage(results['place_fr_info'].values,results['place_fr_info_surr_p_val'].values,increment=info_increment)\n",
    "anova_steps, anova_significant_percentages = get_significant_percentage(results['place_fr_anova'].values,results['place_fr_anova_surr_p_val'].values,increment=anova_increment)\n",
    "info_categories, info_agreement_percentages, _, _ = get_agreement_percentage(results['place_fr_info'].values,results['place_fr_info_surr_p_val'].values,results['place_fr_anova_surr_p_val'].values,increment=info_increment)\n",
    "anova_categories, anova_agreement_percentages, _, _= get_agreement_percentage(results['place_fr_anova'].values,results['place_fr_anova_surr_p_val'].values,results['place_fr_info_surr_p_val'].values,increment=anova_increment)\n",
    "\n",
    "\n",
    "anova_color = '#7f94c0'\n",
    "info_color = '#c78e8e'\n",
    "threshold_color = 'black'\n",
    "lw = 7\n"
   ]
  },
  {
   "cell_type": "code",
   "execution_count": 80,
   "metadata": {},
   "outputs": [
    {
     "data": {
      "image/png": "[encoded data removed]",
      "text/plain": [
       "<Figure size 1000x500 with 9 Axes>"
      ]
     },
     "metadata": {},
     "output_type": "display_data"
    }
   ],
   "source": [
    "# Make grid for plotting\n",
    "lw = 2\n",
    "# Define consistent colors\n",
    "anova_color = '#002FA7'  # Deep blue for ANOVA\n",
    "info_color = '#D92911'   # Deep red for Spatial Info\n",
    "si_perm_color = '#610200'  # Black for threshold lines\n",
    "si_thresh_color = '#D92911'\n",
    "threshold_color = '#000000'  # Black for threshold lines\n",
    "\n",
    "grid = make_grid(3, 4, wspace=.8, hspace=1, figsize=(10, 5),\n",
    "                 )\n",
    "\n",
    "plt.rcParams.update({\n",
    "    'font.family': 'Avenir',\n",
    "    'font.size': 10,\n",
    "    'axes.titlesize': 10,\n",
    "    'axes.labelsize': 10,\n",
    "    'legend.fontsize': 10,\n",
    "    'xtick.labelsize': 10,  # Smaller tick label size\n",
    "    'ytick.labelsize': 10,  # Smaller tick label size\n",
    "    'axes.linewidth': 0.5,  # Reduce the thickness of axis lines\n",
    "    'xtick.major.width': 0.8,  # Thinner x ticks\n",
    "    'ytick.major.width': 0.8,  # Thinner y ticks\n",
    "    'xtick.major.size': 2.0,   # Shorter x ticks\n",
    "    'ytick.major.size': 2.0    # Shorter y ticks\n",
    "})\n",
    "\n",
    "\n",
    "\n",
    "ax = get_grid_subplot(grid, 2, 0)\n",
    "heatmap = sns.heatmap(SI_threshold_v_SI_permutation_df, annot=True, fmt='.1f', cmap='Greys', vmin=0, vmax=100, ax=ax, cbar=False)\n",
    "heatmap.set_xticklabels(heatmap.get_xticklabels(), rotation=0, ha='center')\n",
    "heatmap.set_yticklabels(heatmap.get_yticklabels(), rotation=0)\n",
    "# heatmap.set_xlabel('SI (Permutation)')\n",
    "# heatmap.set_ylabel('SI (Threshold)')\n",
    "for t in heatmap.texts:\n",
    "    t.set_text(t.get_text() + '%')\n",
    "\n",
    "\n",
    "x = np.arange(len(desired_order))\n",
    "width = 0.8\n",
    "ax=get_grid_subplot(grid,1, 0)\n",
    "ax.bar(x - width/4, region_info_pct_ordered, width/2, label='p < 0.05', color=si_perm_color, alpha=0.8)\n",
    "ax.bar(x + width/4, region_info_threshold_pct_ordered, width/2, label='SI > 0.25', color=si_thresh_color, alpha=0.8)\n",
    "#ax.set_ylabel('Significant %')\n",
    "ax.set_xticks(x)\n",
    "ax.set_xticklabels(desired_order, rotation=45)\n",
    "ax.set_xlabel(' ')\n",
    "#ax.set_title('Spatial Information')\n",
    "ax.set_ylim(0, 50)\n",
    "ax.spines['top'].set_visible(False)\n",
    "ax.spines['right'].set_visible(False)\n",
    "ax.legend(bbox_to_anchor=(0.6, 1.2), loc='upper left', fontsize='x-small', frameon=False)\n",
    "\n",
    "\n",
    "\n",
    "\n",
    "ax=get_grid_subplot(grid,0, 0)\n",
    "\n",
    "# Plot for ANOVA\n",
    "ax.bar(x, region_anova_pct_ordered, width, label='ANOVA', color=anova_color, alpha=0.6)\n",
    "\n",
    "#ax.set_ylabel('Significant %')\n",
    "ax.set_xticks(x)\n",
    "ax.set_xticklabels(desired_order, rotation=45)\n",
    "ax.set_xlabel(' ')\n",
    "# ax.set_title('ANOVA')\n",
    "ax.set_ylim(0, 50)\n",
    "ax.spines['top'].set_visible(False)\n",
    "ax.spines['right'].set_visible(False)\n",
    "\n",
    "\n",
    "ax = get_grid_subplot(grid, 0, 1)\n",
    "plot_percentages(anova_steps, anova_significant_percentages, \n",
    "                 ylim=[-5,110],\n",
    "                # ylabel='Significant %',\n",
    "                # xlabel='ANOVA F Statistic',\n",
    "                color=anova_color, lw=lw, alpha=0.8, ax=ax)\n",
    "add_vlines(1.6, color=threshold_color, linestyle='--',alpha=1, lw=lw, label='F = 1.6')\n",
    "#ax.legend(frameon=False, loc='lower right', bbox_to_anchor=(1.2, 0.05))\n",
    "\n",
    "drop_spines(['top','right'])\n",
    "\n",
    "# ANOVA Agreement Plot  \n",
    "ax = get_grid_subplot(grid, 0, 2)\n",
    "plot_percentages(anova_steps, anova_agreement_percentages,\n",
    "                 ylim=[-5,110],\n",
    "                # ylabel='Agreement %', \n",
    "                # xlabel='ANOVA F Statistic',\n",
    "                color=anova_color, lw=lw, alpha=0.8, ax=ax)\n",
    "add_vlines(1.6, color=threshold_color, linestyle='--', lw=lw, alpha=1, label='F = 1.6')\n",
    "#ax.legend(frameon=False, loc='lower right', bbox_to_anchor=(1.2, 0.05))\n",
    "\n",
    "drop_spines(['top','right'])\n",
    "\n",
    "# Spatial Information Significance Plot\n",
    "ax = get_grid_subplot(grid, 1, 1)\n",
    "plot_percentages(info_steps, info_significant_percentages,\n",
    "                 xlim=[-0.05,0.6],\n",
    "                 ylim=[-5,100],\n",
    "                # ylabel='Significant%',\n",
    "                # xlabel='Spatial Information',\n",
    "                color=info_color, lw=lw, alpha=0.8, ax=ax)\n",
    "add_vlines(0.25, color=threshold_color, linestyle='--', lw=lw,  alpha=1, label='SI = 0.25')\n",
    "#ax.legend(frameon=False, loc='lower right', bbox_to_anchor=(1.4, 0.1))\n",
    "\n",
    "drop_spines(['top','right'])\n",
    "\n",
    "\n",
    "ax = get_grid_subplot(grid, 1, 2)\n",
    "plot_percentages(info_steps, info_agreement_percentages,\n",
    "                xlim=[-0.05,0.6],\n",
    "                ylim=[-5,110],\n",
    "                # ylabel='Agreement %',\n",
    "                # xlabel='Spatial Information', \n",
    "                color=info_color, lw=lw, alpha=0.8, ax=ax)\n",
    "add_vlines(0.25, color=threshold_color, linestyle='--', lw=lw, alpha=1, label='SI = 0.25')\n",
    "#ax.legend(frameon=False, loc='lower right', bbox_to_anchor=(1.4, 0.1))\n",
    "drop_spines(['top','right'])\n",
    "\n",
    "# Plotting the heatmap\n",
    "ax = get_grid_subplot(grid, 0, 3)\n",
    "heatmap = sns.heatmap(SI_permutation_v_ANOVA_permutation_df, annot=True, fmt='.1f', cmap='Greys', vmin=0, vmax=100, ax=ax, cbar=False)\n",
    "heatmap.set_xticklabels(heatmap.get_xticklabels(), rotation=0, ha='center')\n",
    "heatmap.set_yticklabels(heatmap.get_yticklabels(), rotation=0)\n",
    "# heatmap.set_xlabel('ANOVA')\n",
    "# heatmap.set_ylabel('SI (Permutation)')\n",
    "for t in heatmap.texts:\n",
    "    t.set_text(t.get_text() + '%')\n",
    "\n",
    "ax = get_grid_subplot(grid, 1, 3)\n",
    "heatmap = sns.heatmap(SI_threshold_v_ANOVA_permutation_df, annot=True, fmt='.1f', cmap='Greys', vmin=0, vmax=100, ax=ax, cbar=False)\n",
    "heatmap.set_xticklabels(heatmap.get_xticklabels(), rotation=0, ha='center')\n",
    "heatmap.set_yticklabels(heatmap.get_yticklabels(), rotation=0)\n",
    "# heatmap.set_xlabel('ANOVA')\n",
    "# heatmap.set_ylabel('SI (Threshold)')\n",
    "for t in heatmap.texts:\n",
    "    t.set_text(t.get_text() + '%')\n",
    "\n",
    "save_figure('Figure_Human_Group.pdf',file_path='/Users/weijiazhang/Plots/PLDM/Human')"
   ]
  },
  {
   "cell_type": "code",
   "execution_count": null,
   "metadata": {},
   "outputs": [],
   "source": []
  },
  {
   "cell_type": "code",
   "execution_count": null,
   "metadata": {},
   "outputs": [],
   "source": []
  },
  {
   "cell_type": "code",
   "execution_count": null,
   "metadata": {},
   "outputs": [],
   "source": []
  },
  {
   "cell_type": "code",
   "execution_count": null,
   "metadata": {},
   "outputs": [],
   "source": []
  }
 ],
 "metadata": {
  "kernelspec": {
   "display_name": "base",
   "language": "python",
   "name": "python3"
  },
  "language_info": {
   "codemirror_mode": {
    "name": "ipython",
    "version": 3
   },
   "file_extension": ".py",
   "mimetype": "text/x-python",
   "name": "python",
   "nbconvert_exporter": "python",
   "pygments_lexer": "ipython3",
   "version": "3.11.5"
  }
 },
 "nbformat": 4,
 "nbformat_minor": 2
}
