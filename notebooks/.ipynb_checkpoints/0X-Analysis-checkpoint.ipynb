{
 "cells": [
  {
   "cell_type": "markdown",
   "id": "b9214c43",
   "metadata": {},
   "source": [
    "# Analysis Title"
   ]
  },
  {
   "cell_type": "code",
   "execution_count": null,
   "id": "96dd4b6a",
   "metadata": {},
   "outputs": [],
   "source": [
    "# Imports\n",
    "from convnwb.io import load_nwbfile\n",
    "\n",
    "..."
   ]
  },
  {
   "cell_type": "markdown",
   "id": "c3e6d9ec",
   "metadata": {},
   "source": [
    "## Settings"
   ]
  },
  {
   "cell_type": "code",
   "execution_count": null,
   "id": "79d9318a",
   "metadata": {},
   "outputs": [],
   "source": [
    "# Define the base data folder\n",
    "data_folder = ''"
   ]
  },
  {
   "cell_type": "code",
   "execution_count": null,
   "id": "7da770ae",
   "metadata": {},
   "outputs": [],
   "source": [
    "# Define subject information\n",
    "session = {\n",
    "    'task' : '',\n",
    "    'subject' : '',\n",
    "    'session' : 0    \n",
    "}"
   ]
  },
  {
   "cell_type": "markdown",
   "id": "7b5d2dcd",
   "metadata": {},
   "source": [
    "## Load Data"
   ]
  },
  {
   "cell_type": "code",
   "execution_count": null,
   "id": "f913158e",
   "metadata": {},
   "outputs": [],
   "source": [
    "# Load NWB file\n",
    "nwbfile = load_nwbfile(session, data_folder)"
   ]
  },
  {
   "cell_type": "code",
   "execution_count": null,
   "id": "49abc311",
   "metadata": {},
   "outputs": [],
   "source": []
  },
  {
   "cell_type": "markdown",
   "id": "2fb147f7",
   "metadata": {},
   "source": [
    "## Analyze Data..."
   ]
  },
  {
   "cell_type": "code",
   "execution_count": null,
   "id": "6b8831b4",
   "metadata": {},
   "outputs": [],
   "source": []
  }
 ],
 "metadata": {
  "kernelspec": {
   "display_name": "Python 3 (ipykernel)",
   "language": "python",
   "name": "python3"
  },
  "language_info": {
   "codemirror_mode": {
    "name": "ipython",
    "version": 3
   },
   "file_extension": ".py",
   "mimetype": "text/x-python",
   "name": "python",
   "nbconvert_exporter": "python",
   "pygments_lexer": "ipython3",
   "version": "3.8.3"
  }
 },
 "nbformat": 4,
 "nbformat_minor": 5
}
