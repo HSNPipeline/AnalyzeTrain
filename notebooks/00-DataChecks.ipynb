{
 "cells": [
  {
   "cell_type": "markdown",
   "id": "79afb952",
   "metadata": {},
   "source": [
    "# Data Checks\n",
    "\n",
    "Quick overview of data checks and explorations for a session of XX data."
   ]
  },
  {
   "cell_type": "code",
   "execution_count": null,
   "id": "02ff9add",
   "metadata": {},
   "outputs": [],
   "source": [
    "# Imports\n",
    "from convnwb.io import load_nwbfile"
   ]
  },
  {
   "cell_type": "code",
   "execution_count": null,
   "id": "0d7896ac",
   "metadata": {},
   "outputs": [],
   "source": [
    "# Local imports\n",
    "import sys\n",
    "sys.path.append('../code')\n",
    "..."
   ]
  },
  {
   "cell_type": "markdown",
   "id": "eb31b284",
   "metadata": {},
   "source": [
    "## Settings"
   ]
  },
  {
   "cell_type": "code",
   "execution_count": null,
   "id": "d0e31a7e",
   "metadata": {},
   "outputs": [],
   "source": [
    "# Define the base data folder\n",
    "data_folder = ''"
   ]
  },
  {
   "cell_type": "code",
   "execution_count": null,
   "id": "4ac02534",
   "metadata": {},
   "outputs": [],
   "source": [
    "# Define subject information\n",
    "session = {\n",
    "    'task' : '',\n",
    "    'subject' : '',\n",
    "    'session' : 0    \n",
    "}"
   ]
  },
  {
   "cell_type": "markdown",
   "id": "5592b7b9",
   "metadata": {},
   "source": [
    "## Load Data"
   ]
  },
  {
   "cell_type": "code",
   "execution_count": null,
   "id": "58c8de77",
   "metadata": {},
   "outputs": [],
   "source": [
    "# Load NWB file\n",
    "nwbfile = load_nwbfile(session, data_folder)"
   ]
  },
  {
   "cell_type": "code",
   "execution_count": null,
   "id": "e485e767",
   "metadata": {},
   "outputs": [],
   "source": [
    "# Check the NWBfile contents\n",
    "nwbfile"
   ]
  },
  {
   "cell_type": "markdown",
   "id": "36a0eb56",
   "metadata": {},
   "source": [
    "## Check Data Fields\n",
    "\n",
    "..."
   ]
  }
 ],
 "metadata": {
  "kernelspec": {
   "display_name": "Python 3 (ipykernel)",
   "language": "python",
   "name": "python3"
  },
  "language_info": {
   "codemirror_mode": {
    "name": "ipython",
    "version": 3
   },
   "file_extension": ".py",
   "mimetype": "text/x-python",
   "name": "python",
   "nbconvert_exporter": "python",
   "pygments_lexer": "ipython3",
   "version": "3.8.3"
  }
 },
 "nbformat": 4,
 "nbformat_minor": 5
}
