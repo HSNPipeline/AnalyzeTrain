{
 "cells": [
  {
   "cell_type": "markdown",
   "metadata": {},
   "source": [
    "## Place Cell Analysis \n",
    "This notebook performs place cell detection and analysis using spatial information scores and ANOVA F-statistics. It includes:\n",
    "- Computation of spatial tuning maps for individual neurons\n",
    "- Statistical assessment using spatial information and ANOVA\n",
    "- Permutation-based significance testing to identify place cells\n",
    "- Visualization of spatial tuning across trials and positions\n"
   ]
  },
  {
   "cell_type": "code",
   "execution_count": 3,
   "metadata": {},
   "outputs": [],
   "source": [
    "import numpy as np\n",
    "import pandas as pd \n",
    "\n",
    "import matplotlib.pyplot as plt\n",
    "from scipy import signal\n",
    "\n",
    "from convnwb.io import make_session_name\n",
    "\n",
    "from spiketools.spatial.information import compute_spatial_information\n",
    "from spiketools.stats.permutations import compute_surrogate_stats\n",
    "from spiketools.plts.utils import make_axes, make_grid, get_grid_subplot\n",
    "from spiketools.plts.spatial import plot_heatmap, create_heatmap_title\n",
    "from spiketools.plts.annotate import add_vlines, color_pvalue\n",
    "\n",
    "from spiketools.plts.style import drop_spines\n",
    "from spiketools.plts.stats import plot_surrogates\n",
    "from spiketools.utils.run import create_methods_list"
   ]
  },
  {
   "cell_type": "code",
   "execution_count": 4,
   "metadata": {},
   "outputs": [],
   "source": [
    "import sys\n",
    "sys.path.append('../code')\n",
    "from models import create_df_place, fit_anova_place\n",
    "from utils import  compute_firing_rates, compute_trial_firing_rates, compute_t_occupancy, circular_shuffle_unit_fr\n",
    "sys.path.append('../scripts')\n",
    "from settings import METHODS, SURROGATES"
   ]
  },
  {
   "cell_type": "code",
   "execution_count": 5,
   "metadata": {},
   "outputs": [],
   "source": [
    "\n",
    "from scipy.io import loadmat\n",
    "data = loadmat('/Users/weijiazhang/Data/Train/data_matfile/R1219C_0_train_events.mat')\n",
    "behavioral_data = pd.read_csv('/Users/weijiazhang/Data/Train/events/events.csv')"
   ]
  },
  {
   "cell_type": "code",
   "execution_count": 6,
   "metadata": {},
   "outputs": [],
   "source": [
    "def compute_trial_place_bins(trial_bin, pos_bin, units_fr, edges_trial, edges_pos, trial_occupancy, epochSize):\n",
    "    # Calculate spike counts per trial and position bin\n",
    "    trial_spikes = np.zeros((len(edges_trial)-1, len(edges_pos)-1))\n",
    "    for t, p, f in zip(trial_bin, pos_bin, units_fr):\n",
    "        if t > 0 and t <= len(edges_trial)-1 and p > 0 and p <= len(edges_pos)-1:\n",
    "            trial_spikes[t-1, p-1] += f * epochSize\n",
    "    trial_fr = trial_spikes/trial_occupancy\n",
    "    \n",
    "    return  trial_fr"
   ]
  },
  {
   "cell_type": "markdown",
   "metadata": {},
   "source": [
    "## Place Bin Settings "
   ]
  },
  {
   "cell_type": "code",
   "execution_count": 7,
   "metadata": {},
   "outputs": [],
   "source": [
    "bin_sets = [20,30,40,50,60]"
   ]
  },
  {
   "cell_type": "markdown",
   "metadata": {},
   "source": [
    "## Settings "
   ]
  },
  {
   "cell_type": "code",
   "execution_count": 8,
   "metadata": {},
   "outputs": [],
   "source": [
    "numBins = bin_sets[1]\n",
    "epochSize = 0.1\n",
    "kernelSize = 2\n",
    "numBinsSpeed = 25\n",
    "units = 19"
   ]
  },
  {
   "cell_type": "code",
   "execution_count": 9,
   "metadata": {},
   "outputs": [
    {
     "data": {
      "text/plain": [
       "'TRAIN_R1219C_session_0'"
      ]
     },
     "execution_count": 9,
     "metadata": {},
     "output_type": "execute_result"
    }
   ],
   "source": [
    "session = {\n",
    "    'experiment' : 'TRAIN',\n",
    "    'subject' : 'R1219C',\n",
    "    'session' : '0'    \n",
    "}\n",
    "\n",
    "experiment = session['experiment']\n",
    "subject = session['subject']\n",
    "sess = session['session']\n",
    "session_name = make_session_name(subject,experiment,sess)\n",
    "session_name"
   ]
  },
  {
   "cell_type": "markdown",
   "metadata": {},
   "source": [
    "## Load Neural Data "
   ]
  },
  {
   "cell_type": "code",
   "execution_count": 10,
   "metadata": {},
   "outputs": [
    {
     "data": {
      "text/plain": [
       "(7654, 23)"
      ]
     },
     "execution_count": 10,
     "metadata": {},
     "output_type": "execute_result"
    }
   ],
   "source": [
    "events_fr = data['events']['fr'][0][0]\n",
    "events_fr.shape"
   ]
  },
  {
   "cell_type": "markdown",
   "metadata": {},
   "source": [
    "## Load Behavioral Data "
   ]
  },
  {
   "cell_type": "code",
   "execution_count": 11,
   "metadata": {},
   "outputs": [],
   "source": [
    "# Get behavioral data\n",
    "df = pd.DataFrame(data['events']['events'][0][0][0])\n",
    "# Convert object columns to string type\n",
    "str_cols = ['subj', 'object','timesfile']\n",
    "for col in str_cols:\n",
    "    df[col] = df[col].str[0].astype(str)\n",
    "# Convert numeric columns to appropriate types\n",
    "int_cols = ['session', 'trialNum', 'blockType', 'driveType'] \n",
    "float_cols = ['object_position', 'response_position', 'response_mstime', 'timesoffset','mstime', 'position','speed']\n",
    "for col in int_cols:\n",
    "    df[col] = df[col].str[0].astype(int)\n",
    "for col in float_cols:\n",
    "    df[col] = df[col].str[0].astype(float)\n",
    "\n",
    "behavioral_data = df"
   ]
  },
  {
   "cell_type": "markdown",
   "metadata": {},
   "source": [
    "## Spike Name"
   ]
  },
  {
   "cell_type": "code",
   "execution_count": 12,
   "metadata": {},
   "outputs": [
    {
     "name": "stdout",
     "output_type": "stream",
     "text": [
      "Spike name: ['NSX124_2']\n"
     ]
    }
   ],
   "source": [
    "spike_name = data['events']['spikeData'][0][0]['spikeNames'][0][0][0][units]\n",
    "print(f\"Spike name: {spike_name}\")\n"
   ]
  },
  {
   "cell_type": "markdown",
   "metadata": {},
   "source": [
    "## Speed"
   ]
  },
  {
   "cell_type": "code",
   "execution_count": 13,
   "metadata": {},
   "outputs": [],
   "source": [
    "speeds = np.array(behavioral_data['speed'])\n",
    "bad = speeds < 2"
   ]
  },
  {
   "cell_type": "code",
   "execution_count": 14,
   "metadata": {},
   "outputs": [],
   "source": [
    "# behavioral_data = behavioral_data[~bad]\n",
    "# events_fr = events_fr[~bad,:]"
   ]
  },
  {
   "cell_type": "markdown",
   "metadata": {},
   "source": [
    "## Unit Data"
   ]
  },
  {
   "cell_type": "code",
   "execution_count": 15,
   "metadata": {},
   "outputs": [],
   "source": [
    "units_fr = events_fr[:,units]"
   ]
  },
  {
   "cell_type": "code",
   "execution_count": 16,
   "metadata": {},
   "outputs": [
    {
     "data": {
      "text/plain": [
       "numpy.ndarray"
      ]
     },
     "execution_count": 16,
     "metadata": {},
     "output_type": "execute_result"
    }
   ],
   "source": [
    "type(events_fr)"
   ]
  },
  {
   "cell_type": "markdown",
   "metadata": {},
   "source": [
    "## Extract Position Data"
   ]
  },
  {
   "cell_type": "code",
   "execution_count": 17,
   "metadata": {},
   "outputs": [
    {
     "data": {
      "text/plain": [
       "0       0.000439\n",
       "1       0.002422\n",
       "2       0.006106\n",
       "3       0.011512\n",
       "4       0.018584\n",
       "          ...   \n",
       "7649    0.930124\n",
       "7650    0.942914\n",
       "7651    0.954228\n",
       "7652    0.964259\n",
       "7653    0.973158\n",
       "Name: position, Length: 7654, dtype: float64"
      ]
     },
     "execution_count": 17,
     "metadata": {},
     "output_type": "execute_result"
    }
   ],
   "source": [
    "positions = behavioral_data['position']\n",
    "positions = (positions + 34) / 68  # Normalize to 0-1 range\n",
    "positions[positions < 0] = 0  # Clip values below 0\n",
    "positions[positions > 1] = 1 \n",
    "positions "
   ]
  },
  {
   "cell_type": "code",
   "execution_count": 19,
   "metadata": {},
   "outputs": [
    {
     "name": "stdout",
     "output_type": "stream",
     "text": [
      " \n",
      "The number of bins is 20.00\n",
      "The Spatial Information is 0.08\n",
      "The ANOVA place F-value is 4.85\n",
      " \n",
      "The number of bins is 30.00\n",
      "The Spatial Information is 0.09\n",
      "The ANOVA place F-value is 3.07\n",
      " \n",
      "The number of bins is 40.00\n",
      "The Spatial Information is 0.11\n",
      "The ANOVA place F-value is 3.12\n",
      " \n",
      "The number of bins is 50.00\n",
      "The Spatial Information is 0.12\n"
     ]
    },
    {
     "name": "stderr",
     "output_type": "stream",
     "text": [
      "/var/folders/tx/9bxcz_2j6m79n4dmyyw6s2zm0000gn/T/ipykernel_15010/709868282.py:7: RuntimeWarning: invalid value encountered in divide\n",
      "  trial_fr = trial_spikes/trial_occupancy\n"
     ]
    },
    {
     "name": "stdout",
     "output_type": "stream",
     "text": [
      "The ANOVA place F-value is 2.50\n",
      " \n",
      "The number of bins is 60.00\n",
      "The Spatial Information is 0.13\n",
      "The ANOVA place F-value is 2.18\n"
     ]
    }
   ],
   "source": [
    "for i in range(len(bin_sets)):\n",
    "    numBins = bin_sets[i]\n",
    "    edges_pos = np.linspace(0, 100, numBins+1)\n",
    "    pos_bin = np.digitize(positions*100, edges_pos)\n",
    "    count, _ = np.histogram(positions*100, bins=edges_pos)\n",
    "    print(' ')\n",
    "    print('The number of bins is {:4.2f}'.format(numBins))\n",
    "\n",
    "    ## Compute Occupancy\n",
    "    occ = count * epochSize\n",
    "\n",
    "    ## Compute Trial Occupancy\n",
    "    edges_trial = np.arange(0.5, 65, 1)  # 0.5:1:65 in MATLAB\n",
    "    trial_bin = np.array(behavioral_data['trialNum'])\n",
    "    trial_occupancy = compute_t_occupancy(trial_bin, pos_bin, edges_trial, edges_pos, epochSize)\n",
    "\n",
    "    ## Compute Trial Place Bins\n",
    "    trial_place_bins = compute_trial_place_bins(trial_bin, pos_bin, units_fr, edges_trial, edges_pos, trial_occupancy,epochSize)\n",
    "    place_bins = np.nanmean(trial_place_bins,axis = 0)\n",
    "    ## Statistical Analysis \n",
    "    results = {}\n",
    "    # Compute mutual information of spiking and location\n",
    "    results['place_info'] = compute_spatial_information(place_bins, occ, normalize=False)\n",
    "    print('The Spatial Information is {:4.2f}'.format(results['place_info']))\n",
    "    ## ANOVA\n",
    "    df = create_df_place(trial_place_bins[:,:-3])\n",
    "    results['place_anova']= fit_anova_place(df)\n",
    "    # Check the computed place F-value\n",
    "    print('The ANOVA place F-value is {:4.2f}'.format(results['place_anova']))\n"
   ]
  },
  {
   "cell_type": "code",
   "execution_count": null,
   "metadata": {},
   "outputs": [],
   "source": []
  },
  {
   "cell_type": "code",
   "execution_count": null,
   "metadata": {},
   "outputs": [],
   "source": []
  },
  {
   "cell_type": "code",
   "execution_count": null,
   "metadata": {},
   "outputs": [],
   "source": []
  }
 ],
 "metadata": {
  "kernelspec": {
   "display_name": "base",
   "language": "python",
   "name": "base"
  },
  "language_info": {
   "codemirror_mode": {
    "name": "ipython",
    "version": 3
   },
   "file_extension": ".py",
   "mimetype": "text/x-python",
   "name": "python",
   "nbconvert_exporter": "python",
   "pygments_lexer": "ipython3",
   "version": "3.11.5"
  }
 },
 "nbformat": 4,
 "nbformat_minor": 2
}
