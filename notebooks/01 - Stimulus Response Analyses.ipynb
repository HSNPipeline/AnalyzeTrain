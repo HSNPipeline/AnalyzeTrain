{
 "cells": [
  {
   "cell_type": "markdown",
   "id": "2006ce91",
   "metadata": {},
   "source": [
    "# Stimulus Response Analyses\n",
    "\n",
    "This notebook explores stimulus response analysis to stimuli & events of interest.\n",
    "\n",
    "Investigated events:\n",
    "\n"
   ]
  },
  {
   "cell_type": "code",
   "execution_count": 1,
   "id": "f63e0fb2",
   "metadata": {},
   "outputs": [],
   "source": [
    "%config Completer.use_jedi = False"
   ]
  },
  {
   "cell_type": "code",
   "execution_count": 2,
   "id": "4b22ff4d",
   "metadata": {},
   "outputs": [],
   "source": [
    "import numpy as np\n",
    "import matplotlib.pyplot as plt\n",
    "\n",
    "from scipy import stats\n",
    "from matplotlib.lines import Line2D\n",
    "\n",
    "from convnwb.io import load_nwbfile\n",
    "\n",
    "from spiketools.plts.trials import plot_rate_by_time\n",
    "from spiketools.plts.annotate import add_vlines\n",
    "from spiketools.plts.style import drop_spines\n",
    "from spiketools.plts.trials import plot_rasters, create_raster_title\n",
    "from spiketools.plts.utils import make_axes, save_figure, make_grid, get_grid_subplot\n",
    "from spiketools.utils.epoch import epoch_spikes_by_event\n",
    "from spiketools.utils.base import select_from_list\n",
    "from spiketools.measures.trials import compute_trial_frs\n",
    "from spiketools.stats.trials import compare_pre_post_activity"
   ]
  },
  {
   "cell_type": "code",
   "execution_count": 3,
   "id": "5ebfc285",
   "metadata": {},
   "outputs": [],
   "source": [
    "import seaborn as sns\n",
    "sns.set_context('talk')"
   ]
  },
  {
   "cell_type": "markdown",
   "id": "6f568e6d",
   "metadata": {},
   "source": [
    "## Settings"
   ]
  },
  {
   "cell_type": "code",
   "execution_count": 4,
   "id": "be4b28bb",
   "metadata": {},
   "outputs": [],
   "source": [
    "# Define the base data folder\n",
    "data_folder = '/Users/weijiazhang/Data/Train_NWB'\n",
    "# Define subject information\n",
    "session = {\n",
    "    'experiment' : 'TRAIN',\n",
    "    'subject' : 'R1219C',\n",
    "    'session' : 0    \n",
    "}"
   ]
  },
  {
   "cell_type": "code",
   "execution_count": 5,
   "id": "2743f4bb",
   "metadata": {},
   "outputs": [],
   "source": [
    "# Set a unit of interest to select\n",
    "uind = 2"
   ]
  },
  {
   "cell_type": "code",
   "execution_count": 6,
   "id": "b226a38e",
   "metadata": {},
   "outputs": [],
   "source": [
    "# Set the time range to analyze, and pre & post trial windows (in seconds)\n",
    "trial_range = [-2, 2]\n",
    "pre_window = [-2, 0]\n",
    "post_window = [0, 2]"
   ]
  },
  {
   "cell_type": "markdown",
   "id": "1087e661",
   "metadata": {},
   "source": [
    "## Load Data"
   ]
  },
  {
   "cell_type": "code",
   "execution_count": 7,
   "id": "f53dfe1c",
   "metadata": {},
   "outputs": [],
   "source": [
    "# Load NWB file\n",
    "nwbfile = load_nwbfile(session, data_folder)"
   ]
  },
  {
   "cell_type": "code",
   "execution_count": 13,
   "id": "2b262d71",
   "metadata": {},
   "outputs": [
    {
     "data": {
      "text/plain": [
       "trials pynwb.epoch.TimeIntervals at 0x6373980816\n",
       "Fields:\n",
       "  colnames: ['start_time' 'stop_time' 'drive_type' 'feedback_start_time'\n",
       " 'feedback_stop_time' 'fixation_start_time' 'fixation_stop_time'\n",
       " 'hold_start_time' 'hold_stop_time' 'movement_start_time'\n",
       " 'movement_stop_time' 'object' 'object_position' 'response_error'\n",
       " 'response_position' 'response_time' 'trial_type']\n",
       "  columns: (\n",
       "    start_time <class 'hdmf.common.table.VectorData'>,\n",
       "    stop_time <class 'hdmf.common.table.VectorData'>,\n",
       "    drive_type <class 'hdmf.common.table.VectorData'>,\n",
       "    feedback_start_time <class 'hdmf.common.table.VectorData'>,\n",
       "    feedback_stop_time <class 'hdmf.common.table.VectorData'>,\n",
       "    fixation_start_time <class 'hdmf.common.table.VectorData'>,\n",
       "    fixation_stop_time <class 'hdmf.common.table.VectorData'>,\n",
       "    hold_start_time <class 'hdmf.common.table.VectorData'>,\n",
       "    hold_stop_time <class 'hdmf.common.table.VectorData'>,\n",
       "    movement_start_time <class 'hdmf.common.table.VectorData'>,\n",
       "    movement_stop_time <class 'hdmf.common.table.VectorData'>,\n",
       "    object <class 'hdmf.common.table.VectorData'>,\n",
       "    object_position <class 'hdmf.common.table.VectorData'>,\n",
       "    response_error <class 'hdmf.common.table.VectorData'>,\n",
       "    response_position <class 'hdmf.common.table.VectorData'>,\n",
       "    response_time <class 'hdmf.common.table.VectorData'>,\n",
       "    trial_type <class 'hdmf.common.table.VectorData'>\n",
       "  )\n",
       "  description: experimental trials\n",
       "  id: id <class 'hdmf.common.table.ElementIdentifiers'>"
      ]
     },
     "execution_count": 13,
     "metadata": {},
     "output_type": "execute_result"
    }
   ],
   "source": [
    "nwbfile.trials"
   ]
  },
  {
   "cell_type": "code",
   "execution_count": 24,
   "id": "b0fcc52c",
   "metadata": {},
   "outputs": [],
   "source": [
    "# Get object and object position\n",
    "nwbfile.trials\n",
    "obj = nwbfile.trials.object[:]\n",
    "obj_pos = nwbfile.trials.object[:]\n",
    "# res_pos = nwbfile.trials.response_position[:]\n",
    "# res_time = nwbfile.trials.response_time[:]\n",
    "\n"
   ]
  },
  {
   "cell_type": "code",
   "execution_count": 25,
   "id": "bf0b6158",
   "metadata": {},
   "outputs": [
    {
     "name": "stdout",
     "output_type": "stream",
     "text": [
      "Number of units: 23\n"
     ]
    }
   ],
   "source": [
    "# Check the number of units \n",
    "n_units = len(nwbfile.units)\n",
    "\n",
    "print('Number of units: {}'.format(n_units))\n",
    "#print('Number to keep:  {}'.format(n_keep))"
   ]
  },
  {
   "cell_type": "code",
   "execution_count": 26,
   "id": "33e49949",
   "metadata": {},
   "outputs": [],
   "source": [
    "# Get spikes for unit of interest\n",
    "spikes = nwbfile.units.get_unit_spike_times(uind)"
   ]
  },
  {
   "cell_type": "markdown",
   "id": "1bb35a95",
   "metadata": {},
   "source": [
    "## Subject response time and position"
   ]
  },
  {
   "cell_type": "code",
   "execution_count": 27,
   "id": "c48ef41f",
   "metadata": {},
   "outputs": [],
   "source": [
    "# Get subject response position and time \n",
    "\n",
    "res_pos = nwbfile.trials.response_position[:]\n",
    "res_time = nwbfile.trials.response_time[:]"
   ]
  },
  {
   "cell_type": "code",
   "execution_count": 28,
   "id": "e8068856",
   "metadata": {},
   "outputs": [
    {
     "name": "stdout",
     "output_type": "stream",
     "text": [
      "Number of responses: 64\n"
     ]
    }
   ],
   "source": [
    "# Check the number of responses\n",
    "\n",
    "n_response = len(res_time)\n",
    "print('Number of responses: {}'.format(n_response ))"
   ]
  },
  {
   "cell_type": "code",
   "execution_count": 32,
   "id": "4ffa5cb3",
   "metadata": {},
   "outputs": [],
   "source": [
    "# Gather neural data around trials of interest\n",
    "all_trials_response = epoch_spikes_by_event(spikes, res_time, trial_range)"
   ]
  },
  {
   "cell_type": "code",
   "execution_count": 35,
   "id": "7ed753b4",
   "metadata": {},
   "outputs": [],
   "source": [
    "# Compute averages & statistical comparison of pre / post window firing rates\n",
    "avg_pre, avg_post, t_val, p_val = compare_pre_post_activity(all_trials_chest, pre_window, post_window)"
   ]
  },
  {
   "cell_type": "markdown",
   "id": "9b582445",
   "metadata": {},
   "source": [
    "## Subject response - Split by Stimulus Content"
   ]
  },
  {
   "cell_type": "code",
   "execution_count": 36,
   "id": "1b19dbdb",
   "metadata": {},
   "outputs": [
    {
     "ename": "NameError",
     "evalue": "name 'movement_end' is not defined",
     "output_type": "error",
     "traceback": [
      "\u001b[0;31m---------------------------------------------------------------------------\u001b[0m",
      "\u001b[0;31mNameError\u001b[0m                                 Traceback (most recent call last)",
      "Input \u001b[0;32mIn [36]\u001b[0m, in \u001b[0;36m<cell line: 2>\u001b[0;34m()\u001b[0m\n\u001b[1;32m      1\u001b[0m \u001b[38;5;66;03m# Create masks to sub-select objects \u001b[39;00m\n\u001b[0;32m----> 2\u001b[0m barrel_ind \u001b[38;5;241m=\u001b[39m [obj[:]\u001b[38;5;241m==\u001b[39m\u001b[38;5;124m'\u001b[39m\u001b[38;5;124mb\u001b[39m\u001b[38;5;124m'\u001b[39m \u001b[38;5;28;01mfor\u001b[39;00m ind \u001b[38;5;129;01min\u001b[39;00m \u001b[38;5;28mrange\u001b[39m(\u001b[38;5;28mlen\u001b[39m(\u001b[43mmovement_end\u001b[49m))]\n",
      "\u001b[0;31mNameError\u001b[0m: name 'movement_end' is not defined"
     ]
    }
   ],
   "source": [
    "# Create masks to sub-select objects \n",
    "barrel_ind = [obj[:]=='b'barrel'' for ind in range(len(movement_end))]\n"
   ]
  },
  {
   "cell_type": "code",
   "execution_count": 37,
   "id": "c9b12d35",
   "metadata": {},
   "outputs": [
    {
     "data": {
      "text/plain": [
       "array([b'barrel', b'barrel', b'barrel', b'barrel', b'barrel', b'barrel',\n",
       "       b'box', b'box', b'box', b'box', b'box', b'box', b'box', b'barrel',\n",
       "       b'box', b'box', b'box', b'barrel', b'barrel', b'barrel', b'box',\n",
       "       b'barrel', b'box', b'box', b'barrel', b'barrel', b'barrel', b'box',\n",
       "       b'barrel', b'barrel', b'box', b'box', b'bench', b'bench', b'bench',\n",
       "       b'bench', b'bench', b'bench', b'desk', b'desk', b'desk', b'desk',\n",
       "       b'desk', b'desk', b'desk', b'bench', b'bench', b'bench', b'desk',\n",
       "       b'desk', b'bench', b'desk', b'desk', b'bench', b'bench', b'desk',\n",
       "       b'desk', b'bench', b'desk', b'desk', b'bench', b'bench', b'bench',\n",
       "       b'desk'], dtype=object)"
      ]
     },
     "execution_count": 37,
     "metadata": {},
     "output_type": "execute_result"
    }
   ],
   "source": [
    "obj"
   ]
  },
  {
   "cell_type": "code",
   "execution_count": null,
   "id": "2f9ebe74",
   "metadata": {},
   "outputs": [],
   "source": []
  }
 ],
 "metadata": {
  "kernelspec": {
   "display_name": "Python 3 (ipykernel)",
   "language": "python",
   "name": "python3"
  },
  "language_info": {
   "codemirror_mode": {
    "name": "ipython",
    "version": 3
   },
   "file_extension": ".py",
   "mimetype": "text/x-python",
   "name": "python",
   "nbconvert_exporter": "python",
   "pygments_lexer": "ipython3",
   "version": "3.9.12"
  },
  "toc": {
   "base_numbering": 1,
   "nav_menu": {},
   "number_sections": true,
   "sideBar": true,
   "skip_h1_title": false,
   "title_cell": "Table of Contents",
   "title_sidebar": "Contents",
   "toc_cell": false,
   "toc_position": {},
   "toc_section_display": true,
   "toc_window_display": true
  }
 },
 "nbformat": 4,
 "nbformat_minor": 5
}
