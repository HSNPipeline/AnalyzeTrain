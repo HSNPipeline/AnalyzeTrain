{
 "cells": [
  {
   "cell_type": "markdown",
   "id": "66347b5b",
   "metadata": {},
   "source": [
    "# Stimulus Response Analyses\n",
    "\n",
    "This notebook explores stimulus response analysis to stimuli & events of interest.\n",
    "\n",
    "Investigated events:\n",
    "\n"
   ]
  },
  {
   "cell_type": "code",
   "execution_count": 1,
   "id": "cb7999ce",
   "metadata": {},
   "outputs": [],
   "source": [
    "%config Completer.use_jedi = False"
   ]
  },
  {
   "cell_type": "code",
   "execution_count": 2,
   "id": "a07be3fe",
   "metadata": {},
   "outputs": [],
   "source": [
    "import numpy as np\n",
    "import matplotlib.pyplot as plt\n",
    "\n",
    "from scipy import stats\n",
    "from matplotlib.lines import Line2D\n",
    "\n",
    "from convnwb.io import load_nwbfile\n",
    "\n",
    "from spiketools.plts.trials import plot_rate_by_time\n",
    "from spiketools.plts.annotate import add_vlines\n",
    "from spiketools.plts.style import drop_spines\n",
    "from spiketools.plts.trials import plot_rasters, create_raster_title\n",
    "from spiketools.plts.utils import make_axes, save_figure, make_grid, get_grid_subplot\n",
    "from spiketools.utils.epoch import epoch_spikes_by_event\n",
    "from spiketools.utils.base import select_from_list\n",
    "from spiketools.measures.trials import compute_trial_frs\n",
    "from spiketools.stats.trials import compare_pre_post_activity"
   ]
  },
  {
   "cell_type": "code",
   "execution_count": 3,
   "id": "e5fc6deb",
   "metadata": {},
   "outputs": [],
   "source": [
    "import seaborn as sns\n",
    "sns.set_context('talk')"
   ]
  },
  {
   "cell_type": "code",
   "execution_count": 4,
   "id": "cdfa6076",
   "metadata": {},
   "outputs": [],
   "source": [
    "import sys\n",
    "sys.path.append('../code')\n",
    "#from plts import plot_task_structure\n",
    "from utils import group_array_by_key"
   ]
  },
  {
   "cell_type": "markdown",
   "id": "af581abe",
   "metadata": {},
   "source": [
    "## Settings"
   ]
  },
  {
   "cell_type": "code",
   "execution_count": 5,
   "id": "5e40a671",
   "metadata": {},
   "outputs": [],
   "source": [
    "# Define the base data folder\n",
    "data_folder = '/Users/weijiazhang/Data/Train_NWB'\n",
    "# Define subject information\n",
    "session = {\n",
    "    'experiment' : 'TRAIN',\n",
    "    'subject' : 'R1219C',\n",
    "    'session' : 0    \n",
    "}"
   ]
  },
  {
   "cell_type": "code",
   "execution_count": 6,
   "id": "e5970a12",
   "metadata": {},
   "outputs": [],
   "source": [
    "# Set a unit of interest to select\n",
    "uind = 2"
   ]
  },
  {
   "cell_type": "code",
   "execution_count": 7,
   "id": "a997a41b",
   "metadata": {},
   "outputs": [],
   "source": [
    "# Set the time range to analyze, and pre & post trial windows (in seconds)\n",
    "trial_range = [-2, 2]\n",
    "pre_window = [-2, 0]\n",
    "post_window = [0, 2]"
   ]
  },
  {
   "cell_type": "markdown",
   "id": "e1339613",
   "metadata": {},
   "source": [
    "## Load Data"
   ]
  },
  {
   "cell_type": "code",
   "execution_count": 8,
   "id": "14cca948",
   "metadata": {},
   "outputs": [],
   "source": [
    "# Load NWB file\n",
    "nwbfile = load_nwbfile(session, data_folder)"
   ]
  },
  {
   "cell_type": "code",
   "execution_count": 9,
   "id": "6441b8ba",
   "metadata": {},
   "outputs": [
    {
     "data": {
      "text/plain": [
       "trials pynwb.epoch.TimeIntervals at 0x5095253712\n",
       "Fields:\n",
       "  colnames: ['start_time' 'stop_time' 'drive_type' 'feedback_start_time'\n",
       " 'feedback_stop_time' 'fixation_start_time' 'fixation_stop_time'\n",
       " 'hold_start_time' 'hold_stop_time' 'movement_start_time'\n",
       " 'movement_stop_time' 'object' 'object_position' 'response_error'\n",
       " 'response_position' 'response_time' 'trial_type']\n",
       "  columns: (\n",
       "    start_time <class 'hdmf.common.table.VectorData'>,\n",
       "    stop_time <class 'hdmf.common.table.VectorData'>,\n",
       "    drive_type <class 'hdmf.common.table.VectorData'>,\n",
       "    feedback_start_time <class 'hdmf.common.table.VectorData'>,\n",
       "    feedback_stop_time <class 'hdmf.common.table.VectorData'>,\n",
       "    fixation_start_time <class 'hdmf.common.table.VectorData'>,\n",
       "    fixation_stop_time <class 'hdmf.common.table.VectorData'>,\n",
       "    hold_start_time <class 'hdmf.common.table.VectorData'>,\n",
       "    hold_stop_time <class 'hdmf.common.table.VectorData'>,\n",
       "    movement_start_time <class 'hdmf.common.table.VectorData'>,\n",
       "    movement_stop_time <class 'hdmf.common.table.VectorData'>,\n",
       "    object <class 'hdmf.common.table.VectorData'>,\n",
       "    object_position <class 'hdmf.common.table.VectorData'>,\n",
       "    response_error <class 'hdmf.common.table.VectorData'>,\n",
       "    response_position <class 'hdmf.common.table.VectorData'>,\n",
       "    response_time <class 'hdmf.common.table.VectorData'>,\n",
       "    trial_type <class 'hdmf.common.table.VectorData'>\n",
       "  )\n",
       "  description: experimental trials\n",
       "  id: id <class 'hdmf.common.table.ElementIdentifiers'>"
      ]
     },
     "execution_count": 9,
     "metadata": {},
     "output_type": "execute_result"
    }
   ],
   "source": [
    "nwbfile.trials"
   ]
  },
  {
   "cell_type": "code",
   "execution_count": 10,
   "id": "5faf9fbc",
   "metadata": {},
   "outputs": [],
   "source": [
    "# Get object and object position\n",
    "nwbfile.trials\n",
    "obj = nwbfile.trials.object[:]\n",
    "obj_pos = nwbfile.trials.object[:]\n",
    "# res_pos = nwbfile.trials.response_position[:]\n",
    "# res_time = nwbfile.trials.response_time[:]\n",
    "\n"
   ]
  },
  {
   "cell_type": "code",
   "execution_count": 11,
   "id": "57030f63",
   "metadata": {},
   "outputs": [
    {
     "name": "stdout",
     "output_type": "stream",
     "text": [
      "Number of units: 23\n"
     ]
    }
   ],
   "source": [
    "# Check the number of units \n",
    "n_units = len(nwbfile.units)\n",
    "\n",
    "print('Number of units: {}'.format(n_units))\n",
    "#print('Number to keep:  {}'.format(n_keep))"
   ]
  },
  {
   "cell_type": "code",
   "execution_count": 12,
   "id": "5b066687",
   "metadata": {},
   "outputs": [],
   "source": [
    "# Get spikes for unit of interest\n",
    "spikes = nwbfile.units.get_unit_spike_times(uind)"
   ]
  },
  {
   "cell_type": "markdown",
   "id": "254ef1c7",
   "metadata": {},
   "source": [
    "## Subject response time and position"
   ]
  },
  {
   "cell_type": "code",
   "execution_count": 13,
   "id": "fd613382",
   "metadata": {},
   "outputs": [],
   "source": [
    "# Get subject response position and time \n",
    "\n",
    "res_pos = nwbfile.trials.response_position[:]\n",
    "res_time = nwbfile.trials.response_time[:]"
   ]
  },
  {
   "cell_type": "code",
   "execution_count": 14,
   "id": "494d5bc8",
   "metadata": {},
   "outputs": [
    {
     "name": "stdout",
     "output_type": "stream",
     "text": [
      "Number of responses: 64\n"
     ]
    }
   ],
   "source": [
    "# Check the number of responses\n",
    "\n",
    "n_response = len(res_time)\n",
    "print('Number of responses: {}'.format(n_response ))"
   ]
  },
  {
   "cell_type": "code",
   "execution_count": 15,
   "id": "d42d93c0",
   "metadata": {},
   "outputs": [],
   "source": [
    "# Gather neural data around trials of interest\n",
    "all_trials_response = epoch_spikes_by_event(spikes, res_time, trial_range)"
   ]
  },
  {
   "cell_type": "code",
   "execution_count": 17,
   "id": "d1f6cae8",
   "metadata": {},
   "outputs": [],
   "source": [
    "# Compute averages & statistical comparison of pre / post window firing rates\n",
    "avg_pre, avg_post, t_val, p_val = compare_pre_post_activity(all_trials_response, pre_window, post_window)"
   ]
  },
  {
   "cell_type": "markdown",
   "id": "0ad43366",
   "metadata": {},
   "source": [
    "## Subject response - Split by Stimulus Content"
   ]
  },
  {
   "cell_type": "code",
   "execution_count": 32,
   "id": "e5fde017",
   "metadata": {},
   "outputs": [],
   "source": [
    "# Create masks to sub-select objects with respect to response time\n",
    "mask_res_time = group_array_by_key(obj, res_time)\n",
    "mask_res_time\n",
    "barrel_res_time =  np.array(mask_res_time[b'barrel'][:])\n",
    "box_res_time =  np.array(mask_res_time[b'box'][:])\n",
    "bench_res_time =  np.array(mask_res_time[b'bench'][:])\n",
    "desk_res_time =  np.array(mask_res_time[b'desk'][:])\n",
    "\n",
    "\n",
    "num_barrel = len(barrel_res_time)\n",
    "\n",
    "num_box = len(box_res_time)\n",
    "\n",
    "num_bench = len(bench_res_time)\n",
    "\n",
    "num_desk= len(desk_res_time)"
   ]
  },
  {
   "cell_type": "code",
   "execution_count": 35,
   "id": "ebf80676",
   "metadata": {},
   "outputs": [
    {
     "name": "stdout",
     "output_type": "stream",
     "text": [
      "Number of barrel trials: \t16\n",
      "Number of box trials: \t16\n",
      "Number of bench trials: \t16\n",
      "Number of desk trials: \t16\n"
     ]
    }
   ],
   "source": [
    "# Check the number of trials with respect to each individual objects\n",
    "print('Number of barrel trials: \\t{}'.format(num_barrel))\n",
    "print('Number of box trials: \\t{}'.format(num_box))\n",
    "print('Number of bench trials: \\t{}'.format(num_bench))\n",
    "print('Number of desk trials: \\t{}'.format(num_desk))\n"
   ]
  },
  {
   "cell_type": "code",
   "execution_count": null,
   "id": "59edc444",
   "metadata": {},
   "outputs": [],
   "source": []
  }
 ],
 "metadata": {
  "kernelspec": {
   "display_name": "Python 3 (ipykernel)",
   "language": "python",
   "name": "python3"
  },
  "language_info": {
   "codemirror_mode": {
    "name": "ipython",
    "version": 3
   },
   "file_extension": ".py",
   "mimetype": "text/x-python",
   "name": "python",
   "nbconvert_exporter": "python",
   "pygments_lexer": "ipython3",
   "version": "3.9.12"
  },
  "toc": {
   "base_numbering": 1,
   "nav_menu": {},
   "number_sections": true,
   "sideBar": true,
   "skip_h1_title": false,
   "title_cell": "Table of Contents",
   "title_sidebar": "Contents",
   "toc_cell": false,
   "toc_position": {},
   "toc_section_display": true,
   "toc_window_display": true
  }
 },
 "nbformat": 4,
 "nbformat_minor": 5
}
