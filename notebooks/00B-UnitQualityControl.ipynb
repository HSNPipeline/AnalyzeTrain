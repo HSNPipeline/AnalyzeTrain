{
 "cells": [
  {
   "cell_type": "markdown",
   "id": "b9214c43",
   "metadata": {},
   "source": [
    "# Quality Control Reports\n",
    "Create a report quality checking an individual unit. Unit exclusion criteria:\n",
    "\n",
    "- firing rate < 0.15 Hz\n",
    "- presence ration < 50%\n",
    "- any bad unit identified from visual inspection\n"
   ]
  },
  {
   "cell_type": "code",
   "execution_count": 1,
   "id": "96dd4b6a",
   "metadata": {},
   "outputs": [
    {
     "data": {
      "text/plain": [
       "Ellipsis"
      ]
     },
     "execution_count": 1,
     "metadata": {},
     "output_type": "execute_result"
    }
   ],
   "source": [
    "# Imports\n",
    "from convnwb.io import load_nwbfile\n",
    "\n",
    "..."
   ]
  },
  {
   "cell_type": "code",
   "execution_count": 53,
   "id": "7f2530c5",
   "metadata": {},
   "outputs": [],
   "source": [
    "import numpy as np\n",
    "import os\n",
    "import matplotlib.pyplot as plt\n",
    "\n",
    "import seaborn as sns\n",
    "sns.set_context('talk')\n",
    "\n",
    "from convnwb.io import load_nwbfile\n",
    "from convnwb.io import get_files, save_json\n",
    "\n",
    "from spiketools.measures.trials import compute_segment_frs\n",
    "from spiketools.measures.spikes import compute_firing_rate\n",
    "from spiketools.utils.extract import get_range\n",
    "from spiketools.utils.epoch import epoch_spikes_by_range, epoch_spikes_by_event\n",
    "from spiketools.plts.utils import save_figure"
   ]
  },
  {
   "cell_type": "code",
   "execution_count": 3,
   "id": "7710c102",
   "metadata": {},
   "outputs": [],
   "source": [
    "config Completer.use_jedi = False"
   ]
  },
  {
   "cell_type": "code",
   "execution_count": 4,
   "id": "e5e35eec",
   "metadata": {},
   "outputs": [],
   "source": [
    "import sys\n",
    "sys.path.append('../code')\n",
    "from plts import plot_spikes_trial"
   ]
  },
  {
   "cell_type": "markdown",
   "id": "c3e6d9ec",
   "metadata": {},
   "source": [
    "## Settings"
   ]
  },
  {
   "cell_type": "code",
   "execution_count": 57,
   "id": "79d9318a",
   "metadata": {},
   "outputs": [],
   "source": [
    "# Define the base data folder\n",
    "data_folder = '/Users/weijiazhang/Data/Train_NWB'\n",
    "# Define subject information\n",
    "session = {\n",
    "    'experiment' : 'TRAIN',\n",
    "    'subject' : 'R1027J',\n",
    "    'session' : 0    \n",
    "}"
   ]
  },
  {
   "cell_type": "code",
   "execution_count": 58,
   "id": "c8a8b830",
   "metadata": {},
   "outputs": [],
   "source": [
    "# Set which example unit to extract\n",
    "uind = 2"
   ]
  },
  {
   "cell_type": "markdown",
   "id": "7b5d2dcd",
   "metadata": {},
   "source": [
    "## Load Data"
   ]
  },
  {
   "cell_type": "code",
   "execution_count": 69,
   "id": "f913158e",
   "metadata": {},
   "outputs": [
    {
     "data": {
      "text/plain": [
       "trials pynwb.epoch.TimeIntervals at 0x16064266976\n",
       "Fields:\n",
       "  colnames: ['start_time' 'stop_time' 'drive_type' 'feedback_start_time'\n",
       " 'feedback_stop_time' 'fixation_start_time' 'fixation_stop_time'\n",
       " 'hold_start_time' 'hold_stop_time' 'movement_start_time'\n",
       " 'movement_stop_time' 'object' 'object_position' 'response_error'\n",
       " 'response_position' 'response_time' 'trial_type']\n",
       "  columns: (\n",
       "    start_time <class 'hdmf.common.table.VectorData'>,\n",
       "    stop_time <class 'hdmf.common.table.VectorData'>,\n",
       "    drive_type <class 'hdmf.common.table.VectorData'>,\n",
       "    feedback_start_time <class 'hdmf.common.table.VectorData'>,\n",
       "    feedback_stop_time <class 'hdmf.common.table.VectorData'>,\n",
       "    fixation_start_time <class 'hdmf.common.table.VectorData'>,\n",
       "    fixation_stop_time <class 'hdmf.common.table.VectorData'>,\n",
       "    hold_start_time <class 'hdmf.common.table.VectorData'>,\n",
       "    hold_stop_time <class 'hdmf.common.table.VectorData'>,\n",
       "    movement_start_time <class 'hdmf.common.table.VectorData'>,\n",
       "    movement_stop_time <class 'hdmf.common.table.VectorData'>,\n",
       "    object <class 'hdmf.common.table.VectorData'>,\n",
       "    object_position <class 'hdmf.common.table.VectorData'>,\n",
       "    response_error <class 'hdmf.common.table.VectorData'>,\n",
       "    response_position <class 'hdmf.common.table.VectorData'>,\n",
       "    response_time <class 'hdmf.common.table.VectorData'>,\n",
       "    trial_type <class 'hdmf.common.table.VectorData'>\n",
       "  )\n",
       "  description: experimental trials\n",
       "  id: id <class 'hdmf.common.table.ElementIdentifiers'>"
      ]
     },
     "execution_count": 69,
     "metadata": {},
     "output_type": "execute_result"
    }
   ],
   "source": [
    "# Load NWB file\n",
    "nwbfile = load_nwbfile(session, data_folder)\n",
    "nwbfile.trials"
   ]
  },
  {
   "cell_type": "code",
   "execution_count": 60,
   "id": "49abc311",
   "metadata": {},
   "outputs": [
    {
     "data": {
      "text/plain": [
       "['TRAIN_EU001_session_0.nwb',\n",
       " 'TRAIN_R1027J_session_0.nwb',\n",
       " 'TRAIN_R1027J_session_1.nwb',\n",
       " 'TRAIN_R1030J_session_0.nwb',\n",
       " 'TRAIN_R1030J_session_1.nwb',\n",
       " 'TRAIN_R1030J_session_2.nwb',\n",
       " 'TRAIN_R1139C_session_0.nwb',\n",
       " 'TRAIN_R1139C_session_1.nwb',\n",
       " 'TRAIN_R1152C_session_0.nwb',\n",
       " 'TRAIN_R1182C_session_0.nwb',\n",
       " 'TRAIN_R1219C_session_0.nwb',\n",
       " 'TRAIN_R1241J_session_0.nwb',\n",
       " 'TRAIN_R1268T_session_0.nwb',\n",
       " 'TRAIN_R1278E_session_0.nwb',\n",
       " 'TRAIN_R1278E_session_1.nwb',\n",
       " 'TRAIN_R1278E_session_3.nwb',\n",
       " 'TRAIN_R1297T_session_0.nwb',\n",
       " 'TRAIN_R1299T_session_0.nwb',\n",
       " 'TRAIN_R1315T_session_0.nwb',\n",
       " 'TRAIN_R1315T_session_1.nwb',\n",
       " 'TRAIN_R1354E_session_0.nwb',\n",
       " 'TRAIN_R1354E_session_1.nwb',\n",
       " 'TRAIN_R1362E_session_0.nwb',\n",
       " 'TRAIN_R1362E_session_1.nwb',\n",
       " 'TRAIN_R1414E_session_1.nwb',\n",
       " 'TRAIN_UT048_session_0.nwb',\n",
       " 'TRAIN_UT088_session_0.nwb']"
      ]
     },
     "execution_count": 60,
     "metadata": {},
     "output_type": "execute_result"
    }
   ],
   "source": [
    "# Get the list of NWB files\n",
    "nwbfiles = get_files(data_folder)\n",
    "nwbfiles"
   ]
  },
  {
   "cell_type": "code",
   "execution_count": 61,
   "id": "ab5e7f8b",
   "metadata": {},
   "outputs": [
    {
     "data": {
      "text/plain": [
       "trials pynwb.epoch.TimeIntervals at 0x16052237840\n",
       "Fields:\n",
       "  colnames: ['start_time' 'stop_time' 'drive_type' 'feedback_start_time'\n",
       " 'feedback_stop_time' 'fixation_start_time' 'fixation_stop_time'\n",
       " 'hold_start_time' 'hold_stop_time' 'movement_start_time'\n",
       " 'movement_stop_time' 'object' 'object_position' 'response_error'\n",
       " 'response_position' 'response_time' 'trial_type']\n",
       "  columns: (\n",
       "    start_time <class 'hdmf.common.table.VectorData'>,\n",
       "    stop_time <class 'hdmf.common.table.VectorData'>,\n",
       "    drive_type <class 'hdmf.common.table.VectorData'>,\n",
       "    feedback_start_time <class 'hdmf.common.table.VectorData'>,\n",
       "    feedback_stop_time <class 'hdmf.common.table.VectorData'>,\n",
       "    fixation_start_time <class 'hdmf.common.table.VectorData'>,\n",
       "    fixation_stop_time <class 'hdmf.common.table.VectorData'>,\n",
       "    hold_start_time <class 'hdmf.common.table.VectorData'>,\n",
       "    hold_stop_time <class 'hdmf.common.table.VectorData'>,\n",
       "    movement_start_time <class 'hdmf.common.table.VectorData'>,\n",
       "    movement_stop_time <class 'hdmf.common.table.VectorData'>,\n",
       "    object <class 'hdmf.common.table.VectorData'>,\n",
       "    object_position <class 'hdmf.common.table.VectorData'>,\n",
       "    response_error <class 'hdmf.common.table.VectorData'>,\n",
       "    response_position <class 'hdmf.common.table.VectorData'>,\n",
       "    response_time <class 'hdmf.common.table.VectorData'>,\n",
       "    trial_type <class 'hdmf.common.table.VectorData'>\n",
       "  )\n",
       "  description: experimental trials\n",
       "  id: id <class 'hdmf.common.table.ElementIdentifiers'>"
      ]
     },
     "execution_count": 61,
     "metadata": {},
     "output_type": "execute_result"
    }
   ],
   "source": [
    "nwbfile.trials"
   ]
  },
  {
   "cell_type": "code",
   "execution_count": 73,
   "id": "58b13b9c",
   "metadata": {},
   "outputs": [
    {
     "data": {
      "text/plain": [
       "array([   8.16142529,   53.38724023,  111.42515259,  155.56404419,\n",
       "        210.72015967,  286.92779248,  332.73256665,  369.12100391,\n",
       "        411.5930127 ,  446.74853662,  495.67109106,  541.59285693,\n",
       "        591.86531641,  624.68600488,  650.55518311,  705.17933594,\n",
       "        738.33300098,  771.0037002 ,  811.60884033,  851.68001831,\n",
       "        900.40258691,  951.84196411,  996.09684741, 1033.88318628,\n",
       "       1071.62352832, 1121.04504761, 1157.86645435, 1194.41987988,\n",
       "       1234.22507666, 1279.84786353, 1326.33658936, 1380.72575879,\n",
       "       1434.44897534, 1472.0533269 , 1515.52526538, 1575.58303564,\n",
       "       1623.75464282, 1674.42807422, 1727.80031519, 1761.13796729,\n",
       "       1811.32543286, 1854.59938501, 1897.97133057, 1939.19142749,\n",
       "       1988.26497144, 2038.0874624 , 2072.64202881, 2115.97997656,\n",
       "       2158.66797021, 2195.82135376, 2250.77948315, 2290.46768799,\n",
       "       2326.85512524, 2382.11223364, 2428.25098413, 2482.65715259,\n",
       "       2524.49520581, 2574.25170166, 2618.07461548, 2666.7461875 ,\n",
       "       2727.21992847, 2765.97419922, 2811.46199561, 2863.57032568])"
      ]
     },
     "execution_count": 73,
     "metadata": {},
     "output_type": "execute_result"
    }
   ],
   "source": [
    "# Get the trail information\n",
    "trial_starts = nwbfile.trials.start_time[:]\n",
    "trial_ends = nwbfile.trials.stop_time[:]\n",
    "hold_starts = nwbfile.trials.hold_start_time[:]\n",
    "hold_stops = nwbfile.trials.hold_stop_time[:]\n",
    "movement_start= nwbfile.trials.movement_start_time[:]\n",
    "movement_end= nwbfile.trials.movement_stop_time[:]\n",
    "fixation_start= nwbfile.trials.fixation_start_time[:]\n",
    "fixation_end= nwbfile.trials.fixation_stop_time[:]\n",
    "feedback_start= nwbfile.trials.feedback_start_time[:]\n",
    "feedback_end= nwbfile.trials.feedback_stop_time[:]\n",
    "response_time= nwbfile.trials.response_time[:]\n",
    "response_time"
   ]
  },
  {
   "cell_type": "code",
   "execution_count": 63,
   "id": "6b8831b4",
   "metadata": {},
   "outputs": [],
   "source": [
    "# Reset movement stops per trial\n",
    "movement_stops_trial = [movement_end[ind] - movement_start[ind] for ind in range(len(movement_end))]\n"
   ]
  },
  {
   "cell_type": "code",
   "execution_count": 78,
   "id": "f22b4cb9",
   "metadata": {},
   "outputs": [
    {
     "data": {
      "text/plain": [
       "array([1734129.50353603, 1734146.45037806, 1734157.54072787,\n",
       "       1734157.54939156, 1734157.55946731, 1734166.29841584,\n",
       "       1734166.32529675, 1734176.60648169, 1734177.47988147,\n",
       "       1734188.605652  , 1734188.61720325, 1734206.89526459,\n",
       "       1734210.4915635 , 1734213.31377834, 1734213.32732631,\n",
       "       1734213.53354928, 1734213.54811097, 1734213.57548237,\n",
       "       1734213.62217688, 1734213.78364162, 1734214.38523091,\n",
       "       1734214.39711906, 1734221.01356272, 1734229.32117228,\n",
       "       1734241.18191791, 1734241.19055087, 1734241.21230075,\n",
       "       1734246.74008834, 1734254.496857  , 1734258.13736119,\n",
       "       1734259.03589091, 1734259.19250109, 1734259.22721428,\n",
       "       1734259.24650766, 1734260.94381831, 1734263.55993306,\n",
       "       1734268.03829544, 1734278.25475297, 1734280.61017841,\n",
       "       1734280.62197541, 1734292.90856134, 1734294.92846259,\n",
       "       1734325.36120056, 1734327.34396084, 1734339.01860528,\n",
       "       1734340.53101278, 1734395.3492865 , 1734408.65930959,\n",
       "       1734462.89660631, 1734463.54685709, 1734463.56132563,\n",
       "       1734463.59843588, 1734478.42725597, 1734479.03090341,\n",
       "       1734479.04767684, 1734487.62854169, 1734493.47627806,\n",
       "       1734494.28396744, 1734494.29831409, 1734494.31075619,\n",
       "       1734494.32034044, 1734530.32445691, 1734557.59589047,\n",
       "       1734581.10876369, 1734581.33867281, 1734599.38820838,\n",
       "       1734599.67934197, 1734599.68914125, 1734605.76893706,\n",
       "       1734611.44722181, 1734611.47511544, 1734611.49001503,\n",
       "       1734613.010562  , 1734614.29849759, 1734614.91007147,\n",
       "       1734625.05384644, 1734625.06161928, 1734643.84735969,\n",
       "       1734653.25281022, 1734684.00190188, 1734684.01861387,\n",
       "       1734693.51696091, 1734712.17042137, 1734717.72493528,\n",
       "       1734719.83570659, 1734720.87868088, 1734720.89480922,\n",
       "       1734726.93976797, 1734781.96954828, 1734781.98309625,\n",
       "       1734786.75898072, 1734787.56682469, 1734787.57432006,\n",
       "       1734795.19389378, 1734797.41258406, 1734797.42376669,\n",
       "       1734799.35086359, 1734823.28785587, 1734832.65727231,\n",
       "       1734832.66679512, 1734832.68255484, 1734837.27725312,\n",
       "       1734837.29138375, 1734837.30121375, 1734839.41370631,\n",
       "       1734841.05541303, 1734841.06843878, 1734841.41671125,\n",
       "       1734842.14800109, 1734843.14818216, 1734843.16787388,\n",
       "       1734853.61504022, 1734858.43685122, 1734866.16760009,\n",
       "       1734869.32739828, 1734871.31593469, 1734871.33571756,\n",
       "       1734873.71495203, 1734883.24352731, 1734889.44353059,\n",
       "       1734927.00905197, 1734933.84864462, 1734955.08491972,\n",
       "       1734955.09769972, 1734955.624578  , 1734958.07403753,\n",
       "       1734958.08319272, 1734968.33866506, 1734968.36044566,\n",
       "       1734996.33109669, 1735006.35122369, 1735009.01560059,\n",
       "       1735014.71941363, 1735038.48455922, 1735038.50305191,\n",
       "       1735050.41823416, 1735075.713728  , 1735075.72125409,\n",
       "       1735089.43211244, 1735089.44132806, 1735089.46360016,\n",
       "       1735089.93401537, 1735090.19372269, 1735090.52021456,\n",
       "       1735090.88040691, 1735092.23623394, 1735095.50631644,\n",
       "       1735096.56720075, 1735097.09134506, 1735099.52430763,\n",
       "       1735137.41678266, 1735161.31273369, 1735163.16444378,\n",
       "       1735163.18702306, 1735176.67771112, 1735178.52373725,\n",
       "       1735199.69795847, 1735212.15233822, 1735212.16699106,\n",
       "       1735212.67384072, 1735212.69027525, 1735213.89059797,\n",
       "       1735216.83511016, 1735218.68890812, 1735221.08144281,\n",
       "       1735221.10248716, 1735221.51235272, 1735222.84732172,\n",
       "       1735228.13497084, 1735233.58961409, 1735233.60002775,\n",
       "       1735243.78085153, 1735243.79424491, 1735243.80776116,\n",
       "       1735243.82785222, 1735244.72097444, 1735251.65487866,\n",
       "       1735261.73699809, 1735261.75119016, 1735271.63200163,\n",
       "       1735271.64665547, 1735278.29504762, 1735289.68077022,\n",
       "       1735289.69096984, 1735290.29225194, 1735290.30119109,\n",
       "       1735293.24088044, 1735295.30065663, 1735295.31358922,\n",
       "       1735296.01707759, 1735299.73256925, 1735299.90613719,\n",
       "       1735303.08817575, 1735303.22798278, 1735308.52091653,\n",
       "       1735308.54782616, 1735308.56189634, 1735309.83858988,\n",
       "       1735312.99510016, 1735313.77188647, 1735313.78325241,\n",
       "       1735313.79775166, 1735316.29390569, 1735317.86249978,\n",
       "       1735330.54184194, 1735330.55843006, 1735331.61753269,\n",
       "       1735334.99707109, 1735343.21424066, 1735357.56985013,\n",
       "       1735357.57836022, 1735388.96068347, 1735399.68740044,\n",
       "       1735412.81590044, 1735412.83675847, 1735412.86084297,\n",
       "       1735429.35567031, 1735430.45126881, 1735434.31274197,\n",
       "       1735443.70974484, 1735443.72366044, 1735443.73988094,\n",
       "       1735444.51528391, 1735445.46287347, 1735456.38579909,\n",
       "       1735456.40564441, 1735463.08472559, 1735474.88507616,\n",
       "       1735474.90200319, 1735474.91155672, 1735491.40226775,\n",
       "       1735493.39728581, 1735513.58742259, 1735524.22855413,\n",
       "       1735531.94655472, 1735533.10801622, 1735533.46633372,\n",
       "       1735533.54252022, 1735533.558709  , 1735536.73359109,\n",
       "       1735536.75060928, 1735552.07469806, 1735574.20802837,\n",
       "       1735602.70982859, 1735610.14213281, 1735634.20071691,\n",
       "       1735658.77788322, 1735659.48272322, 1735664.15385275,\n",
       "       1735684.95461112, 1735684.98210541, 1735685.33778109,\n",
       "       1735687.58891238, 1735687.60119988, 1735687.61268969,\n",
       "       1735687.62817294, 1735690.10656953, 1735690.13283506,\n",
       "       1735691.71218072, 1735701.02172331, 1735705.87050738,\n",
       "       1735709.907238  , 1735710.97961113, 1735724.40397541,\n",
       "       1735725.79092153, 1735727.21184459, 1735736.45309641,\n",
       "       1735766.04318406, 1735772.89104106, 1735775.98890725,\n",
       "       1735785.61584897, 1735789.38365666, 1735789.39468569,\n",
       "       1735804.357721  , 1735804.72983322, 1735804.81418991,\n",
       "       1735805.14326216, 1735805.17281459, 1735805.18617825,\n",
       "       1735805.47470075, 1735805.49497513, 1735805.50781656,\n",
       "       1735807.91804625, 1735809.74253853, 1735816.72199866,\n",
       "       1735816.73268978, 1735829.18897409, 1735837.44485128,\n",
       "       1735837.81004978, 1735837.82215397, 1735839.56898525,\n",
       "       1735839.58843122, 1735842.89795859, 1735843.76463097,\n",
       "       1735850.85901594, 1735850.91956459, 1735850.93455534,\n",
       "       1735853.04812306, 1735854.53386469, 1735854.56722625,\n",
       "       1735874.45197594, 1735875.91953106, 1735890.11650291,\n",
       "       1735891.14989294, 1735891.1576955 , 1735894.7163005 ,\n",
       "       1735897.33081787, 1735905.60245478, 1735907.39585769,\n",
       "       1735910.47559881, 1735910.48567556, 1735915.51426247,\n",
       "       1735928.73089756, 1735928.73919163, 1735930.87460037,\n",
       "       1735930.89097447, 1735931.49327028, 1735940.13658834,\n",
       "       1735977.92900841, 1735978.80566437, 1735987.00185303,\n",
       "       1735987.01994738, 1735991.37238759, 1735997.17917388,\n",
       "       1736000.22902466, 1736006.40826106, 1736006.42331325,\n",
       "       1736041.06386156, 1736041.07203275, 1736041.08527353,\n",
       "       1736055.69979063, 1736061.02071016, 1736061.03944959,\n",
       "       1736061.65191431, 1736066.11000031, 1736077.23355909,\n",
       "       1736086.74139922, 1736086.75304163, 1736086.76975262,\n",
       "       1736097.01425938, 1736097.04024744, 1736105.68706744,\n",
       "       1736113.04711916, 1736126.62609591, 1736128.66043597,\n",
       "       1736132.86898356, 1736140.31499034, 1736154.73885888,\n",
       "       1736154.75243756, 1736154.76767506, 1736154.78180569,\n",
       "       1736155.3998305 , 1736155.81313756, 1736155.88818647,\n",
       "       1736156.2015    , 1736156.92639934, 1736158.00666919,\n",
       "       1736166.63861931, 1736198.45409494, 1736212.95697609,\n",
       "       1736217.64343528, 1736217.65188294, 1736218.89582828,\n",
       "       1736220.22806231, 1736220.23571128, 1736220.26437387,\n",
       "       1736223.33502125, 1736224.89378534, 1736224.90978981,\n",
       "       1736224.92803775, 1736229.97002003, 1736229.98196962,\n",
       "       1736230.22705381, 1736232.8201285 , 1736234.84936925,\n",
       "       1736234.863378  , 1736235.53817306, 1736260.27548422,\n",
       "       1736260.28924622, 1736278.39718112, 1736278.40642747,\n",
       "       1736280.11685603, 1736282.30298344, 1736282.32261272,\n",
       "       1736283.30989291, 1736291.63912947, 1736309.84797847,\n",
       "       1736309.86057416, 1736317.99311056, 1736318.00410888,\n",
       "       1736347.92655569, 1736350.43118809, 1736351.31868878,\n",
       "       1736351.58530781, 1736351.90153962, 1736351.91401144,\n",
       "       1736352.91588303, 1736367.25557919, 1736368.44410591,\n",
       "       1736368.48739063, 1736368.49565397, 1736388.23454403,\n",
       "       1736388.67215062, 1736388.68772603, 1736393.16528872,\n",
       "       1736395.32508916, 1736397.95066628, 1736415.18575334,\n",
       "       1736443.68936697, 1736456.80551703, 1736474.46880975,\n",
       "       1736491.0332795 , 1736492.38904509, 1736514.10114291,\n",
       "       1736569.70701594, 1736584.22894272, 1736602.64392453,\n",
       "       1736617.17755616, 1736618.22172847, 1736618.99065078,\n",
       "       1736619.00084941, 1736645.31308272, 1736670.08455413,\n",
       "       1736697.09600491, 1736697.10820125, 1736707.83888094,\n",
       "       1736708.28379859, 1736708.29402894, 1736725.42574341,\n",
       "       1736725.43526622, 1736735.89505797, 1736745.32895506,\n",
       "       1736745.34529744, 1736748.56880931, 1736753.90862087,\n",
       "       1736765.21907953, 1736765.24439278, 1736768.28358416,\n",
       "       1736768.29648603, 1736781.58396156, 1736781.59449809,\n",
       "       1736782.39893228, 1736783.25976809, 1736785.52542934,\n",
       "       1736787.33803247, 1736846.36006166, 1736846.36844788,\n",
       "       1736846.37787853, 1736846.38629647, 1736856.72867516,\n",
       "       1736860.98250519, 1736868.88737494, 1736870.15709431,\n",
       "       1736870.16701647, 1736872.10938059, 1736878.33122591,\n",
       "       1736879.45130725, 1736879.47090681, 1736879.48328647,\n",
       "       1736880.45410041, 1736881.42694078, 1736881.51652066,\n",
       "       1736885.36119066, 1736895.74771419, 1736895.76743662,\n",
       "       1736901.85048762, 1736903.03560356, 1736906.39486659,\n",
       "       1736906.40976619, 1736910.55982328, 1736911.00925659,\n",
       "       1736912.71086788, 1736913.28477956, 1736913.29826509,\n",
       "       1736922.82029828, 1736939.2051475 , 1736949.06285847,\n",
       "       1736949.07751131, 1736951.97256431, 1736951.98847762,\n",
       "       1736954.93022412, 1736954.94272666, 1736976.04586169,\n",
       "       1736981.72439219, 1736985.61658609, 1736992.74829534,\n",
       "       1736992.84214512, 1736993.48496097, 1736994.43454625,\n",
       "       1736994.44557528, 1736995.51054619, 1737002.60001516,\n",
       "       1737002.61377716, 1737005.71702012, 1737005.73118147,\n",
       "       1737009.12251588, 1737035.75595744, 1737041.87347688,\n",
       "       1737074.99178769, 1737075.01848328, 1737081.78490088,\n",
       "       1737081.79703578, 1737081.81386966, 1737091.09339903,\n",
       "       1737101.73898478, 1737104.58208938, 1737104.91076328,\n",
       "       1737104.93131412, 1737110.41606375, 1737110.43833584,\n",
       "       1737110.45449491, 1737112.27268784, 1737112.38119147,\n",
       "       1737112.40260244, 1737114.02590962, 1737118.63833363,\n",
       "       1737118.90209481, 1737119.23181316, 1737121.02484744,\n",
       "       1737122.78476591, 1737126.18126006, 1737130.01978631,\n",
       "       1737130.04983025, 1737136.03986087, 1737145.76062166,\n",
       "       1737155.27589572, 1737155.28947441, 1737158.89468075,\n",
       "       1737163.14645263, 1737173.43049441, 1737182.60778678,\n",
       "       1737182.624038  , 1737185.80352691, 1737186.12519694,\n",
       "       1737186.44729603, 1737186.5055715 , 1737186.78318784,\n",
       "       1737186.80899259, 1737193.19826109, 1737193.21795281,\n",
       "       1737193.23137691, 1737193.24105431, 1737193.60382703,\n",
       "       1737194.25982222, 1737194.27499728, 1737195.58096578,\n",
       "       1737195.59174806, 1737198.26494125, 1737210.99782919,\n",
       "       1737218.87815366, 1737221.51807744, 1737221.90315197,\n",
       "       1737221.9186045 , 1737235.24392653, 1737239.17820713,\n",
       "       1737239.748493  , 1737257.49460647, 1737257.50548191,\n",
       "       1737259.19532791, 1737263.69565419, 1737265.58266013,\n",
       "       1737265.60772862, 1737265.89382334, 1737265.90881509,\n",
       "       1737265.91956766, 1737265.94761488, 1737265.98045422,\n",
       "       1737266.10155253, 1737284.17511116, 1737286.14957838,\n",
       "       1737289.33389012, 1737290.49525947, 1737294.28791962,\n",
       "       1737298.10512606, 1737298.31844606, 1737298.85724422,\n",
       "       1737307.60206103, 1737313.06975975, 1737313.34101731,\n",
       "       1737326.29490394, 1737333.14982625, 1737337.07925228,\n",
       "       1737337.08935975, 1737337.10109431, 1737337.11666872,\n",
       "       1737354.36619459, 1737359.19544053, 1737359.20477903,\n",
       "       1737359.23341091, 1737359.25985975, 1737359.67964947,\n",
       "       1737359.69169122, 1737362.86184163, 1737376.24881819,\n",
       "       1737378.57622713, 1737400.69395231, 1737402.19637422,\n",
       "       1737403.55373819, 1737404.24542956, 1737440.66104069,\n",
       "       1737445.26940881, 1737445.6624405 ])"
      ]
     },
     "execution_count": 78,
     "metadata": {},
     "output_type": "execute_result"
    }
   ],
   "source": [
    "# Get the spikes\n",
    "spikes = nwbfile.units.get_unit_spike_times(3)\n",
    "spikes"
   ]
  },
  {
   "cell_type": "markdown",
   "id": "41ef98e4",
   "metadata": {},
   "source": [
    "## Example unit"
   ]
  },
  {
   "cell_type": "code",
   "execution_count": 65,
   "id": "2b09649d",
   "metadata": {},
   "outputs": [],
   "source": [
    "# Epoch & reset spikes within each movement period per trial\n",
    "name = nwbfile.session_id + '_U' + str(uind).zfill(2)\n",
    "spikes_trial = epoch_spikes_by_range(spikes, movement_start, movement_end, reset=True)"
   ]
  },
  {
   "cell_type": "code",
   "execution_count": 66,
   "id": "8704f16c",
   "metadata": {},
   "outputs": [
    {
     "ename": "IndexError",
     "evalue": "index 0 is out of bounds for axis 0 with size 0",
     "output_type": "error",
     "traceback": [
      "\u001b[0;31m---------------------------------------------------------------------------\u001b[0m",
      "\u001b[0;31mIndexError\u001b[0m                                Traceback (most recent call last)",
      "Input \u001b[0;32mIn [66]\u001b[0m, in \u001b[0;36m<cell line: 4>\u001b[0;34m()\u001b[0m\n\u001b[1;32m      6\u001b[0m movement_spikes\u001b[38;5;241m.\u001b[39mappend(t_spikes)\n\u001b[1;32m      7\u001b[0m movement_spikes_all \u001b[38;5;241m=\u001b[39m np\u001b[38;5;241m.\u001b[39mconcatenate(movement_spikes)\u001b[38;5;241m.\u001b[39mravel()\n\u001b[0;32m----> 9\u001b[0m frs[ind] \u001b[38;5;241m=\u001b[39m \u001b[43mcompute_firing_rate\u001b[49m\u001b[43m(\u001b[49m\u001b[43mspikes_trial\u001b[49m\u001b[43m[\u001b[49m\u001b[43mind\u001b[49m\u001b[43m]\u001b[49m\u001b[43m)\u001b[49m\n",
      "File \u001b[0;32m~/miniconda3/lib/python3.9/site-packages/spiketools/measures/spikes.py:38\u001b[0m, in \u001b[0;36mcompute_firing_rate\u001b[0;34m(spikes, time_range)\u001b[0m\n\u001b[1;32m     35\u001b[0m \u001b[38;5;28;01mif\u001b[39;00m time_range:\n\u001b[1;32m     36\u001b[0m     spikes \u001b[38;5;241m=\u001b[39m get_range(spikes, time_range[\u001b[38;5;241m0\u001b[39m], time_range[\u001b[38;5;241m1\u001b[39m])\n\u001b[0;32m---> 38\u001b[0m start_time \u001b[38;5;241m=\u001b[39m \u001b[43mspikes\u001b[49m\u001b[43m[\u001b[49m\u001b[38;5;241;43m0\u001b[39;49m\u001b[43m]\u001b[49m \u001b[38;5;28;01mif\u001b[39;00m time_range \u001b[38;5;129;01mis\u001b[39;00m \u001b[38;5;28;01mNone\u001b[39;00m \u001b[38;5;28;01melse\u001b[39;00m time_range[\u001b[38;5;241m0\u001b[39m]\n\u001b[1;32m     39\u001b[0m stop_time \u001b[38;5;241m=\u001b[39m spikes[\u001b[38;5;241m-\u001b[39m\u001b[38;5;241m1\u001b[39m] \u001b[38;5;28;01mif\u001b[39;00m time_range \u001b[38;5;129;01mis\u001b[39;00m \u001b[38;5;28;01mNone\u001b[39;00m \u001b[38;5;28;01melse\u001b[39;00m time_range[\u001b[38;5;241m1\u001b[39m]\n\u001b[1;32m     41\u001b[0m fr \u001b[38;5;241m=\u001b[39m \u001b[38;5;28mlen\u001b[39m(spikes) \u001b[38;5;241m/\u001b[39m (stop_time \u001b[38;5;241m-\u001b[39m start_time)\n",
      "\u001b[0;31mIndexError\u001b[0m: index 0 is out of bounds for axis 0 with size 0"
     ]
    }
   ],
   "source": [
    "# Compute the firing rate per trial\n",
    "movement_spikes = []\n",
    "frs = np.zeros(len(spikes_trial))\n",
    "for ind in range(len(spikes_trial)): \n",
    "    t_spikes = get_range(spikes, movement_start[ind],movement_end[ind])\n",
    "    movement_spikes.append(t_spikes)\n",
    "    movement_spikes_all = np.concatenate(movement_spikes).ravel()\n",
    "    \n",
    "    frs[ind] = compute_firing_rate(spikes_trial[ind])"
   ]
  },
  {
   "cell_type": "code",
   "execution_count": 67,
   "id": "6a82d20a",
   "metadata": {},
   "outputs": [
    {
     "data": {
      "text/plain": [
       "array([], dtype=float64)"
      ]
     },
     "execution_count": 67,
     "metadata": {},
     "output_type": "execute_result"
    }
   ],
   "source": [
    "movement_spikes_all"
   ]
  },
  {
   "cell_type": "code",
   "execution_count": 16,
   "id": "ce2cff09",
   "metadata": {},
   "outputs": [],
   "source": [
    "# Define hlines\n",
    "hlines = [7.5, 15.5]\n",
    "movement_start= list(movement_start)\n",
    "\n",
    "movement_end= list(movement_end)\n",
    "response_time = list(response_time)"
   ]
  },
  {
   "cell_type": "markdown",
   "id": "5bee9195",
   "metadata": {},
   "source": [
    "Figure1: \n",
    "- blue: cell firing\n",
    "- orange:movement start\n",
    "- purple: movement period end"
   ]
  },
  {
   "cell_type": "code",
   "execution_count": 17,
   "id": "cf1343e7",
   "metadata": {},
   "outputs": [
    {
     "data": {
      "image/png": "[encoded data removed]",
      "text/plain": [
       "<Figure size 1296x1440 with 4 Axes>"
      ]
     },
     "metadata": {
      "needs_background": "light"
     },
     "output_type": "display_data"
    }
   ],
   "source": [
    "# Plot the unit report for one example unit \n",
    "plot_spikes_trial(spikes, spikes_trial, movement_spikes_all, movement_start, movement_end, \n",
    "                  movement_stops_trial, response_time, frs, name, hlines)"
   ]
  },
  {
   "cell_type": "code",
   "execution_count": 19,
   "id": "2a0d9636",
   "metadata": {},
   "outputs": [
    {
     "data": {
      "text/plain": [
       "trials pynwb.epoch.TimeIntervals at 0x5098799936\n",
       "Fields:\n",
       "  colnames: ['start_time' 'stop_time' 'drive_type' 'feedback_start_time'\n",
       " 'feedback_stop_time' 'fixation_start_time' 'fixation_stop_time'\n",
       " 'hold_start_time' 'hold_stop_time' 'movement_start_time'\n",
       " 'movement_stop_time' 'object' 'object_position' 'response_error'\n",
       " 'response_position' 'response_time' 'trial_type']\n",
       "  columns: (\n",
       "    start_time <class 'hdmf.common.table.VectorData'>,\n",
       "    stop_time <class 'hdmf.common.table.VectorData'>,\n",
       "    drive_type <class 'hdmf.common.table.VectorData'>,\n",
       "    feedback_start_time <class 'hdmf.common.table.VectorData'>,\n",
       "    feedback_stop_time <class 'hdmf.common.table.VectorData'>,\n",
       "    fixation_start_time <class 'hdmf.common.table.VectorData'>,\n",
       "    fixation_stop_time <class 'hdmf.common.table.VectorData'>,\n",
       "    hold_start_time <class 'hdmf.common.table.VectorData'>,\n",
       "    hold_stop_time <class 'hdmf.common.table.VectorData'>,\n",
       "    movement_start_time <class 'hdmf.common.table.VectorData'>,\n",
       "    movement_stop_time <class 'hdmf.common.table.VectorData'>,\n",
       "    object <class 'hdmf.common.table.VectorData'>,\n",
       "    object_position <class 'hdmf.common.table.VectorData'>,\n",
       "    response_error <class 'hdmf.common.table.VectorData'>,\n",
       "    response_position <class 'hdmf.common.table.VectorData'>,\n",
       "    response_time <class 'hdmf.common.table.VectorData'>,\n",
       "    trial_type <class 'hdmf.common.table.VectorData'>\n",
       "  )\n",
       "  description: experimental trials\n",
       "  id: id <class 'hdmf.common.table.ElementIdentifiers'>"
      ]
     },
     "execution_count": 19,
     "metadata": {},
     "output_type": "execute_result"
    }
   ],
   "source": [
    "nwbfile.trials"
   ]
  },
  {
   "cell_type": "code",
   "execution_count": 56,
   "id": "cc5b4760",
   "metadata": {},
   "outputs": [],
   "source": [
    "for nwbfile in nwbfiles:\n",
    "    nwbfile, io = load_nwbfile(nwbfile, data_folder, return_io=True)\n",
    "    \n",
    "    # Check the number of units & keep indices\n",
    "    n_units = len(nwbfile.units)\n",
    "    #keep_inds = np.where(nwbfile.units.keep[:])[0]\n",
    "    \n",
    "    # Drop sessions with 8 or fewer trials   \n",
    "    n_trials = len(nwbfile.trials)\n",
    "    if n_trials > 8: \n",
    "        move_starts = nwbfile.trials.movement_start_time[:]\n",
    "        move_stops = nwbfile.trials.movement_stop_time[:]\n",
    "        response_time= nwbfile.trials.response_time[:]\n",
    "        #chest_openings = nwbfile.trials['chest_opening_time'][:]\n",
    "        #openings = nwbfile.trials.chest_opening_time[:]\n",
    "\n",
    "        # Reset nav_stops per trial\n",
    "        move_stops_trial = [move_stops[ind] - move_starts[ind] for ind in range(len(move_stops))]\n",
    "\n",
    "        # Add hlines for each block of trials\n",
    "        if (len(move_starts) > 16) and (len(move_starts) <= 24):\n",
    "            hlines = [7.5, 15.5]\n",
    "        elif len(move_starts) > 24:\n",
    "            hlines = [7.5, 15.5, 23.5]\n",
    "\n",
    "        for index in range(n_units):\n",
    "            name = nwbfile.session_id + '_U' + str(index).zfill(2)\n",
    "            spikes = nwbfile.units.get_unit_spike_times(index)\n",
    "            spikes_trial = epoch_spikes_by_range(spikes,  move_starts,  move_stops, reset=True)\n",
    "            tc_spikes = epoch_spikes_by_range(spikes,  move_starts, move_stops, reset=False)\n",
    "\n",
    "            # Compute the overall firing rate and apply the 0.5 Hz threshold \n",
    "            fr_overall = compute_firing_rate(spikes)\n",
    "            if fr_overall > 0.5:\n",
    "\n",
    "                # Compute the firing rate per trial\n",
    "                move_spikes = []\n",
    "                frs = np.zeros(len(spikes_trial))\n",
    "                for ind in range(len(spikes_trial)):\n",
    "                    t_spikes = get_range(spikes, move_starts[ind], move_stops[ind])\n",
    "                    #move_stopsspikes = list(move_stopsspikes)\n",
    "                    move_spikes.append(t_spikes)\n",
    "                    move_spikes_all = np.concatenate(move_spikes).ravel()\n",
    "                    if len(tc_spikes[ind]) != 0: \n",
    "                        frs[ind] = compute_firing_rate(tc_spikes[ind], [move_starts[ind], \n",
    "                                                        move_stops[ind]])\n",
    "                    else:\n",
    "                        frs[ind] = 0\n",
    "                        \n",
    "                # Plot the unit report\n",
    "                move_starts = list(move_starts)\n",
    "                move_stops = list(move_stops)\n",
    "                response_time = list(response_time)\n",
    "                plot_spikes_trial(spikes, spikes_trial, move_spikes_all, move_starts, move_stops, \n",
    "                  move_stops_trial, response_time, frs, name, hlines)\n",
    "                session_folder = os.path.join('/Users/weijiazhang/Data/Train_Figure/00-B_QualityControl/', nwbfile.session_id)\n",
    "                os.makedirs(session_folder, exist_ok=True)\n",
    "                save_figure('unit_report_' + name + '.pdf', session_folder, close=True)"
   ]
  },
  {
   "cell_type": "code",
   "execution_count": null,
   "id": "efdb1080",
   "metadata": {},
   "outputs": [],
   "source": [
    "time_rangelist of [float, float], optional\n",
    "Time range, in seconds, to calculate the firing rate across."
   ]
  },
  {
   "cell_type": "code",
   "execution_count": 51,
   "id": "0ac0aed5",
   "metadata": {},
   "outputs": [
    {
     "data": {
      "text/plain": [
       "array([3.05866672e-01, 4.15333340e-01, 5.33933342e-01, ...,\n",
       "       1.80880620e+03, 1.80901763e+03, 1.80903696e+03])"
      ]
     },
     "execution_count": 51,
     "metadata": {},
     "output_type": "execute_result"
    }
   ],
   "source": [
    "move_spikes_all"
   ]
  },
  {
   "cell_type": "code",
   "execution_count": 47,
   "id": "2233128e",
   "metadata": {},
   "outputs": [
    {
     "data": {
      "text/plain": [
       "array([2803.4371975 , 2803.5406975 , 2803.5718975 , ..., 2814.73586429,\n",
       "       2814.79883095, 2814.85186429])"
      ]
     },
     "execution_count": 47,
     "metadata": {},
     "output_type": "execute_result"
    }
   ],
   "source": [
    "move_spikes_all"
   ]
  },
  {
   "cell_type": "code",
   "execution_count": null,
   "id": "00a3cf42",
   "metadata": {},
   "outputs": [],
   "source": []
  }
 ],
 "metadata": {
  "kernelspec": {
   "display_name": "Python 3 (ipykernel)",
   "language": "python",
   "name": "python3"
  },
  "language_info": {
   "codemirror_mode": {
    "name": "ipython",
    "version": 3
   },
   "file_extension": ".py",
   "mimetype": "text/x-python",
   "name": "python",
   "nbconvert_exporter": "python",
   "pygments_lexer": "ipython3",
   "version": "3.9.12"
  },
  "toc": {
   "base_numbering": 1,
   "nav_menu": {},
   "number_sections": true,
   "sideBar": true,
   "skip_h1_title": false,
   "title_cell": "Table of Contents",
   "title_sidebar": "Contents",
   "toc_cell": false,
   "toc_position": {
    "height": "calc(100% - 180px)",
    "left": "10px",
    "top": "150px",
    "width": "165px"
   },
   "toc_section_display": true,
   "toc_window_display": true
  }
 },
 "nbformat": 4,
 "nbformat_minor": 5
}
