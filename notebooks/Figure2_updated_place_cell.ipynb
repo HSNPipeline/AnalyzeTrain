{
 "cells": [
  {
   "cell_type": "code",
   "execution_count": 75,
   "metadata": {},
   "outputs": [],
   "source": [
    "import numpy as np\n",
    "import pandas as pd \n",
    "import matplotlib.pyplot as plt\n",
    "from scipy import signal\n",
    "\n",
    "from convnwb.io import make_session_name\n",
    "from spiketools.spatial.information import compute_spatial_information\n",
    "from spiketools.stats.permutations import compute_surrogate_stats\n",
    "from spiketools.plts.utils import make_axes, make_grid, get_grid_subplot\n",
    "from spiketools.plts.spatial import plot_heatmap, plot_positions, create_heatmap_title\n",
    "from spiketools.plts.annotate import add_vlines, color_pvalue\n",
    "from spiketools.plts.style import drop_spines\n",
    "from spiketools.plts.stats import plot_surrogates\n",
    "from spiketools.utils.run import create_methods_list\n",
    "\n"
   ]
  },
  {
   "cell_type": "code",
   "execution_count": 220,
   "metadata": {},
   "outputs": [],
   "source": [
    "import sys\n",
    "sys.path.append('../code')\n",
    "from models import  create_df_place, create_df_place_cond, fit_anova_place, fit_anova_place_cond\n",
    "from utils import compute_firing_rates, compute_trial_firing_rates, compute_t_occupancy, circular_shuffle_unit_fr,get_values_by_times\n",
    "sys.path.append('../scripts')\n",
    "from settings import METHODS, SURROGATES\n",
    "\n"
   ]
  },
  {
   "cell_type": "code",
   "execution_count": 221,
   "metadata": {},
   "outputs": [],
   "source": [
    "\n",
    "from scipy.io import loadmat\n",
    "data = loadmat('/Users/weijiazhang/Data/Train/data_matfile/R1219C_0_train_events.mat')\n",
    "behavioral_data = pd.read_csv('/Users/weijiazhang/Data/Train/events/events.csv')\n"
   ]
  },
  {
   "cell_type": "markdown",
   "metadata": {},
   "source": [
    "## Settings "
   ]
  },
  {
   "cell_type": "code",
   "execution_count": 222,
   "metadata": {},
   "outputs": [],
   "source": [
    "epochSize = 0.1\n",
    "numBins = 40\n",
    "kernelSize = 8\n",
    "numBinsPos = 40\n",
    "numBinsSpeed = 25\n",
    "units = 19"
   ]
  },
  {
   "cell_type": "code",
   "execution_count": 223,
   "metadata": {},
   "outputs": [
    {
     "data": {
      "text/plain": [
       "'TRAIN_R1219C_session_0'"
      ]
     },
     "execution_count": 223,
     "metadata": {},
     "output_type": "execute_result"
    }
   ],
   "source": [
    "session = {\n",
    "    'experiment' : 'TRAIN',\n",
    "    'subject' : 'R1219C',\n",
    "    'session' : '0'    \n",
    "}\n",
    "\n",
    "experiment = session['experiment']\n",
    "subject = session['subject']\n",
    "sess = session['session']\n",
    "session_name = make_session_name(subject,experiment,sess)\n",
    "session_name"
   ]
  },
  {
   "cell_type": "code",
   "execution_count": 224,
   "metadata": {},
   "outputs": [],
   "source": [
    "# Get behavioral data\n",
    "df = pd.DataFrame(data['events']['events'][0][0][0])\n",
    "# Convert object columns to string type\n",
    "str_cols = ['subj', 'object','timesfile']\n",
    "for col in str_cols:\n",
    "    df[col] = df[col].str[0].astype(str)\n",
    "# Convert numeric columns to appropriate types\n",
    "int_cols = ['session', 'trialNum', 'blockType', 'driveType'] \n",
    "float_cols = ['object_position', 'response_position', 'response_mstime', 'timesoffset','mstime', 'position','speed']\n",
    "for col in int_cols:\n",
    "    df[col] = df[col].str[0].astype(int)\n",
    "for col in float_cols:\n",
    "    df[col] = df[col].str[0].astype(float)\n"
   ]
  },
  {
   "cell_type": "markdown",
   "metadata": {},
   "source": [
    "## Extract Spikes"
   ]
  },
  {
   "cell_type": "code",
   "execution_count": 225,
   "metadata": {},
   "outputs": [
    {
     "name": "stdout",
     "output_type": "stream",
     "text": [
      "Spike times shape: (1963, 1)\n"
     ]
    },
    {
     "data": {
      "text/plain": [
       "array([[9.72000000e+02],\n",
       "       [5.03536667e+03],\n",
       "       [6.39073333e+03],\n",
       "       ...,\n",
       "       [2.33852447e+06],\n",
       "       [2.33940327e+06],\n",
       "       [2.33970867e+06]])"
      ]
     },
     "execution_count": 225,
     "metadata": {},
     "output_type": "execute_result"
    }
   ],
   "source": [
    "\n",
    "# Access spikeTimes from the nested structured array\n",
    "spike_times = data['events']['spikeData'][0][0]['spikeTimes'][0][0][0][units]\n",
    "print(\"Spike times shape:\", spike_times.shape)\n",
    "spike_times\n"
   ]
  },
  {
   "cell_type": "code",
   "execution_count": 226,
   "metadata": {},
   "outputs": [
    {
     "name": "stdout",
     "output_type": "stream",
     "text": [
      "Spike name: ['NSX124_2']\n"
     ]
    }
   ],
   "source": [
    "spike_name = data['events']['spikeData'][0][0]['spikeNames'][0][0][0][units]\n",
    "print(f\"Spike name: {spike_name}\")\n",
    "\n",
    "# Create DataFrame of electrode labels and clean up types\n",
    "elec_labels = pd.DataFrame(data['events']['spikeData'][0][0]['elecLabels'][0][0][0])\n",
    "elec_labels['ElectrodeID'] = elec_labels['ElectrodeID'].str[0].astype(int)\n",
    "elec_labels['Label'] = elec_labels['Label'].str[0].astype(str)\n",
    "elec_labels = elec_labels[elec_labels['Label'] != 'ainp1']\n",
    "\n",
    "# Find matching electrode label\n",
    "label = None\n",
    "for idx, elec_id in enumerate(elec_labels['ElectrodeID'].values):\n",
    "    if str(elec_id) in str(spike_name):\n",
    "        label = elec_labels['Label'].iloc[idx]\n",
    "        break"
   ]
  },
  {
   "cell_type": "markdown",
   "metadata": {},
   "source": [
    "## Extract Firing Rates"
   ]
  },
  {
   "cell_type": "code",
   "execution_count": 227,
   "metadata": {},
   "outputs": [
    {
     "data": {
      "text/plain": [
       "(7654,)"
      ]
     },
     "execution_count": 227,
     "metadata": {},
     "output_type": "execute_result"
    }
   ],
   "source": [
    "events_fr = data['events']['fr'][0][0]\n",
    "events_fr.shape\n",
    "\n",
    "fr = events_fr[:,units]\n",
    "fr.shape"
   ]
  },
  {
   "cell_type": "markdown",
   "metadata": {},
   "source": [
    "## Extract Position Data"
   ]
  },
  {
   "cell_type": "code",
   "execution_count": 228,
   "metadata": {},
   "outputs": [
    {
     "data": {
      "text/plain": [
       "0      -33.970167\n",
       "1      -33.835283\n",
       "2      -33.584817\n",
       "3      -33.217183\n",
       "4      -32.736283\n",
       "          ...    \n",
       "7649    29.248400\n",
       "7650    30.118150\n",
       "7651    30.887517\n",
       "7652    31.569600\n",
       "7653    32.174733\n",
       "Name: position, Length: 7654, dtype: float64"
      ]
     },
     "execution_count": 228,
     "metadata": {},
     "output_type": "execute_result"
    }
   ],
   "source": [
    "behavioral_data['position']"
   ]
  },
  {
   "cell_type": "code",
   "execution_count": 242,
   "metadata": {},
   "outputs": [],
   "source": [
    "positions = behavioral_data['position']\n",
    "positions = (positions + 34) / 68  # Normalize to 0-1 range\n",
    "positions[positions < 0] = 0  # Clip values below 0\n",
    "positions[positions > 1] = 1 \n",
    "positions \n",
    "\n",
    "ptimes = behavioral_data['timesoffset']"
   ]
  },
  {
   "cell_type": "code",
   "execution_count": 243,
   "metadata": {},
   "outputs": [],
   "source": [
    "edges_pos = np.linspace(0, 100, numBinsPos+1)\n",
    "pos_bin = np.digitize(positions*100, edges_pos)\n",
    "count, _ = np.histogram(positions*100, bins=edges_pos)"
   ]
  },
  {
   "cell_type": "code",
   "execution_count": 244,
   "metadata": {},
   "outputs": [
    {
     "data": {
      "text/plain": [
       "[<matplotlib.lines.Line2D at 0x15c990450>]"
      ]
     },
     "execution_count": 244,
     "metadata": {},
     "output_type": "execute_result"
    },
    {
     "data": {
      "image/png": "[encoded data removed]",
      "text/plain": [
       "<Figure size 1200x200 with 1 Axes>"
      ]
     },
     "metadata": {},
     "output_type": "display_data"
    }
   ],
   "source": [
    "fig,ax = plt.subplots(1,1,figsize=(12,2))\n",
    "plt.plot(positions)"
   ]
  },
  {
   "cell_type": "code",
   "execution_count": 245,
   "metadata": {},
   "outputs": [
    {
     "data": {
      "text/plain": [
       "(7654,)"
      ]
     },
     "execution_count": 245,
     "metadata": {},
     "output_type": "execute_result"
    }
   ],
   "source": [
    "speeds = np.array(behavioral_data['speed'])\n",
    "bad = speeds < 2\n",
    "\n",
    "bad.shape\n"
   ]
  },
  {
   "cell_type": "code",
   "execution_count": 246,
   "metadata": {},
   "outputs": [
    {
     "data": {
      "text/plain": [
       "0       1.169224e+05\n",
       "1       1.170224e+05\n",
       "2       1.171224e+05\n",
       "3       1.172224e+05\n",
       "4       1.173224e+05\n",
       "            ...     \n",
       "7649    2.284070e+06\n",
       "7650    2.284170e+06\n",
       "7651    2.284270e+06\n",
       "7652    2.284370e+06\n",
       "7653    2.284470e+06\n",
       "Name: timesoffset, Length: 7654, dtype: float64"
      ]
     },
     "execution_count": 246,
     "metadata": {},
     "output_type": "execute_result"
    }
   ],
   "source": [
    "behavioral_data['timesoffset']"
   ]
  },
  {
   "cell_type": "code",
   "execution_count": 251,
   "metadata": {},
   "outputs": [
    {
     "data": {
      "text/plain": [
       "array([[9.72000000e+02],\n",
       "       [5.03536667e+03],\n",
       "       [6.39073333e+03],\n",
       "       ...,\n",
       "       [2.33852447e+06],\n",
       "       [2.33940327e+06],\n",
       "       [2.33970867e+06]])"
      ]
     },
     "execution_count": 251,
     "metadata": {},
     "output_type": "execute_result"
    }
   ],
   "source": [
    "spike_times"
   ]
  },
  {
   "cell_type": "code",
   "execution_count": 250,
   "metadata": {},
   "outputs": [
    {
     "ename": "TypeError",
     "evalue": "The parameter value should have type: ['int', 'float', 'numpy.int64', 'numpy.float64'].",
     "output_type": "error",
     "traceback": [
      "\u001b[0;31m---------------------------------------------------------------------------\u001b[0m",
      "\u001b[0;31mTypeError\u001b[0m                                 Traceback (most recent call last)",
      "Cell \u001b[0;32mIn[250], line 2\u001b[0m\n\u001b[1;32m      1\u001b[0m \u001b[38;5;66;03m#spikes = threshold_spikes_by_values(spikes_or, ptimes, speed, min_speed)\u001b[39;00m\n\u001b[0;32m----> 2\u001b[0m spike_positions,indx \u001b[38;5;241m=\u001b[39m get_values_by_times(ptimes, positions, spike_times,time_threshold \u001b[38;5;241m=\u001b[39m \u001b[38;5;241m.1\u001b[39m)\n\u001b[1;32m      3\u001b[0m spike_t \u001b[38;5;241m=\u001b[39m ptimes[indx]\n",
      "File \u001b[0;32m~/code/AnalyzeTrain/notebooks/../code/utils.py:44\u001b[0m, in \u001b[0;36mget_values_by_times\u001b[0;34m(timestamps, values, timepoints, time_threshold, drop_null, axis)\u001b[0m\n\u001b[1;32m     41\u001b[0m \u001b[38;5;28;01mdef\u001b[39;00m \u001b[38;5;21mget_values_by_times\u001b[39m(timestamps, values, timepoints, time_threshold\u001b[38;5;241m=\u001b[39m\u001b[38;5;28;01mNone\u001b[39;00m,\n\u001b[1;32m     42\u001b[0m                         drop_null\u001b[38;5;241m=\u001b[39m\u001b[38;5;28;01mTrue\u001b[39;00m, axis\u001b[38;5;241m=\u001b[39m\u001b[38;5;28;01mNone\u001b[39;00m):\n\u001b[1;32m     43\u001b[0m     axis \u001b[38;5;241m=\u001b[39m check_axis(axis, values)\n\u001b[0;32m---> 44\u001b[0m     inds \u001b[38;5;241m=\u001b[39m get_inds_by_times(timestamps, timepoints, time_threshold, drop_null)\n\u001b[1;32m     46\u001b[0m     \u001b[38;5;28;01mif\u001b[39;00m drop_null:\n\u001b[1;32m     47\u001b[0m         outputs \u001b[38;5;241m=\u001b[39m values\u001b[38;5;241m.\u001b[39mtake(indices\u001b[38;5;241m=\u001b[39minds, axis\u001b[38;5;241m=\u001b[39mcheck_axis(axis, values))\n",
      "File \u001b[0;32m~/anaconda3/lib/python3.11/site-packages/spiketools/utils/extract.py:320\u001b[0m, in \u001b[0;36mget_inds_by_times\u001b[0;34m(timestamps, timepoints, time_threshold, drop_null)\u001b[0m\n\u001b[1;32m    289\u001b[0m \u001b[38;5;28;01mdef\u001b[39;00m \u001b[38;5;21mget_inds_by_times\u001b[39m(timestamps, timepoints, time_threshold\u001b[38;5;241m=\u001b[39m\u001b[38;5;28;01mNone\u001b[39;00m, drop_null\u001b[38;5;241m=\u001b[39m\u001b[38;5;28;01mTrue\u001b[39;00m):\n\u001b[1;32m    290\u001b[0m \u001b[38;5;250m    \u001b[39m\u001b[38;5;124;03m\"\"\"Get indices for a set of specified time points.\u001b[39;00m\n\u001b[1;32m    291\u001b[0m \n\u001b[1;32m    292\u001b[0m \u001b[38;5;124;03m    Parameters\u001b[39;00m\n\u001b[0;32m   (...)\u001b[0m\n\u001b[1;32m    317\u001b[0m \u001b[38;5;124;03m    array([1, 3, 5])\u001b[39;00m\n\u001b[1;32m    318\u001b[0m \u001b[38;5;124;03m    \"\"\"\u001b[39;00m\n\u001b[0;32m--> 320\u001b[0m     \u001b[38;5;28;01mreturn\u001b[39;00m get_inds_by_values(timestamps, timepoints, time_threshold, drop_null)\n",
      "File \u001b[0;32m~/anaconda3/lib/python3.11/site-packages/spiketools/utils/extract.py:281\u001b[0m, in \u001b[0;36mget_inds_by_values\u001b[0;34m(values, select, threshold, drop_null)\u001b[0m\n\u001b[1;32m    279\u001b[0m inds \u001b[38;5;241m=\u001b[39m np\u001b[38;5;241m.\u001b[39mzeros(\u001b[38;5;28mlen\u001b[39m(select), dtype\u001b[38;5;241m=\u001b[39m\u001b[38;5;28mint\u001b[39m)\n\u001b[1;32m    280\u001b[0m \u001b[38;5;28;01mfor\u001b[39;00m ind, value \u001b[38;5;129;01min\u001b[39;00m \u001b[38;5;28menumerate\u001b[39m(select):\n\u001b[0;32m--> 281\u001b[0m     inds[ind] \u001b[38;5;241m=\u001b[39m get_ind_by_value(values, value, threshold\u001b[38;5;241m=\u001b[39mthreshold)\n\u001b[1;32m    283\u001b[0m \u001b[38;5;28;01mif\u001b[39;00m drop_null:\n\u001b[1;32m    284\u001b[0m     inds \u001b[38;5;241m=\u001b[39m inds[inds \u001b[38;5;241m>\u001b[39m\u001b[38;5;241m=\u001b[39m \u001b[38;5;241m0\u001b[39m]\n",
      "File \u001b[0;32m~/anaconda3/lib/python3.11/site-packages/spiketools/utils/extract.py:206\u001b[0m, in \u001b[0;36mget_ind_by_value\u001b[0;34m(values, value, threshold)\u001b[0m\n\u001b[1;32m    179\u001b[0m \u001b[38;5;28;01mdef\u001b[39;00m \u001b[38;5;21mget_ind_by_value\u001b[39m(values, value, threshold\u001b[38;5;241m=\u001b[39m\u001b[38;5;28;01mNone\u001b[39;00m):\n\u001b[1;32m    180\u001b[0m \u001b[38;5;250m    \u001b[39m\u001b[38;5;124;03m\"\"\"Get the index for a set of values closest to a specified value.\u001b[39;00m\n\u001b[1;32m    181\u001b[0m \n\u001b[1;32m    182\u001b[0m \u001b[38;5;124;03m    Parameters\u001b[39;00m\n\u001b[0;32m   (...)\u001b[0m\n\u001b[1;32m    203\u001b[0m \u001b[38;5;124;03m    1\u001b[39;00m\n\u001b[1;32m    204\u001b[0m \u001b[38;5;124;03m    \"\"\"\u001b[39;00m\n\u001b[0;32m--> 206\u001b[0m     check_param_type(value, \u001b[38;5;124m'\u001b[39m\u001b[38;5;124mvalue\u001b[39m\u001b[38;5;124m'\u001b[39m, (\u001b[38;5;28mint\u001b[39m, \u001b[38;5;28mfloat\u001b[39m, np\u001b[38;5;241m.\u001b[39mint64, np\u001b[38;5;241m.\u001b[39mfloat64))\n\u001b[1;32m    207\u001b[0m     \u001b[38;5;28;01massert\u001b[39;00m \u001b[38;5;129;01mnot\u001b[39;00m np\u001b[38;5;241m.\u001b[39misnan(value), \u001b[38;5;124m\"\u001b[39m\u001b[38;5;124mThe given `value` is nan - cannot continue.\u001b[39m\u001b[38;5;124m\"\u001b[39m\n\u001b[1;32m    209\u001b[0m     ind \u001b[38;5;241m=\u001b[39m np\u001b[38;5;241m.\u001b[39mabs(values \u001b[38;5;241m-\u001b[39m value)\u001b[38;5;241m.\u001b[39margmin()\n",
      "File \u001b[0;32m~/anaconda3/lib/python3.11/site-packages/spiketools/utils/checks.py:127\u001b[0m, in \u001b[0;36mcheck_param_type\u001b[0;34m(param, label, types)\u001b[0m\n\u001b[1;32m    125\u001b[0m type_strings \u001b[38;5;241m=\u001b[39m [\u001b[38;5;28mstr\u001b[39m(el)\u001b[38;5;241m.\u001b[39msplit(\u001b[38;5;124m'\u001b[39m\u001b[38;5;124m \u001b[39m\u001b[38;5;124m'\u001b[39m)[\u001b[38;5;241m1\u001b[39m][\u001b[38;5;241m1\u001b[39m:\u001b[38;5;241m-\u001b[39m\u001b[38;5;241m2\u001b[39m] \u001b[38;5;28;01mfor\u001b[39;00m el \u001b[38;5;129;01min\u001b[39;00m types]\n\u001b[1;32m    126\u001b[0m msg \u001b[38;5;241m=\u001b[39m \u001b[38;5;124m\"\u001b[39m\u001b[38;5;124mThe parameter \u001b[39m\u001b[38;5;132;01m{}\u001b[39;00m\u001b[38;5;124m should have type: \u001b[39m\u001b[38;5;132;01m{}\u001b[39;00m\u001b[38;5;124m.\u001b[39m\u001b[38;5;124m\"\u001b[39m\u001b[38;5;241m.\u001b[39mformat(label, type_strings)\n\u001b[0;32m--> 127\u001b[0m \u001b[38;5;28;01mraise\u001b[39;00m \u001b[38;5;167;01mTypeError\u001b[39;00m(msg)\n",
      "\u001b[0;31mTypeError\u001b[0m: The parameter value should have type: ['int', 'float', 'numpy.int64', 'numpy.float64']."
     ]
    }
   ],
   "source": [
    "#spikes = threshold_spikes_by_values(spikes_or, ptimes, speed, min_speed)\n",
    "spike_positions,indx = get_values_by_times(ptimes, positions, spike_times,time_threshold = .1)\n",
    "spike_t = ptimes[indx]"
   ]
  },
  {
   "cell_type": "code",
   "execution_count": 247,
   "metadata": {},
   "outputs": [
    {
     "name": "stdout",
     "output_type": "stream",
     "text": [
      "0       1.170214e+05\n",
      "1       1.171214e+05\n",
      "2       1.172214e+05\n",
      "3       1.173214e+05\n",
      "4       1.174214e+05\n",
      "            ...     \n",
      "7649    2.284169e+06\n",
      "7650    2.284269e+06\n",
      "7651    2.284369e+06\n",
      "7652    2.284469e+06\n",
      "7653    2.284569e+06\n",
      "Name: timesoffset, Length: 7654, dtype: float64\n"
     ]
    }
   ],
   "source": [
    "spike_index = np.arange(1, spike_times.shape[0] + 1, dtype=np.uint32)\n",
    "spike_index.shape\n",
    "spike_in_bin = []\n",
    "spike_index_within_bin = []\n",
    "\n",
    "right_edges =behavioral_data['timesoffset']+99\n",
    "print(right_edges)\n",
    "\n"
   ]
  },
  {
   "cell_type": "code",
   "execution_count": 248,
   "metadata": {},
   "outputs": [],
   "source": [
    "for k in range(len(behavioral_data['mstime'])):\n",
    "    mask = (spike_times >= behavioral_data['timesoffset'][k]) & (spike_times <= right_edges[k])\n",
    "    spike_indices = np.where(mask)[0]  # Get the indices where mask is True\n",
    "    \n",
    "    # Create bin edges from start to end time\n",
    "    bin_edges = np.arange(behavioral_data['timesoffset'][k], right_edges[k] + 1)\n",
    "    # Find indices where spikes occur within the bin\n",
    "    hist_counts, _ = np.histogram(spike_times, bins=bin_edges)\n",
    "    spike_index_within_bin.append(np.where(hist_counts > 0)[0])\n"
   ]
  },
  {
   "cell_type": "code",
   "execution_count": 241,
   "metadata": {},
   "outputs": [],
   "source": [
    "ptimes = behavioral_data['timesoffset']"
   ]
  },
  {
   "cell_type": "code",
   "execution_count": null,
   "metadata": {},
   "outputs": [],
   "source": []
  },
  {
   "cell_type": "code",
   "execution_count": 238,
   "metadata": {},
   "outputs": [
    {
     "data": {
      "image/png": "[encoded data removed]",
      "text/plain": [
       "<Figure size 1000x800 with 1 Axes>"
      ]
     },
     "metadata": {},
     "output_type": "display_data"
    }
   ],
   "source": [
    "# Define bin edges for each event\n",
    "right_edges = behavioral_data['timesoffset'].values + 99  # Gets the right edges of every bin\n",
    "\n",
    "# Initialize containers for spike indices\n",
    "spike_times_array = np.array(spike_times)\n",
    "spikes_in_bin = []\n",
    "spike_index_within_bin = []\n",
    "\n",
    "# Find spikes within each time bin\n",
    "for k in range(len(behavioral_data)):\n",
    "    # Find spikes that fall within this time bin\n",
    "    left_edge = behavioral_data.iloc[k]['timesoffset']\n",
    "    right_edge = right_edges[k]\n",
    "    mask = (spike_times_array >= left_edge) & (spike_times_array <= right_edge)\n",
    "    selected_spikes = np.where(mask)[0]\n",
    "    spikes_in_bin.append(selected_spikes)\n",
    "    \n",
    "    # Find indices within the bin (relative position in 100ms window)\n",
    "    bin_edges = np.linspace(left_edge, right_edge, 101)  # 100 bins within the window\n",
    "    hist_counts, _ = np.histogram(spike_times_array[mask], bins=bin_edges)\n",
    "    spike_index_within_bin.append(np.where(hist_counts > 0)[0])\n",
    "\n",
    "# Get trial information\n",
    "trial_nums = behavioral_data['trialNum'].values\n",
    "\n",
    "# Find bins where trial changes\n",
    "trial_change = np.where(np.diff(np.concatenate([[1], trial_nums])))[0]\n",
    "\n",
    "# Set up indices for upsampling position data\n",
    "left_upsample_idx = np.concatenate([[0], trial_change])+1\n",
    "right_upsample_idx = np.concatenate([trial_change - 1, [len(positions) - 1]])+1\n",
    "\n",
    "position_upsample = []\n",
    "\n",
    "# Process each segment defined by left and right indices\n",
    "for k in range(len(left_upsample_idx)):\n",
    "    # Extract the position segment and resample it to 100 points\n",
    "    segment = positions[left_upsample_idx[k]:right_upsample_idx[k]]\n",
    "    # Using scipy's resample function to get 100 points\n",
    "    from scipy import signal\n",
    "    resampled = signal.resample(segment, 100)\n",
    "    position_upsample.append(resampled)\n",
    "\n",
    "# Concatenate all resampled segments\n",
    "pos_for_resample = np.concatenate(position_upsample)\n",
    "\n",
    "# Clip values greater than 68\n",
    "pos_for_resample[pos_for_resample > 68] = 68\n",
    "\n",
    "# Create a matrix of the correct size (100 x 7654)\n",
    "# Instead of reshaping, we'll create a new array of the right size\n",
    "full_pos_for_resample = np.zeros((100, len(positions)))\n",
    "\n",
    "# Fill in the available data\n",
    "# This assumes we have fewer resampled points than positions\n",
    "# and we're placing them at the beginning\n",
    "num_cols = min(len(pos_for_resample) // 100, len(positions))\n",
    "for i in range(num_cols):\n",
    "    full_pos_for_resample[:, i] = pos_for_resample[i*100:(i+1)*100]\n",
    "\n",
    "# Replace the original array with the correctly sized one\n",
    "pos_for_resample = full_pos_for_resample\n",
    "pos_for_resample.shape\n",
    "\n",
    "# Get spike positions\n",
    "spike_position = [[] for _ in range(len(positions))]\n",
    "for k in range(len(positions)):\n",
    "    # Check if position is decreasing (problem with upsampling)\n",
    "    if np.sum(np.diff(pos_for_resample[:, k])) < 0:\n",
    "        pos_for_resample[:, k] = np.nan\n",
    "    \n",
    "    # Get positions for spikes in this bin\n",
    "    if len(spike_index_within_bin[k]) > 0:\n",
    "        indices = spike_index_within_bin[k].astype(int)\n",
    "        valid_indices = indices[indices < 100]  # Ensure indices are within bounds\n",
    "        if len(valid_indices) > 0:\n",
    "            spike_position[k] = pos_for_resample[valid_indices, k]\n",
    "\n",
    "# Plotting\n",
    "to_plot = 1\n",
    "if to_plot == 1:\n",
    "    spikes_positions_trials = [[] for _ in range(64)]\n",
    "    plt.figure(figsize=(10, 8))\n",
    "    \n",
    "    trial_idx = np.concatenate([[0], trial_change, [len(spike_position) - 1]])\n",
    "    \n",
    "    for num_trial in range(64):\n",
    "        if num_trial < len(trial_idx) - 1:\n",
    "            start_idx = trial_idx[num_trial]\n",
    "            end_idx = trial_idx[num_trial + 1]\n",
    "            \n",
    "            # Collect spike positions for this trial\n",
    "            trial_spikes = []\n",
    "            for pos in spike_position[start_idx:end_idx+1]:\n",
    "                if len(pos) > 0:\n",
    "                    trial_spikes.extend(pos)\n",
    "            \n",
    "            spikes_positions_trials[num_trial] = trial_spikes\n",
    "            \n",
    "            # Plot spikes for this trial\n",
    "            if len(trial_spikes) > 0:\n",
    "                plt.plot(trial_spikes, [num_trial + 1] * len(trial_spikes), 'k.', markersize=8)\n",
    "    \n",
    "    plt.title('Firing by Position, all trials')\n",
    "    plt.ylabel('Trial')\n",
    "    plt.xlabel('Position')\n",
    "    \n",
    "    # Save figure\n",
    "    plot_filename = f\"{session_name}_Raster_all_trials.png\"\n",
    "    plt.savefig(plot_filename)\n",
    "\n"
   ]
  },
  {
   "cell_type": "code",
   "execution_count": 204,
   "metadata": {},
   "outputs": [
    {
     "data": {
      "text/plain": [
       "64"
      ]
     },
     "execution_count": 204,
     "metadata": {},
     "output_type": "execute_result"
    }
   ],
   "source": [
    "len(left_upsample_idx)\n",
    "len(right_upsample_idx)"
   ]
  },
  {
   "cell_type": "code",
   "execution_count": 219,
   "metadata": {},
   "outputs": [
    {
     "name": "stdout",
     "output_type": "stream",
     "text": [
      "1 104\n",
      "Original length: 103, Resampled length: 100\n",
      "105 229\n",
      "Original length: 124, Resampled length: 100\n",
      "230 322\n",
      "Original length: 92, Resampled length: 100\n",
      "323 417\n",
      "Original length: 94, Resampled length: 100\n",
      "418 567\n",
      "Original length: 149, Resampled length: 100\n",
      "568 749\n",
      "Original length: 181, Resampled length: 100\n",
      "750 845\n",
      "Original length: 95, Resampled length: 100\n",
      "846 974\n",
      "Original length: 128, Resampled length: 100\n",
      "975 1097\n",
      "Original length: 122, Resampled length: 100\n",
      "1098 1211\n",
      "Original length: 113, Resampled length: 100\n",
      "1212 1341\n",
      "Original length: 129, Resampled length: 100\n",
      "1342 1467\n",
      "Original length: 125, Resampled length: 100\n",
      "1468 1692\n",
      "Original length: 224, Resampled length: 100\n",
      "1693 1849\n",
      "Original length: 156, Resampled length: 100\n",
      "1850 1955\n",
      "Original length: 105, Resampled length: 100\n",
      "1956 2091\n",
      "Original length: 135, Resampled length: 100\n",
      "2092 2230\n",
      "Original length: 138, Resampled length: 100\n",
      "2231 2348\n",
      "Original length: 117, Resampled length: 100\n",
      "2349 2478\n",
      "Original length: 129, Resampled length: 100\n",
      "2479 2625\n",
      "Original length: 146, Resampled length: 100\n",
      "2626 2731\n",
      "Original length: 105, Resampled length: 100\n",
      "2732 2942\n",
      "Original length: 210, Resampled length: 100\n",
      "2943 3033\n",
      "Original length: 90, Resampled length: 100\n",
      "3034 3175\n",
      "Original length: 141, Resampled length: 100\n",
      "3176 3276\n",
      "Original length: 100, Resampled length: 100\n",
      "3277 3421\n",
      "Original length: 144, Resampled length: 100\n",
      "3422 3533\n",
      "Original length: 111, Resampled length: 100\n",
      "3534 3628\n",
      "Original length: 94, Resampled length: 100\n",
      "3629 3708\n",
      "Original length: 79, Resampled length: 100\n",
      "3709 3837\n",
      "Original length: 128, Resampled length: 100\n",
      "3838 3934\n",
      "Original length: 96, Resampled length: 100\n",
      "3935 4063\n",
      "Original length: 128, Resampled length: 100\n",
      "4064 4170\n",
      "Original length: 106, Resampled length: 100\n",
      "4171 4293\n",
      "Original length: 122, Resampled length: 100\n",
      "4294 4403\n",
      "Original length: 109, Resampled length: 100\n",
      "4404 4474\n",
      "Original length: 70, Resampled length: 100\n",
      "4475 4578\n",
      "Original length: 103, Resampled length: 100\n",
      "4579 4739\n",
      "Original length: 160, Resampled length: 100\n",
      "4740 4834\n",
      "Original length: 94, Resampled length: 100\n",
      "4835 4953\n",
      "Original length: 118, Resampled length: 100\n",
      "4954 5037\n",
      "Original length: 83, Resampled length: 100\n",
      "5038 5146\n",
      "Original length: 108, Resampled length: 100\n",
      "5147 5281\n",
      "Original length: 134, Resampled length: 100\n",
      "5282 5403\n",
      "Original length: 121, Resampled length: 100\n",
      "5404 5567\n",
      "Original length: 163, Resampled length: 100\n",
      "5568 5662\n",
      "Original length: 94, Resampled length: 100\n",
      "5663 5753\n",
      "Original length: 90, Resampled length: 100\n",
      "5754 5968\n",
      "Original length: 214, Resampled length: 100\n",
      "5969 6064\n",
      "Original length: 95, Resampled length: 100\n",
      "6065 6153\n",
      "Original length: 88, Resampled length: 100\n",
      "6154 6279\n",
      "Original length: 125, Resampled length: 100\n",
      "6280 6413\n",
      "Original length: 133, Resampled length: 100\n",
      "6414 6545\n",
      "Original length: 131, Resampled length: 100\n",
      "6546 6672\n",
      "Original length: 126, Resampled length: 100\n",
      "6673 6746\n",
      "Original length: 73, Resampled length: 100\n",
      "6747 6814\n",
      "Original length: 67, Resampled length: 100\n",
      "6815 6907\n",
      "Original length: 92, Resampled length: 100\n",
      "6908 7048\n",
      "Original length: 140, Resampled length: 100\n",
      "7049 7197\n",
      "Original length: 148, Resampled length: 100\n",
      "7198 7287\n",
      "Original length: 89, Resampled length: 100\n",
      "7288 7372\n",
      "Original length: 84, Resampled length: 100\n",
      "7373 7484\n",
      "Original length: 111, Resampled length: 100\n",
      "7485 7568\n",
      "Original length: 83, Resampled length: 100\n",
      "7569 7654\n",
      "Original length: 85, Resampled length: 100\n"
     ]
    },
    {
     "data": {
      "text/plain": [
       "6400"
      ]
     },
     "execution_count": 219,
     "metadata": {},
     "output_type": "execute_result"
    }
   ],
   "source": [
    "import numpy as np\n",
    "from scipy.signal import resample\n",
    "\n",
    "position = behavioral_data['position']+34\n",
    "\n",
    "\n",
    "position_upsample = []\n",
    "for k in range(len(left_upsample_idx)):\n",
    "    segment = position[left_upsample_idx[k]:right_upsample_idx[k]]\n",
    "    print(left_upsample_idx[k],right_upsample_idx[k])\n",
    "    # Resample the segment to 100 points\n",
    "    resampled_segment = resample(segment, 100)\n",
    "    if k == 0:\n",
    "        position_upsample = resampled_segment\n",
    "    else:\n",
    "        position_upsample = np.concatenate((position_upsample, resampled_segment))\n",
    "    print(f\"Original length: {len(segment)}, Resampled length: {len(resampled_segment)}\")\n",
    "\n",
    "\n",
    "# # Flatten to a 1D array of length (100 * len(position))\n",
    "# pos_for_resample = np.concatenate(position_upsample)\n",
    "\n",
    "# # Clip values above 68\n",
    "# pos_for_resample = np.clip(pos_for_resample, None, 68)\n",
    "\n",
    "# # Reshape to (100, len(position))\n",
    "# pos_resample = pos_for_resample.reshape(100, len(position))\n",
    "\n",
    "len(position_upsample)\n"
   ]
  },
  {
   "cell_type": "code",
   "execution_count": 211,
   "metadata": {},
   "outputs": [
    {
     "name": "stderr",
     "output_type": "stream",
     "text": [
      "UsageError: Line magic function `%` not found.\n"
     ]
    }
   ],
   "source": [
    "% In MATLAB, this would be:\n",
    "% position(left_upsample_idx(k):right_upsample_idx(k))\n",
    "% \n",
    "% This is accessing elements of the 'position' array from index left_upsample_idx(k) \n",
    "% to right_upsample_idx(k) inclusive. In Python, the equivalent would be:\n",
    "position[left_upsample_idx[k]:right_upsample_idx[k]]"
   ]
  },
  {
   "cell_type": "code",
   "execution_count": 192,
   "metadata": {},
   "outputs": [
    {
     "data": {
      "text/plain": [
       "64"
      ]
     },
     "execution_count": 192,
     "metadata": {},
     "output_type": "execute_result"
    }
   ],
   "source": [
    "len(left_upsample_idx)"
   ]
  },
  {
   "cell_type": "code",
   "execution_count": null,
   "metadata": {},
   "outputs": [],
   "source": []
  }
 ],
 "metadata": {
  "kernelspec": {
   "display_name": "base",
   "language": "python",
   "name": "python3"
  },
  "language_info": {
   "codemirror_mode": {
    "name": "ipython",
    "version": 3
   },
   "file_extension": ".py",
   "mimetype": "text/x-python",
   "name": "python",
   "nbconvert_exporter": "python",
   "pygments_lexer": "ipython3",
   "version": "3.11.5"
  }
 },
 "nbformat": 4,
 "nbformat_minor": 2
}
